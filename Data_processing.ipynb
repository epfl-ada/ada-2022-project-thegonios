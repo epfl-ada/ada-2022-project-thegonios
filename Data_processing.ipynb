{
 "cells": [
  {
   "cell_type": "code",
   "execution_count": 1,
   "id": "7ef93ec5-a990-41df-9f57-988e0048c881",
   "metadata": {},
   "outputs": [],
   "source": [
    "%matplotlib inline\n",
    "import pandas as pd\n",
    "import numpy as np\n",
    "import matplotlib.pyplot as plt\n",
    "import seaborn as sns\n",
    "import json\n",
    "import re\n",
    "import sys\n",
    "from SPARQLWrapper import SPARQLWrapper, JSON\n",
    "import ast\n",
    "from sklearn.linear_model import LinearRegression\n",
    "from sklearn.decomposition import PCA\n",
    "from sklearn.cluster import KMeans\n",
    "from sklearn import preprocessing\n",
    "from wordcloud import WordCloud\n",
    "\n",
    "import datetime as dt"
   ]
  },
  {
   "cell_type": "markdown",
   "id": "c2ea030d",
   "metadata": {},
   "source": [
    "Supplementary Packages needed : <br>\n",
    "* SPARQLWrapper\n",
    "* scikit-learn\n",
    "* wordcloud"
   ]
  },
  {
   "cell_type": "markdown",
   "id": "53c57563-208a-41ff-91cd-90928b4bff75",
   "metadata": {},
   "source": [
    "# **STEP 0: Data opening and preprocessing**"
   ]
  },
  {
   "cell_type": "markdown",
   "id": "d0e0d5fd-f312-4585-888b-b49df98d62e0",
   "metadata": {},
   "source": [
    "The data in the CMU Movie Summary Corpus contains a collection of 42,306 movie plot summaries and metadata at both the movie level (including box office revenues, genre and date of release) and character level (including gender and estimated age):\n",
    "\n",
    "**Data:**\n",
    "1. `plot_summaries.txt.gz` [29 M]: Plot summaries of 42,306 movies extracted from the November 2, 2012 dump of English-language Wikipedia.  Each line contains the Wikipedia movie ID (which indexes into movie.metadata.tsv) followed by the summary.\n",
    "2. `corenlp_plot_summaries.tar.gz` [628 M, separate download]: to downlaod if considered useful... The plot summaries from above, run through the Stanford CoreNLP pipeline (tagging, parsing, NER and coref). Each filename begins with the Wikipedia movie ID (which indexes into movie.metadata.tsv).\n",
    "\n",
    "**Metadata:**\n",
    "1. `movie.metadata.tsv.gz` [3.4 M]: Metadata for 81,741 movies, extracted from the Noverber 4, 2012 dump of Freebase.  Tab-separated; columns:\n",
    "- Wikipedia movie ID\n",
    "- Freebase movie ID\n",
    "- Movie name\n",
    "- Movie release date\n",
    "- Movie box office revenue\n",
    "- Movie runtime\n",
    "- Movie languages (Freebase ID:name tuples)\n",
    "- Movie countries (Freebase ID:name tuples)\n",
    "- Movie genres (Freebase ID:name tuples)\n",
    "2. `character.metadata.tsv.gz` [14 M]: Metadata for 450,669 characters aligned to the movies above, extracted from the Noverber 4, 2012 dump of Freebase.  Tab-separated; columns:\n",
    "- Wikipedia movie ID\n",
    "- Freebase movie ID\n",
    "- Movie release date\n",
    "- Character name\n",
    "- Actor date of birth\n",
    "- Actor gender\n",
    "- Actor height (in meters)\n",
    "- Actor ethnicity (Freebase ID)\n",
    "- Actor name\n",
    "- Actor age at movie release\n",
    "- Freebase character/actor map ID\n",
    "- Freebase character ID\n",
    "- Freebase actor ID\n",
    "\n",
    "**Test data**:\n",
    "1. `tvtropes.clusters.txt`: 72 character types drawn from tvtropes.com, along with 501 instances of those types.  The ID field indexes into the Freebase character/actor map ID in character.metadata.tsv.\n",
    "2. `name.clusters.txt`: 970 unique character names used in at least two different movies, along with 2,666 instances of those types. The ID field indexes into the Freebase character/actor map ID in character.metadata.tsv."
   ]
  },
  {
   "cell_type": "markdown",
   "id": "8b8329af-cba4-41bd-8f16-0ddcf5cf155d",
   "metadata": {},
   "source": [
    "## Data loading"
   ]
  },
  {
   "cell_type": "code",
   "execution_count": 2,
   "id": "ade4a3e6",
   "metadata": {},
   "outputs": [],
   "source": [
    "data_folder = './MovieSummaries/'"
   ]
  },
  {
   "cell_type": "markdown",
   "id": "22e0f4c4",
   "metadata": {},
   "source": [
    "#### `characters`"
   ]
  },
  {
   "cell_type": "code",
   "execution_count": 3,
   "id": "8d9e51e6",
   "metadata": {},
   "outputs": [],
   "source": [
    "characters = pd.read_csv(data_folder + 'character.metadata.tsv', sep='\\t', header=None)\n",
    "characters.columns =['Wikipedia_movie_ID', \n",
    "                     'Freebase_movie_ID', \n",
    "                     'Movie_release_date', \n",
    "                     'Character_name', \n",
    "                     'Actor_birth', \n",
    "                     'Actor_Gender', \n",
    "                     'Actor Height', \n",
    "                     'Actor_Ethnicity', \n",
    "                     'Actor_Name', \n",
    "                     'Age_at_movie_release', \n",
    "                     'Freebase_character_actor_map_ID', \n",
    "                     'Freebase_character_ID', \n",
    "                     'Freebase_actor_ID']"
   ]
  },
  {
   "cell_type": "markdown",
   "id": "e7c4a615",
   "metadata": {},
   "source": [
    "#### `movies`"
   ]
  },
  {
   "cell_type": "code",
   "execution_count": 4,
   "id": "b0bcf410",
   "metadata": {},
   "outputs": [],
   "source": [
    "movies = pd.read_csv(data_folder + 'movie.metadata.tsv', sep='\\t', header=None)\n",
    "movies.columns =['Wikipedia_movie_ID', \n",
    "                 'Freebase_movie_ID', \n",
    "                 'Name',\n",
    "                 'Release_date', \n",
    "                 'Box_office_revenue', \n",
    "                 'Runtime',\n",
    "                 'Languages', \n",
    "                 'Countries', \n",
    "                 'Genres']"
   ]
  },
  {
   "cell_type": "markdown",
   "id": "64b0c50f",
   "metadata": {},
   "source": [
    "#### `plot_summaries`"
   ]
  },
  {
   "cell_type": "code",
   "execution_count": 5,
   "id": "56f8c6ca",
   "metadata": {},
   "outputs": [],
   "source": [
    "plot_summaries = pd.read_csv(data_folder + 'plot_summaries.txt', sep='\\t', header=None)\n",
    "plot_summaries.columns =['Wikipedia_movie_ID', 'Summary']"
   ]
  },
  {
   "cell_type": "markdown",
   "id": "b6e0fa36",
   "metadata": {},
   "source": [
    "#### `character_types`"
   ]
  },
  {
   "cell_type": "code",
   "execution_count": 6,
   "id": "ebafe707",
   "metadata": {},
   "outputs": [],
   "source": [
    "character_types = pd.read_csv(data_folder + 'tvtropes.clusters.txt', sep='\\t', header=None)\n",
    "character_types.columns =['Type', 'Info']"
   ]
  },
  {
   "cell_type": "markdown",
   "id": "3661b4f7",
   "metadata": {},
   "source": [
    "#### `name_clusters`"
   ]
  },
  {
   "cell_type": "code",
   "execution_count": 7,
   "id": "a6f32f17",
   "metadata": {},
   "outputs": [],
   "source": [
    "name_clusters = pd.read_csv(data_folder + 'name.clusters.txt', sep='\\t', header=None)\n",
    "name_clusters.columns =['Character_name', 'Freebase_character_actor_map_ID']"
   ]
  },
  {
   "cell_type": "markdown",
   "id": "117c499f",
   "metadata": {},
   "source": [
    "## Dataframes pre-processing "
   ]
  },
  {
   "cell_type": "markdown",
   "id": "34a7da1b",
   "metadata": {},
   "source": [
    "### About Nan values"
   ]
  },
  {
   "cell_type": "markdown",
   "id": "8226972e",
   "metadata": {},
   "source": [
    "Below we will observe that many columns contain null values resulting in a lot of rows having one or more missing features. In order to keep a maximum of information, we will not drop all the rows having at least one null value in their features because the other respective features might still be useful individually depending on what information we want to analyse. In fact we can see in the example below that dropping these rows will result in a big loss of information. However, the null values will be handled directly when working on particular features with subsets of the original dataframe."
   ]
  },
  {
   "cell_type": "code",
   "execution_count": 8,
   "id": "5af3b62d",
   "metadata": {},
   "outputs": [
    {
     "data": {
      "text/plain": [
       "81741"
      ]
     },
     "execution_count": 8,
     "metadata": {},
     "output_type": "execute_result"
    }
   ],
   "source": [
    "len(movies)"
   ]
  },
  {
   "cell_type": "code",
   "execution_count": 9,
   "id": "bd639c4e",
   "metadata": {},
   "outputs": [
    {
     "data": {
      "text/plain": [
       "8243"
      ]
     },
     "execution_count": 9,
     "metadata": {},
     "output_type": "execute_result"
    }
   ],
   "source": [
    "len(movies.dropna())"
   ]
  },
  {
   "cell_type": "markdown",
   "id": "f90c2352",
   "metadata": {},
   "source": [
    "Indeed we would loose almost 90% of the rows if we removed the rows containing at least one NAN value."
   ]
  },
  {
   "cell_type": "markdown",
   "id": "844dbc3d",
   "metadata": {},
   "source": [
    "### `characters` "
   ]
  },
  {
   "cell_type": "markdown",
   "id": "b5973fca",
   "metadata": {},
   "source": [
    "Each row is a character paired to an actor in a single movie, columns correspond to features that describe the characters, the actor that embodies them and the movie in which they appear. To get a better understanding, note that a single character can be played by multiple actors (e.g. James Bond) and that a single actor can have multiple roles. "
   ]
  },
  {
   "cell_type": "code",
   "execution_count": 10,
   "id": "6247db1b",
   "metadata": {},
   "outputs": [
    {
     "data": {
      "text/html": [
       "<div>\n",
       "<style scoped>\n",
       "    .dataframe tbody tr th:only-of-type {\n",
       "        vertical-align: middle;\n",
       "    }\n",
       "\n",
       "    .dataframe tbody tr th {\n",
       "        vertical-align: top;\n",
       "    }\n",
       "\n",
       "    .dataframe thead th {\n",
       "        text-align: right;\n",
       "    }\n",
       "</style>\n",
       "<table border=\"1\" class=\"dataframe\">\n",
       "  <thead>\n",
       "    <tr style=\"text-align: right;\">\n",
       "      <th></th>\n",
       "      <th>Wikipedia_movie_ID</th>\n",
       "      <th>Freebase_movie_ID</th>\n",
       "      <th>Movie_release_date</th>\n",
       "      <th>Character_name</th>\n",
       "      <th>Actor_birth</th>\n",
       "      <th>Actor_Gender</th>\n",
       "      <th>Actor Height</th>\n",
       "      <th>Actor_Ethnicity</th>\n",
       "      <th>Actor_Name</th>\n",
       "      <th>Age_at_movie_release</th>\n",
       "      <th>Freebase_character_actor_map_ID</th>\n",
       "      <th>Freebase_character_ID</th>\n",
       "      <th>Freebase_actor_ID</th>\n",
       "    </tr>\n",
       "  </thead>\n",
       "  <tbody>\n",
       "    <tr>\n",
       "      <th>0</th>\n",
       "      <td>975900</td>\n",
       "      <td>/m/03vyhn</td>\n",
       "      <td>2001-08-24</td>\n",
       "      <td>Akooshay</td>\n",
       "      <td>1958-08-26</td>\n",
       "      <td>F</td>\n",
       "      <td>1.62</td>\n",
       "      <td>NaN</td>\n",
       "      <td>Wanda De Jesus</td>\n",
       "      <td>42.0</td>\n",
       "      <td>/m/0bgchxw</td>\n",
       "      <td>/m/0bgcj3x</td>\n",
       "      <td>/m/03wcfv7</td>\n",
       "    </tr>\n",
       "  </tbody>\n",
       "</table>\n",
       "</div>"
      ],
      "text/plain": [
       "   Wikipedia_movie_ID Freebase_movie_ID Movie_release_date Character_name  \\\n",
       "0              975900         /m/03vyhn         2001-08-24       Akooshay   \n",
       "\n",
       "  Actor_birth Actor_Gender  Actor Height Actor_Ethnicity      Actor_Name  \\\n",
       "0  1958-08-26            F          1.62             NaN  Wanda De Jesus   \n",
       "\n",
       "   Age_at_movie_release Freebase_character_actor_map_ID Freebase_character_ID  \\\n",
       "0                  42.0                      /m/0bgchxw            /m/0bgcj3x   \n",
       "\n",
       "  Freebase_actor_ID  \n",
       "0        /m/03wcfv7  "
      ]
     },
     "execution_count": 10,
     "metadata": {},
     "output_type": "execute_result"
    }
   ],
   "source": [
    "characters.head(1)"
   ]
  },
  {
   "cell_type": "code",
   "execution_count": 11,
   "id": "e9959c7f",
   "metadata": {},
   "outputs": [
    {
     "name": "stdout",
     "output_type": "stream",
     "text": [
      "<class 'pandas.core.frame.DataFrame'>\n",
      "RangeIndex: 450669 entries, 0 to 450668\n",
      "Data columns (total 13 columns):\n",
      " #   Column                           Non-Null Count   Dtype  \n",
      "---  ------                           --------------   -----  \n",
      " 0   Wikipedia_movie_ID               450669 non-null  int64  \n",
      " 1   Freebase_movie_ID                450669 non-null  object \n",
      " 2   Movie_release_date               440674 non-null  object \n",
      " 3   Character_name                   192794 non-null  object \n",
      " 4   Actor_birth                      344524 non-null  object \n",
      " 5   Actor_Gender                     405060 non-null  object \n",
      " 6   Actor Height                     154824 non-null  float64\n",
      " 7   Actor_Ethnicity                  106058 non-null  object \n",
      " 8   Actor_Name                       449441 non-null  object \n",
      " 9   Age_at_movie_release             292556 non-null  float64\n",
      " 10  Freebase_character_actor_map_ID  450669 non-null  object \n",
      " 11  Freebase_character_ID            192804 non-null  object \n",
      " 12  Freebase_actor_ID                449854 non-null  object \n",
      "dtypes: float64(2), int64(1), object(10)\n",
      "memory usage: 44.7+ MB\n"
     ]
    }
   ],
   "source": [
    "characters.info()"
   ]
  },
  {
   "cell_type": "markdown",
   "id": "5df39a71",
   "metadata": {},
   "source": [
    "Note that only the features `Wikipedia_movie_ID`, `Freebase_movie_ID` and `Freebase_character_actor_map_ID` do not contain missing values. <br>\n",
    "In particular, we can see below that only `Freebase_character_actor_map_ID` values are all unique. In fact this mapping ID is uniquely created for each single movie. <br>\n",
    "Surprisingly the number of unique `Actor_Name` is greater than the number of unique `Character_name`. However, the number of unique `Freebase_character_ID` is lower than the `Freebase_actor_ID`. The latter was expected since an actor can have multiple roles. <br>\n",
    "We can also observe that the difference between the number of actor names (134'078) and the number of freebase actor ids (135'760, unique by definition) is different. Thus we can expect some actors to have the same name but to be different people having different ids (observe in the second cell below that there are 1240 names of actors that are associated to 2 or more different freebase actor ids.). The same is expected for characters but with more occurence. For example 'Bob' is more likely to be the name of multiple different characters than 'Roger Moore' is to be the name of multiple different actors."
   ]
  },
  {
   "cell_type": "code",
   "execution_count": 12,
   "id": "efce430e",
   "metadata": {},
   "outputs": [
    {
     "data": {
      "text/plain": [
       "Wikipedia_movie_ID                  64330\n",
       "Freebase_movie_ID                   64330\n",
       "Movie_release_date                  18476\n",
       "Character_name                     126629\n",
       "Actor_birth                         29494\n",
       "Actor_Gender                            2\n",
       "Actor Height                          221\n",
       "Actor_Ethnicity                       479\n",
       "Actor_Name                         134078\n",
       "Age_at_movie_release                  155\n",
       "Freebase_character_actor_map_ID    450669\n",
       "Freebase_character_ID              183435\n",
       "Freebase_actor_ID                  135760\n",
       "dtype: int64"
      ]
     },
     "execution_count": 12,
     "metadata": {},
     "output_type": "execute_result"
    }
   ],
   "source": [
    "characters.nunique()"
   ]
  },
  {
   "cell_type": "markdown",
   "id": "7dad1f0a",
   "metadata": {},
   "source": [
    "The output below is a good example to understand the subtility of this dataframe. Each row contains the information of an actor that played a particular character in a particular movie. Thus, if an actor plays the same character that appears in n movies, there will be n rows to describe their relationships where not only the features related to the movie will change, but also their map ids. This shows the specificity of this feature that describes a unique triplet of [actor, character, movie]."
   ]
  },
  {
   "cell_type": "code",
   "execution_count": 13,
   "id": "b7363899",
   "metadata": {
    "scrolled": true
   },
   "outputs": [
    {
     "data": {
      "text/html": [
       "<div>\n",
       "<style scoped>\n",
       "    .dataframe tbody tr th:only-of-type {\n",
       "        vertical-align: middle;\n",
       "    }\n",
       "\n",
       "    .dataframe tbody tr th {\n",
       "        vertical-align: top;\n",
       "    }\n",
       "\n",
       "    .dataframe thead th {\n",
       "        text-align: right;\n",
       "    }\n",
       "</style>\n",
       "<table border=\"1\" class=\"dataframe\">\n",
       "  <thead>\n",
       "    <tr style=\"text-align: right;\">\n",
       "      <th></th>\n",
       "      <th>Wikipedia_movie_ID</th>\n",
       "      <th>Freebase_movie_ID</th>\n",
       "      <th>Movie_release_date</th>\n",
       "      <th>Character_name</th>\n",
       "      <th>Actor_birth</th>\n",
       "      <th>Actor_Gender</th>\n",
       "      <th>Actor Height</th>\n",
       "      <th>Actor_Ethnicity</th>\n",
       "      <th>Actor_Name</th>\n",
       "      <th>Age_at_movie_release</th>\n",
       "      <th>Freebase_character_actor_map_ID</th>\n",
       "      <th>Freebase_character_ID</th>\n",
       "      <th>Freebase_actor_ID</th>\n",
       "    </tr>\n",
       "  </thead>\n",
       "  <tbody>\n",
       "    <tr>\n",
       "      <th>31341</th>\n",
       "      <td>6446062</td>\n",
       "      <td>/m/01kf3_9</td>\n",
       "      <td>1979-06-26</td>\n",
       "      <td>James Bond</td>\n",
       "      <td>1927-10-14</td>\n",
       "      <td>M</td>\n",
       "      <td>1.85</td>\n",
       "      <td>/m/02w7gg</td>\n",
       "      <td>Roger Moore</td>\n",
       "      <td>51.0</td>\n",
       "      <td>/m/02xg8wv</td>\n",
       "      <td>/m/0clpml</td>\n",
       "      <td>/m/017lqp</td>\n",
       "    </tr>\n",
       "    <tr>\n",
       "      <th>69068</th>\n",
       "      <td>6446044</td>\n",
       "      <td>/m/0g5pv3</td>\n",
       "      <td>1981-06-24</td>\n",
       "      <td>James Bond</td>\n",
       "      <td>1927-10-14</td>\n",
       "      <td>M</td>\n",
       "      <td>1.85</td>\n",
       "      <td>/m/02w7gg</td>\n",
       "      <td>Roger Moore</td>\n",
       "      <td>53.0</td>\n",
       "      <td>/m/02xg8x3</td>\n",
       "      <td>/m/0clpml</td>\n",
       "      <td>/m/017lqp</td>\n",
       "    </tr>\n",
       "    <tr>\n",
       "      <th>124179</th>\n",
       "      <td>583932</td>\n",
       "      <td>/m/02sg5v</td>\n",
       "      <td>1985-05-22</td>\n",
       "      <td>James Bond</td>\n",
       "      <td>1927-10-14</td>\n",
       "      <td>M</td>\n",
       "      <td>1.85</td>\n",
       "      <td>/m/02w7gg</td>\n",
       "      <td>Roger Moore</td>\n",
       "      <td>57.0</td>\n",
       "      <td>/m/02xg8xd</td>\n",
       "      <td>/m/0clpml</td>\n",
       "      <td>/m/017lqp</td>\n",
       "    </tr>\n",
       "    <tr>\n",
       "      <th>149343</th>\n",
       "      <td>6223567</td>\n",
       "      <td>/m/0fxmbn</td>\n",
       "      <td>1974-12-19</td>\n",
       "      <td>James Bond</td>\n",
       "      <td>1927-10-14</td>\n",
       "      <td>M</td>\n",
       "      <td>1.85</td>\n",
       "      <td>/m/02w7gg</td>\n",
       "      <td>Roger Moore</td>\n",
       "      <td>47.0</td>\n",
       "      <td>/m/02xg8w8</td>\n",
       "      <td>/m/0clpml</td>\n",
       "      <td>/m/017lqp</td>\n",
       "    </tr>\n",
       "    <tr>\n",
       "      <th>202846</th>\n",
       "      <td>6446061</td>\n",
       "      <td>/m/0g5pvv</td>\n",
       "      <td>1973-06-27</td>\n",
       "      <td>James Bond</td>\n",
       "      <td>1927-10-14</td>\n",
       "      <td>M</td>\n",
       "      <td>1.85</td>\n",
       "      <td>/m/02w7gg</td>\n",
       "      <td>Roger Moore</td>\n",
       "      <td>45.0</td>\n",
       "      <td>/m/02xg8v_</td>\n",
       "      <td>/m/0clpml</td>\n",
       "      <td>/m/017lqp</td>\n",
       "    </tr>\n",
       "    <tr>\n",
       "      <th>234294</th>\n",
       "      <td>541642</td>\n",
       "      <td>/m/02n72k</td>\n",
       "      <td>1983-06-06</td>\n",
       "      <td>James Bond</td>\n",
       "      <td>1927-10-14</td>\n",
       "      <td>M</td>\n",
       "      <td>1.85</td>\n",
       "      <td>/m/02w7gg</td>\n",
       "      <td>Roger Moore</td>\n",
       "      <td>55.0</td>\n",
       "      <td>/m/02k8g9d</td>\n",
       "      <td>/m/0clpml</td>\n",
       "      <td>/m/017lqp</td>\n",
       "    </tr>\n",
       "    <tr>\n",
       "      <th>425243</th>\n",
       "      <td>6446036</td>\n",
       "      <td>/m/0g5ptf</td>\n",
       "      <td>1977-07-07</td>\n",
       "      <td>James Bond</td>\n",
       "      <td>1927-10-14</td>\n",
       "      <td>M</td>\n",
       "      <td>1.85</td>\n",
       "      <td>/m/02w7gg</td>\n",
       "      <td>Roger Moore</td>\n",
       "      <td>49.0</td>\n",
       "      <td>/m/02xg8wk</td>\n",
       "      <td>/m/0clpml</td>\n",
       "      <td>/m/017lqp</td>\n",
       "    </tr>\n",
       "  </tbody>\n",
       "</table>\n",
       "</div>"
      ],
      "text/plain": [
       "        Wikipedia_movie_ID Freebase_movie_ID Movie_release_date  \\\n",
       "31341              6446062        /m/01kf3_9         1979-06-26   \n",
       "69068              6446044         /m/0g5pv3         1981-06-24   \n",
       "124179              583932         /m/02sg5v         1985-05-22   \n",
       "149343             6223567         /m/0fxmbn         1974-12-19   \n",
       "202846             6446061         /m/0g5pvv         1973-06-27   \n",
       "234294              541642         /m/02n72k         1983-06-06   \n",
       "425243             6446036         /m/0g5ptf         1977-07-07   \n",
       "\n",
       "       Character_name Actor_birth Actor_Gender  Actor Height Actor_Ethnicity  \\\n",
       "31341      James Bond  1927-10-14            M          1.85       /m/02w7gg   \n",
       "69068      James Bond  1927-10-14            M          1.85       /m/02w7gg   \n",
       "124179     James Bond  1927-10-14            M          1.85       /m/02w7gg   \n",
       "149343     James Bond  1927-10-14            M          1.85       /m/02w7gg   \n",
       "202846     James Bond  1927-10-14            M          1.85       /m/02w7gg   \n",
       "234294     James Bond  1927-10-14            M          1.85       /m/02w7gg   \n",
       "425243     James Bond  1927-10-14            M          1.85       /m/02w7gg   \n",
       "\n",
       "         Actor_Name  Age_at_movie_release Freebase_character_actor_map_ID  \\\n",
       "31341   Roger Moore                  51.0                      /m/02xg8wv   \n",
       "69068   Roger Moore                  53.0                      /m/02xg8x3   \n",
       "124179  Roger Moore                  57.0                      /m/02xg8xd   \n",
       "149343  Roger Moore                  47.0                      /m/02xg8w8   \n",
       "202846  Roger Moore                  45.0                      /m/02xg8v_   \n",
       "234294  Roger Moore                  55.0                      /m/02k8g9d   \n",
       "425243  Roger Moore                  49.0                      /m/02xg8wk   \n",
       "\n",
       "       Freebase_character_ID Freebase_actor_ID  \n",
       "31341              /m/0clpml         /m/017lqp  \n",
       "69068              /m/0clpml         /m/017lqp  \n",
       "124179             /m/0clpml         /m/017lqp  \n",
       "149343             /m/0clpml         /m/017lqp  \n",
       "202846             /m/0clpml         /m/017lqp  \n",
       "234294             /m/0clpml         /m/017lqp  \n",
       "425243             /m/0clpml         /m/017lqp  "
      ]
     },
     "execution_count": 13,
     "metadata": {},
     "output_type": "execute_result"
    }
   ],
   "source": [
    "characters.loc[characters.Actor_Name == 'Roger Moore'].query(\"Character_name == 'James Bond'\")"
   ]
  },
  {
   "cell_type": "markdown",
   "id": "7c25c8f9",
   "metadata": {},
   "source": [
    "Now that we have understood the structure of the `characters` dataframe, we would like to retrieve the wikidata items corresponding to the freebase IDs contained in `Actor_Ethnicity`, to add an extra feature to our dataframe. To do so we will use the wikidata query service through the sparqlwrapper package."
   ]
  },
  {
   "cell_type": "code",
   "execution_count": 14,
   "id": "694fe222",
   "metadata": {},
   "outputs": [
    {
     "name": "stdout",
     "output_type": "stream",
     "text": [
      "\"/m/0dryh9k\" \"/m/0x67\" \"/m/041rx\" \"/m/02w7gg\" \"/m/033tf_\" \"/m/0xnvg\" \"/m/02ctzb\" \"/m/07hwkr\" \"/m/07bch9\" \"/m/044038p\" \"/m/03bkbh\" \"/m/0d7wh\" \"/m/03ts0c\" \"/m/0222qb\" \"/m/01rv7x\" \"/m/02sch9\" \"/m/04mvp8\" \"/m/03lmx1\" \"/m/065b6q\" \"/m/01qhm_\" \"/m/06mvq\" \"/m/048z7l\" \"/m/0bpjh3\" \"/m/0cqgdq\" \"/m/0g8_vp\" \"/m/09vc4s\" \"/m/013xrm\" \"/m/019kn7\" \"/m/06gbnc\" \"/m/07mqps\" \"/m/01g7zj\" \"/m/01xhh5\" \"/m/03bx0k4\" \"/m/0g96wd\" \"/m/02g7sp\" \"/m/09m6hr\" \"/m/063k3h\" \"/m/0g0x7_\" \"/m/03ttfc\" \"/m/023mqw\" \"/m/0d2by\" \"/m/09kr66\" \"/m/042gtr\" \"/m/025rpb0\" \"/m/08hpk0\" \"/m/038723\" \"/m/0583cz\" \"/m/022dp5\" \"/m/0cmdl5l\" \"/m/03vv99\" \"/m/029f2r\" \"/m/09k5jvk\" \"/m/0cnvdq1\" \"/m/06v41q\" \"/m/04gfy7\" \"/m/0bymc\" \"/m/0cn68\" \"/m/09v5bdn\" \"/m/05l3g_\" \"/m/0268_k\" \"/m/0dqqwy\" \"/m/075_n6\" \"/m/0bbz66j\" \"/m/02rbdlq\" \"/m/0bkbz\" \"/m/01336l\" \"/m/04dbw3\" \"/m/0fqz6\" \"/m/06j2v\" \"/m/046cwm\" \"/m/0g6ff\" \"/m/0432mrk\" \"/m/0gkxl2\" \"/m/02p1pl6\" \"/m/03w9bjf\" \"/m/04tvpv\" \"/m/027n1m6\" \"/m/09743\" \"/m/0bhsnb\" \"/m/013b6_\" \"/m/048sp5\" \"/m/0h2138\" \"/m/02y_9mh\" \"/m/02jvpv\" \"/m/0dbxy\" \"/m/02vsw1\" \"/m/08cjt2\" \"/m/013s3n\" \"/m/09zyn5\" \"/m/0cm7w1\" \"/m/04q7gbh\" \"/m/0fj1k9\" \"/m/0fqp6zk\" \"/m/04f581\" \"/m/012c1l\" \"/m/071x0k\" \"/m/0ffjqy\" \"/m/0ffkb4\" \"/m/0g5y6\" \"/m/0bzkm2\" \"/m/0dllcfn\" \"/m/04y8_bm\" \"/m/03gskx0\" \"/m/0268d21\" \"/m/019lrz\" \"/m/02p4q5p\" \"/m/04czx7\" \"/m/02p656s\" \"/m/0ffhz3\" \"/m/04jq32s\" \"/m/04mmhj\" \"/m/0dj8k3\" \"/m/059_w\" \"/m/01kg2v\" \"/m/0222hg\" \"/m/0f0gt_\" \"/m/01j2qv\" \"/m/0ffjvd\" \"/m/032j30\" \"/m/033njm\" \"/m/0bs7l_v\" \"/m/0g48m4\" \"/m/022fdt\" \"/m/052r3t\" \"/m/0bfjm7\" \"/m/01xttr\" \"/m/04ydrsn\" \"/m/03295l\" \"/m/06lshc\" \"/m/03cbkrf\" \"/m/0283js_\" \"/m/09cqth\" \"/m/04nrnz\" \"/m/05748\" \"/m/025_0f0\" \"/m/01trsl\" \"/m/09vmyh\" \"/m/05sf2x\" \"/m/09gk_6h\" \"/m/078vc\" \"/m/01p7s6\" \"/m/017sq0\" \"/m/018s6c\" \"/m/04y29\" \"/m/067lts\" \"/m/05g0f1\" \"/m/0761bp\" \"/m/09gp4\" \"/m/02qv_h_\" \"/m/0640_7q\" \"/m/0912ll\" \"/m/013b7g\" \"/m/067lrj\" \"/m/0b79c7\" \"/m/09lz9zx\" \"/m/01swvz\" \"/m/01nbcy\" \"/m/0b0gzf\" \"/m/071drf\" \"/m/027vy0s\" \"/m/0150zs\" \"/m/0278pqj\" \"/m/0747611\" \"/m/0c2hxm\" \"/m/0462jl6\" \"/m/074w_m\" \"/m/04ggbzy\" \"/m/0hbz9xw\" \"/m/0152s7\" \"/m/0fng3k\" \"/m/0j4w_\" \"/m/0b98sy\" \"/m/08v2k7\" \"/m/0j6x8\" \"/m/0d9q7j\" \"/m/016f5d\" \"/m/0ffj5g\" \"/m/0338zd\" \"/m/04_tz7\" \"/m/027lf0d\" \"/m/0ch3pqf\" \"/m/06fczy\" \"/m/01mw1s\" \"/m/04608z\" \"/m/04_hr_\" \"/m/026cybk\" \"/m/01hwt\" \"/m/08gzsf\" \"/m/05vhv7\" \"/m/04_bc8\" \"/m/06rd7\" \"/m/0318mh\" \"/m/02wcbj_\" \"/m/0520604\" \"/m/07j80c\" \"/m/078ds\" \"/m/0fk1z\" \"/m/0dv5vw\" \"/m/04znbg\" \"/m/01sq7s\" \"/m/0gf5k1\" \"/m/03pqwy\" \"/m/031_sd\" \"/m/012f86\" \"/m/092h2qt\" \"/m/033qxt\" \"/m/03vghh\" \"/m/0bjbszh\" \"/m/07hyjp\" \"/m/03yk6g\" \"/m/0h1nk0k\" \"/m/04zjjt\" \"/m/02czfr\" \"/m/05qb937\" \"/m/047l_90\" \"/m/0bnzjx\" \"/m/02q206y\" \"/m/0665pp\" \"/m/07gzw5\" \"/m/062_25\" \"/m/0hj35\" \"/m/0bh91q8\" \"/m/01g0y_\" \"/m/07lv5x\" \"/m/0g4pffv\" \"/m/0828vj\" \"/m/07d_p8\" \"/m/04lhn7b\" \"/m/0fq6zlv\" \"/m/0268pvf\" \"/m/0466nw8\" \"/m/04pnf\" \"/m/02p_gby\" \"/m/06k6sl\" \"/m/0738n4\" \"/m/0266mf0\" \"/m/0cx3p\" \"/m/04kbvpz\" \"/m/07s9g04\" \"/m/04l_pt\" \"/m/026c9dq\" \"/m/01ylpf\" \"/m/0g5k7qv\" \"/m/01tyl3\" \"/m/0b__fv3\" \"/m/02vkd28\" \"/m/013s41\" \"/m/047948f\" \"/m/067lwk\" \"/m/03d19xz\" \"/m/02gx2x\" \"/m/021pd\" \"/m/013s2p\" \"/m/09fqz7\" \"/m/0ffhvl\" \"/m/075dhf0\" \"/m/02dd5z\" \"/m/03wbmrc\" \"/m/0br_8h\" \"/m/097nms\" \"/m/02cm28\" \"/m/0h6mqq9\" \"/m/09tqq8q\" \"/m/0301y_\" \"/m/0d8qh0\" \"/m/03h1dq9\" \"/m/03fk0c\" \"/m/026kx7g\" \"/m/04k02l\" \"/m/051wcch\" \"/m/026zlyd\" \"/m/01n94b\" \"/m/04dzwby\" \"/m/0btrm4\" \"/m/03ndvw\" \"/m/0fxmtg\" \"/m/04sfz4s\" \"/m/03cnzsg\" \"/m/03r_k\" \"/m/03f3sf\" \"/m/04lfc70\" \"/m/02vkw95\" \"/m/09y7x4\" \"/m/0fk3s\" \"/m/0h8mzsl\" \"/m/02p444n\" \"/m/03kbr\" \"/m/0bns36b\" \"/m/0bbcnlt\" \"/m/046j25\" \"/m/0dq1q\" \"/m/02rdfpy\" \"/m/05c60ml\" \"/m/0470lk\" \"/m/02p7gyv\" \"/m/0c29q8\" \"/m/03ck8x1\" \"/m/042199j\" \"/m/0bms44\" \"/m/01nft3\" \"/m/01d7kx\" \"/m/01c034\" \"/m/05cc9h\" \"/m/03cl2pz\" \"/m/03x_lpj\" \"/m/02rp50t\" \"/m/03m3p6w\" \"/m/02r_qms\" \"/m/086wp0\" \"/m/065z7w_\" \"/m/01f9bg\" \"/m/03sx6v\" \"/m/034s7b\" \"/m/0987ctr\" \"/m/03gy1h2\" \"/m/0c_lbq\" \"/m/03ftx7\" \"/m/067lv3\" \"/m/0g44f5\" \"/m/03d26m9\" \"/m/0165md\" \"/m/0dqrh8\" \"/m/0cc5y74\" \"/m/0289z8v\" \"/m/01267\" \"/m/0fpjs3j\" \"/m/03cdk7b\" \"/m/0bfrrj\" \"/m/04wy6k\" \"/m/03zcwh\" \"/m/0dc58y8\" \"/m/0g5rkt4\" \"/m/0647lm\" \"/m/04fh1b\" \"/m/047bp1r\" \"/m/09cd0m\" \"/m/03fvrb\" \"/m/025x6k1\" \"/m/02rm7_9\" \"/m/01l0ty\" \"/m/07s49c2\" \"/m/03ty8_\" \"/m/02m0kh\" \"/m/05ms3p0\" \"/m/0gtwjz6\" \"/m/0ftlzz\" \"/m/02pzb09\" \"/m/05sycg\" \"/m/051x6yk\" \"/m/01vsch\" \"/m/04csgrq\" \"/m/064b9n\" \"/m/09chmw\" \"/m/095mw2\" \"/m/09snp5\" \"/m/025tvhm\" \"/m/0c41n\" \"/m/01_5cg\" \"/m/025xss1\" \"/m/0404kdr\" \"/m/0ftwg\" \"/m/0790v\" \"/m/02r3wfk\" \"/m/03h11s3\" \"/m/01vr3v\" \"/m/0c3wsgg\" \"/m/06y24j\" \"/m/0ckk60\" \"/m/03lnnd\" \"/m/04hlx1\" \"/m/062zk4r\" \"/m/097r55\" \"/m/0b8yvr\" \"/m/0br_9j\" \"/m/0xff\" \"/m/01crfj\" \"/m/05mtdy\" \"/m/065577s\" \"/m/0fp4n\" \"/m/0301xt\" \"/m/01kb9y\" \"/m/0268xtg\" \"/m/05y2yj\" \"/m/0ffk5n\" \"/m/02vys3l\" \"/m/01h4n\" \"/m/0bvnws\" \"/m/06dy2k\" \"/m/08yg47\" \"/m/08c25t\" \"/m/0bvjpj\" \"/m/03x1x\" \"/m/0dn1_0\" \"/m/02qv716\" \"/m/02r11hz\" \"/m/06bkf\" \"/m/035b50\" \"/m/0166vx\" \"/m/01g3rx\" \"/m/06w4lv\" \"/m/04wysy\" \"/m/064pj\" \"/m/013z8m\" \"/m/04118b\" \"/m/064rb5l\" \"/m/01ywdy\" \"/m/01flqq\" \"/m/0960kn\" \"/m/0180zw\" \"/m/0463n9y\" \"/m/0d32d1\" \"/m/07n8wy\" \"/m/03q819\" \"/m/06vb7b\" \"/m/02pj9yr\" \"/m/03hf_6z\" \"/m/01km_m\" \"/m/062szv5\" \"/m/07g8yp\" \"/m/0fk55\" \"/m/04lgl9t\" \"/m/0444sm4\" \"/m/03m9my8\" \"/m/03cjjy0\" \"/m/03cmqbt\" \"/m/0b3zsn\" \"/m/03b_13l\" \"/m/0152wh\" \"/m/05ysft4\" \"/m/05sng\" \"/m/059v8\" \"/m/09c8kp\" \"/m/04jtjvt\" \"/m/04c28\" \"/m/03sk2\" \"/m/05ztd1\" \"/m/0dm3xpw\" \"/m/03hjx6f\" \"/m/026d074\" \"/m/03nvq\" \"/m/03nz70\" \"/m/029q52\" \"/m/02wz7j\" \"/m/04kdwcx\" \"/m/02ry8mk\" \"/m/07wsyr\" \"/m/09r2kh\" \"/m/04_8lfc\" \"/m/033qt1\" \"/m/012fh\" \"/m/08j1fb\" \"/m/027936c\" \"/m/0dtkkb\" \"/m/05bzpzx\" \"/m/04lhnps\" \"/m/0fp54b\" \"/m/01hm_\" \"/m/0288fw3\" \"/m/0ft9bs\" \"/m/01gr8h\" \"/m/09g34_\" \"/m/0d8qls\" \"/m/08xbxs\" \"/m/032m0b\" \"/m/04hqxn\" \"/m/068y7m\" \"/m/044bp_\" \"/m/039z49\" \"/m/047q05d\" \"/m/0c50f\" \"/m/01srl7\" \"/m/0fpxlz9\" \"/m/0bdynxs\" \"/m/01gby2\" \"/m/043_z22\" \"/m/03x_fq7\" \"/m/01hphz\" \"/m/033fjj\" \"/m/013y54\" "
     ]
    }
   ],
   "source": [
    "#print all freebase with format corresponding to the wikidata query service. Then manually copy pasted\n",
    "ethnicity_id = list(characters['Actor_Ethnicity'].value_counts().index)\n",
    "for e in ethnicity_id : print('\"'+e+'\"',end=' ') # to copy-paste below"
   ]
  },
  {
   "cell_type": "code",
   "execution_count": 15,
   "id": "2df7248b",
   "metadata": {},
   "outputs": [],
   "source": [
    "#https://rdflib.github.io/sparqlwrapper/\n",
    "\n",
    "#Below the query is made in two steps to respect the maximal size of the function's capacity\n",
    "\n",
    "endpoint_url = \"https://query.wikidata.org/sparql\"\n",
    "\n",
    "query1 = \"\"\"PREFIX wdt: <http://www.wikidata.org/prop/direct/>\n",
    "SELECT DISTINCT ?id ?itemLabel WHERE {\n",
    "  VALUES ?id {\"/m/044038p\" \"/m/075_n6\" \"/m/0bbz66j\" \"/m/02rbdlq\" \"/m/0bkbz\" \"/m/01336l\" \"/m/04dbw3\" \"/m/0fqz6\" \"/m/06j2v\" \"/m/046cwm\" \"/m/0g6ff\" \"/m/0432mrk\" \"/m/0gkxl2\" \"/m/02p1pl6\" \"/m/03w9bjf\" \"/m/04tvpv\" \"/m/027n1m6\" \"/m/09743\" \"/m/0bhsnb\" \"/m/013b6_\" \"/m/048sp5\" \"/m/0h2138\" \"/m/02y_9mh\" \"/m/02jvpv\" \"/m/0dbxy\" \"/m/02vsw1\" \"/m/08cjt2\" \"/m/013s3n\" \"/m/09zyn5\" \"/m/0cm7w1\" \"/m/04q7gbh\" \"/m/0fj1k9\" \"/m/0fqp6zk\" \"/m/04f581\" \"/m/012c1l\" \"/m/071x0k\" \"/m/0ffjqy\" \"/m/0ffkb4\" \"/m/0g5y6\" \"/m/0bzkm2\" \"/m/0dllcfn\" \"/m/04y8_bm\" \"/m/03gskx0\" \"/m/0268d21\" \"/m/019lrz\" \"/m/02p4q5p\" \"/m/04czx7\" \"/m/02p656s\" \"/m/0ffhz3\" \"/m/04jq32s\" \"/m/04mmhj\" \"/m/0dj8k3\" \"/m/059_w\" \"/m/01kg2v\" \"/m/0222hg\" \"/m/0f0gt_\" \"/m/01j2qv\" \"/m/0ffjvd\" \"/m/032j30\" \"/m/033njm\" \"/m/0bs7l_v\" \"/m/0g48m4\" \"/m/022fdt\" \"/m/052r3t\" \"/m/0bfjm7\" \"/m/01xttr\" \"/m/04ydrsn\" \"/m/03295l\" \"/m/06lshc\" \"/m/03cbkrf\" \"/m/0283js_\" \"/m/09cqth\" \"/m/04nrnz\" \"/m/05748\" \"/m/025_0f0\" \"/m/01trsl\" \"/m/09vmyh\" \"/m/05sf2x\" \"/m/09gk_6h\" \"/m/078vc\" \"/m/01p7s6\" \"/m/017sq0\" \"/m/018s6c\" \"/m/04y29\" \"/m/067lts\" \"/m/05g0f1\" \"/m/0761bp\" \"/m/09gp4\" \"/m/02qv_h_\" \"/m/0640_7q\" \"/m/0912ll\" \"/m/013b7g\" \"/m/067lrj\" \"/m/0b79c7\" \"/m/09lz9zx\" \"/m/01swvz\" \"/m/01nbcy\" \"/m/0b0gzf\" \"/m/071drf\" \"/m/027vy0s\" \"/m/0150zs\" \"/m/0278pqj\" \"/m/0747611\" \"/m/0c2hxm\" \"/m/0462jl6\" \"/m/074w_m\" \"/m/04ggbzy\" \"/m/0hbz9xw\" \"/m/0152s7\" \"/m/0fng3k\" \"/m/0j4w_\" \"/m/0b98sy\" \"/m/08v2k7\" \"/m/0j6x8\" \"/m/0d9q7j\" \"/m/016f5d\" \"/m/0ffj5g\" \"/m/0338zd\" \"/m/04_tz7\" \"/m/027lf0d\" \"/m/0ch3pqf\" \"/m/06fczy\" \"/m/01mw1s\" \"/m/04608z\" \"/m/04_hr_\" \"/m/026cybk\" \"/m/01hwt\" \"/m/08gzsf\" \"/m/05vhv7\" \"/m/04_bc8\" \"/m/06rd7\" \"/m/0318mh\" \"/m/02wcbj_\" \"/m/0520604\" \"/m/07j80c\" \"/m/078ds\" \"/m/0fk1z\" \"/m/0dv5vw\" \"/m/04znbg\" \"/m/01sq7s\" \"/m/0gf5k1\" \"/m/03pqwy\" \"/m/031_sd\" \"/m/012f86\" \"/m/092h2qt\" \"/m/033qxt\" \"/m/03vghh\" \"/m/0bjbszh\" \"/m/07hyjp\" \"/m/03yk6g\" \"/m/0h1nk0k\" \"/m/04zjjt\" \"/m/02czfr\" \"/m/05qb937\" \"/m/047l_90\" \"/m/0bnzjx\" \"/m/02q206y\" \"/m/0665pp\" \"/m/07gzw5\" \"/m/062_25\" \"/m/0hj35\" \"/m/0bh91q8\" \"/m/01g0y_\" \"/m/07lv5x\" \"/m/0g4pffv\" \"/m/0828vj\" \"/m/07d_p8\" \"/m/04lhn7b\" \"/m/0fq6zlv\" \"/m/0268pvf\" \"/m/0466nw8\" \"/m/04pnf\" \"/m/02p_gby\" \"/m/06k6sl\" \"/m/0738n4\" \"/m/0266mf0\" \"/m/0cx3p\" \"/m/04kbvpz\" \"/m/07s9g04\" \"/m/04l_pt\" \"/m/026c9dq\" \"/m/01ylpf\" \"/m/0g5k7qv\" \"/m/01tyl3\" \"/m/0b__fv3\" \"/m/02vkd28\" \"/m/013s41\" \"/m/047948f\" \"/m/067lwk\" \"/m/03d19xz\" \"/m/02gx2x\" \"/m/021pd\" \"/m/013s2p\" \"/m/09fqz7\" \"/m/0ffhvl\" \"/m/075dhf0\" \"/m/02dd5z\" \"/m/03wbmrc\" \"/m/0br_8h\" \"/m/097nms\" \"/m/02cm28\" \"/m/0h6mqq9\" \"/m/09tqq8q\" \"/m/0301y_\" \"/m/0d8qh0\" \"/m/03h1dq9\" \"/m/03fk0c\" \"/m/026kx7g\" \"/m/04k02l\" \"/m/051wcch\" \"/m/026zlyd\" \"/m/01n94b\" \"/m/04dzwby\" \"/m/0btrm4\" \"/m/03ndvw\" \"/m/0fxmtg\" \"/m/04sfz4s\" \"/m/03cnzsg\" \"/m/03r_k\" \"/m/03f3sf\" \"/m/04lfc70\" \"/m/02vkw95\" \"/m/09y7x4\" \"/m/0fk3s\" \"/m/0h8mzsl\" \"/m/02p444n\" \"/m/03kbr\" \"/m/0bns36b\" \"/m/0bbcnlt\" \"/m/046j25\" \"/m/0dq1q\" \"/m/02rdfpy\" \"/m/05c60ml\" \"/m/0470lk\" \"/m/02p7gyv\" \"/m/0c29q8\" \"/m/03ck8x1\" \"/m/042199j\" \"/m/0bms44\" \"/m/01nft3\" \"/m/01d7kx\" \"/m/01c034\" \"/m/05cc9h\" \"/m/03cl2pz\" \"/m/03x_lpj\" \"/m/02rp50t\" \"/m/03m3p6w\" \"/m/02r_qms\" \"/m/086wp0\" \"/m/065z7w_\" \"/m/01f9bg\" \"/m/03sx6v\" \"/m/034s7b\" \"/m/0987ctr\" \"/m/03gy1h2\" \"/m/0c_lbq\" \"/m/03ftx7\" \"/m/067lv3\" \"/m/0g44f5\" \"/m/03d26m9\" \"/m/0165md\" \"/m/0dqrh8\" \"/m/0cc5y74\" \"/m/0289z8v\" \"/m/01267\" \"/m/0fpjs3j\" \"/m/03cdk7b\" \"/m/0bfrrj\" \"/m/04wy6k\" \"/m/03zcwh\" \"/m/0dc58y8\" \"/m/0g5rkt4\" \"/m/0647lm\" \"/m/04fh1b\" \"/m/047bp1r\" \"/m/09cd0m\" \"/m/03fvrb\" \"/m/025x6k1\" \"/m/02rm7_9\" \"/m/01l0ty\" \"/m/07s49c2\" \"/m/03ty8_\" \"/m/02m0kh\" \"/m/05ms3p0\" \"/m/0gtwjz6\" \"/m/0ftlzz\" \"/m/02pzb09\" \"/m/05sycg\" \"/m/051x6yk\" \"/m/01vsch\" \"/m/04csgrq\" \"/m/064b9n\" \"/m/09chmw\" \"/m/095mw2\" \"/m/09snp5\" \"/m/025tvhm\" \"/m/0c41n\" \"/m/01_5cg\" \"/m/025xss1\" \"/m/0404kdr\" \"/m/0ftwg\" \"/m/0790v\" \"/m/02r3wfk\" \"/m/03h11s3\" \"/m/01vr3v\" \"/m/0c3wsgg\" \"/m/06y24j\" \"/m/0ckk60\" \"/m/03lnnd\" \"/m/04hlx1\" \"/m/062zk4r\" \"/m/097r55\" \"/m/0b8yvr\" \"/m/0br_9j\" \"/m/0xff\" \"/m/01crfj\" \"/m/05mtdy\" \"/m/065577s\" \"/m/0fp4n\" \"/m/0301xt\" \"/m/01kb9y\" \"/m/0268xtg\" \"/m/05y2yj\" \"/m/0ffk5n\" \"/m/02vys3l\" \"/m/01h4n\" \"/m/0bvnws\" \"/m/06dy2k\" \"/m/08yg47\" \"/m/08c25t\" \"/m/0bvjpj\" \"/m/03x1x\" \"/m/0dn1_0\" \"/m/02qv716\" \"/m/02r11hz\" \"/m/06bkf\" \"/m/035b50\" \"/m/0166vx\" \"/m/01g3rx\" \"/m/06w4lv\" \"/m/04wysy\" \"/m/064pj\" \"/m/013z8m\" \"/m/04118b\" \"/m/064rb5l\" \"/m/01ywdy\" \"/m/01flqq\" \"/m/0960kn\" \"/m/0180zw\" \"/m/0463n9y\" \"/m/0d32d1\" \"/m/07n8wy\" \"/m/03q819\" \"/m/06vb7b\" \"/m/02pj9yr\" \"/m/03hf_6z\" \"/m/01km_m\" \"/m/062szv5\" \"/m/07g8yp\" \"/m/0fk55\" \"/m/04lgl9t\" \"/m/0444sm4\" \"/m/03m9my8\" \"/m/03cjjy0\" \"/m/03cmqbt\" \"/m/0b3zsn\" \"/m/03b_13l\" \"/m/0152wh\" \"/m/05ysft4\" \"/m/05sng\" \"/m/059v8\" \"/m/09c8kp\" \"/m/04jtjvt\" \"/m/04c28\" \"/m/03sk2\" \"/m/05ztd1\" \"/m/0dm3xpw\" \"/m/03hjx6f\" \"/m/026d074\" \"/m/03nvq\" \"/m/03nz70\" \"/m/029q52\" \"/m/02wz7j\" \"/m/04kdwcx\" \"/m/02ry8mk\" \"/m/07wsyr\" \"/m/09r2kh\" \"/m/04_8lfc\" \"/m/033qt1\" \"/m/012fh\" \"/m/08j1fb\" \"/m/027936c\" \"/m/0dtkkb\" \"/m/05bzpzx\" \"/m/04lhnps\" \"/m/0fp54b\" \"/m/01hm_\" \"/m/0288fw3\" \"/m/0ft9bs\" \"/m/01gr8h\" \"/m/09g34_\" \"/m/0d8qls\" \"/m/08xbxs\" \"/m/032m0b\" \"/m/04hqxn\" \"/m/068y7m\" \"/m/044bp_\" \"/m/039z49\" \"/m/047q05d\" \"/m/0c50f\" \"/m/01srl7\" \"/m/0fpxlz9\" \"/m/0bdynxs\" \"/m/01gby2\" \"/m/043_z22\" \"/m/03x_fq7\" \"/m/01hphz\" \"/m/033fjj\" \"/m/013y54\"}.\n",
    "   ?item wdt:P646 ?id.\n",
    "    \n",
    "  SERVICE wikibase:label { bd:serviceParam wikibase:language \"en\". }\n",
    "}\n",
    "\"\"\"\n",
    "\n",
    "query2 = \"\"\"PREFIX wdt: <http://www.wikidata.org/prop/direct/>\n",
    "SELECT DISTINCT ?id ?itemLabel WHERE {\n",
    "  VALUES ?id {\"/m/0dryh9k\" \"/m/0x67\" \"/m/041rx\" \"/m/02w7gg\" \"/m/033tf_\" \"/m/0xnvg\" \"/m/02ctzb\" \"/m/07hwkr\" \"/m/07bch9\" \"/m/044038p\" \"/m/03bkbh\" \"/m/0d7wh\" \"/m/03ts0c\" \"/m/0222qb\" \"/m/01rv7x\" \"/m/02sch9\" \"/m/04mvp8\" \"/m/03lmx1\" \"/m/065b6q\" \"/m/01qhm_\" \"/m/06mvq\" \"/m/048z7l\" \"/m/0bpjh3\" \"/m/0cqgdq\" \"/m/0g8_vp\" \"/m/09vc4s\" \"/m/013xrm\" \"/m/019kn7\" \"/m/06gbnc\" \"/m/07mqps\" \"/m/01g7zj\" \"/m/01xhh5\" \"/m/03bx0k4\" \"/m/0g96wd\" \"/m/02g7sp\" \"/m/09m6hr\" \"/m/063k3h\" \"/m/0g0x7_\" \"/m/03ttfc\" \"/m/023mqw\" \"/m/0d2by\" \"/m/09kr66\" \"/m/042gtr\" \"/m/025rpb0\" \"/m/08hpk0\" \"/m/038723\" \"/m/0583cz\" \"/m/022dp5\" \"/m/0cmdl5l\" \"/m/03vv99\" \"/m/029f2r\" \"/m/09k5jvk\" \"/m/0cnvdq1\" \"/m/06v41q\" \"/m/04gfy7\" \"/m/0bymc\" \"/m/0cn68\" \"/m/09v5bdn\" \"/m/05l3g_\" \"/m/0268_k\" \"/m/0dqqwy\" }.\n",
    "   ?item wdt:P646 ?id.\n",
    "    \n",
    "  SERVICE wikibase:label { bd:serviceParam wikibase:language \"en\". }\n",
    "}\n",
    "\"\"\"\n",
    "\n",
    "\n",
    "def get_results(endpoint_url, query):\n",
    "    user_agent = \"WDQS-example Python/%s.%s\" % (sys.version_info[0], sys.version_info[1])\n",
    "    sparql = SPARQLWrapper(endpoint_url, agent=user_agent)\n",
    "    sparql.setQuery(query)\n",
    "    sparql.setReturnFormat(JSON)\n",
    "    return sparql.query().convert()\n",
    "\n",
    "\n",
    "results1 = get_results(endpoint_url, query1)\n",
    "results2 = get_results(endpoint_url, query2)"
   ]
  },
  {
   "cell_type": "code",
   "execution_count": 16,
   "id": "0cf7a3d1",
   "metadata": {},
   "outputs": [],
   "source": [
    "for result in results1[\"results\"][\"bindings\"]:\n",
    "    characters['Actor_Ethnicity'].replace(result['id']['value'],result['itemLabel']['value'],inplace=True)\n",
    "\n",
    "for result in results2[\"results\"][\"bindings\"]:\n",
    "    characters['Actor_Ethnicity'].replace(result['id']['value'],result['itemLabel']['value'],inplace=True)"
   ]
  },
  {
   "cell_type": "code",
   "execution_count": 17,
   "id": "51d989d0",
   "metadata": {},
   "outputs": [
    {
     "name": "stdout",
     "output_type": "stream",
     "text": [
      "<class 'pandas.core.series.Series'>\n",
      "RangeIndex: 450669 entries, 0 to 450668\n",
      "Series name: Actor_Ethnicity\n",
      "Non-Null Count   Dtype \n",
      "--------------   ----- \n",
      "106058 non-null  object\n",
      "dtypes: object(1)\n",
      "memory usage: 3.4+ MB\n"
     ]
    }
   ],
   "source": [
    "characters.Actor_Ethnicity.info()"
   ]
  },
  {
   "cell_type": "markdown",
   "id": "77f46c92",
   "metadata": {},
   "source": [
    "The number (106058) of non null values did not change, however some freebase ids did not find a match through our query, therefore they still appear as before in `characters`. To be able to drop these in futur work, we choose to replace them by Nan values. By doing so we observe that 3161 ethnicities id did not find a match."
   ]
  },
  {
   "cell_type": "code",
   "execution_count": 18,
   "id": "136487e4",
   "metadata": {},
   "outputs": [
    {
     "name": "stdout",
     "output_type": "stream",
     "text": [
      "<class 'pandas.core.series.Series'>\n",
      "RangeIndex: 450669 entries, 0 to 450668\n",
      "Series name: Actor_Ethnicity\n",
      "Non-Null Count   Dtype \n",
      "--------------   ----- \n",
      "102897 non-null  object\n",
      "dtypes: object(1)\n",
      "memory usage: 3.4+ MB\n"
     ]
    }
   ],
   "source": [
    "regex_pat = re.compile(r'/m/', flags=re.IGNORECASE)\n",
    "characters.Actor_Ethnicity.replace(regex_pat, np.nan, regex=True,inplace=True)\n",
    "characters.Actor_Ethnicity.info()"
   ]
  },
  {
   "cell_type": "markdown",
   "id": "04e28bdd",
   "metadata": {},
   "source": [
    "Preprocessing ends here for the `characters` dataframe."
   ]
  },
  {
   "cell_type": "code",
   "execution_count": 19,
   "id": "b35cc0bc",
   "metadata": {},
   "outputs": [
    {
     "data": {
      "text/html": [
       "<div>\n",
       "<style scoped>\n",
       "    .dataframe tbody tr th:only-of-type {\n",
       "        vertical-align: middle;\n",
       "    }\n",
       "\n",
       "    .dataframe tbody tr th {\n",
       "        vertical-align: top;\n",
       "    }\n",
       "\n",
       "    .dataframe thead th {\n",
       "        text-align: right;\n",
       "    }\n",
       "</style>\n",
       "<table border=\"1\" class=\"dataframe\">\n",
       "  <thead>\n",
       "    <tr style=\"text-align: right;\">\n",
       "      <th></th>\n",
       "      <th>Wikipedia_movie_ID</th>\n",
       "      <th>Freebase_movie_ID</th>\n",
       "      <th>Movie_release_date</th>\n",
       "      <th>Character_name</th>\n",
       "      <th>Actor_birth</th>\n",
       "      <th>Actor_Gender</th>\n",
       "      <th>Actor Height</th>\n",
       "      <th>Actor_Ethnicity</th>\n",
       "      <th>Actor_Name</th>\n",
       "      <th>Age_at_movie_release</th>\n",
       "      <th>Freebase_character_actor_map_ID</th>\n",
       "      <th>Freebase_character_ID</th>\n",
       "      <th>Freebase_actor_ID</th>\n",
       "    </tr>\n",
       "  </thead>\n",
       "  <tbody>\n",
       "    <tr>\n",
       "      <th>0</th>\n",
       "      <td>975900</td>\n",
       "      <td>/m/03vyhn</td>\n",
       "      <td>2001-08-24</td>\n",
       "      <td>Akooshay</td>\n",
       "      <td>1958-08-26</td>\n",
       "      <td>F</td>\n",
       "      <td>1.620</td>\n",
       "      <td>NaN</td>\n",
       "      <td>Wanda De Jesus</td>\n",
       "      <td>42.0</td>\n",
       "      <td>/m/0bgchxw</td>\n",
       "      <td>/m/0bgcj3x</td>\n",
       "      <td>/m/03wcfv7</td>\n",
       "    </tr>\n",
       "    <tr>\n",
       "      <th>1</th>\n",
       "      <td>975900</td>\n",
       "      <td>/m/03vyhn</td>\n",
       "      <td>2001-08-24</td>\n",
       "      <td>Lieutenant Melanie Ballard</td>\n",
       "      <td>1974-08-15</td>\n",
       "      <td>F</td>\n",
       "      <td>1.780</td>\n",
       "      <td>NaN</td>\n",
       "      <td>Natasha Henstridge</td>\n",
       "      <td>27.0</td>\n",
       "      <td>/m/0jys3m</td>\n",
       "      <td>/m/0bgchn4</td>\n",
       "      <td>/m/0346l4</td>\n",
       "    </tr>\n",
       "    <tr>\n",
       "      <th>2</th>\n",
       "      <td>975900</td>\n",
       "      <td>/m/03vyhn</td>\n",
       "      <td>2001-08-24</td>\n",
       "      <td>Desolation Williams</td>\n",
       "      <td>1969-06-15</td>\n",
       "      <td>M</td>\n",
       "      <td>1.727</td>\n",
       "      <td>African Americans</td>\n",
       "      <td>Ice Cube</td>\n",
       "      <td>32.0</td>\n",
       "      <td>/m/0jys3g</td>\n",
       "      <td>/m/0bgchn_</td>\n",
       "      <td>/m/01vw26l</td>\n",
       "    </tr>\n",
       "    <tr>\n",
       "      <th>3</th>\n",
       "      <td>975900</td>\n",
       "      <td>/m/03vyhn</td>\n",
       "      <td>2001-08-24</td>\n",
       "      <td>Sgt Jericho Butler</td>\n",
       "      <td>1967-09-12</td>\n",
       "      <td>M</td>\n",
       "      <td>1.750</td>\n",
       "      <td>NaN</td>\n",
       "      <td>Jason Statham</td>\n",
       "      <td>33.0</td>\n",
       "      <td>/m/02vchl6</td>\n",
       "      <td>/m/0bgchnq</td>\n",
       "      <td>/m/034hyc</td>\n",
       "    </tr>\n",
       "    <tr>\n",
       "      <th>4</th>\n",
       "      <td>975900</td>\n",
       "      <td>/m/03vyhn</td>\n",
       "      <td>2001-08-24</td>\n",
       "      <td>Bashira Kincaid</td>\n",
       "      <td>1977-09-25</td>\n",
       "      <td>F</td>\n",
       "      <td>1.650</td>\n",
       "      <td>NaN</td>\n",
       "      <td>Clea DuVall</td>\n",
       "      <td>23.0</td>\n",
       "      <td>/m/02vbb3r</td>\n",
       "      <td>/m/0bgchp9</td>\n",
       "      <td>/m/01y9xg</td>\n",
       "    </tr>\n",
       "  </tbody>\n",
       "</table>\n",
       "</div>"
      ],
      "text/plain": [
       "   Wikipedia_movie_ID Freebase_movie_ID Movie_release_date  \\\n",
       "0              975900         /m/03vyhn         2001-08-24   \n",
       "1              975900         /m/03vyhn         2001-08-24   \n",
       "2              975900         /m/03vyhn         2001-08-24   \n",
       "3              975900         /m/03vyhn         2001-08-24   \n",
       "4              975900         /m/03vyhn         2001-08-24   \n",
       "\n",
       "               Character_name Actor_birth Actor_Gender  Actor Height  \\\n",
       "0                    Akooshay  1958-08-26            F         1.620   \n",
       "1  Lieutenant Melanie Ballard  1974-08-15            F         1.780   \n",
       "2         Desolation Williams  1969-06-15            M         1.727   \n",
       "3          Sgt Jericho Butler  1967-09-12            M         1.750   \n",
       "4             Bashira Kincaid  1977-09-25            F         1.650   \n",
       "\n",
       "     Actor_Ethnicity          Actor_Name  Age_at_movie_release  \\\n",
       "0                NaN      Wanda De Jesus                  42.0   \n",
       "1                NaN  Natasha Henstridge                  27.0   \n",
       "2  African Americans            Ice Cube                  32.0   \n",
       "3                NaN       Jason Statham                  33.0   \n",
       "4                NaN         Clea DuVall                  23.0   \n",
       "\n",
       "  Freebase_character_actor_map_ID Freebase_character_ID Freebase_actor_ID  \n",
       "0                      /m/0bgchxw            /m/0bgcj3x        /m/03wcfv7  \n",
       "1                       /m/0jys3m            /m/0bgchn4         /m/0346l4  \n",
       "2                       /m/0jys3g            /m/0bgchn_        /m/01vw26l  \n",
       "3                      /m/02vchl6            /m/0bgchnq         /m/034hyc  \n",
       "4                      /m/02vbb3r            /m/0bgchp9         /m/01y9xg  "
      ]
     },
     "execution_count": 19,
     "metadata": {},
     "output_type": "execute_result"
    }
   ],
   "source": [
    "characters.head()"
   ]
  },
  {
   "cell_type": "markdown",
   "id": "0682f4ba",
   "metadata": {},
   "source": [
    "### `movies`"
   ]
  },
  {
   "cell_type": "markdown",
   "id": "4ba13653",
   "metadata": {},
   "source": [
    "Each row is a movie, columns correpsond to features that describe these movies."
   ]
  },
  {
   "cell_type": "code",
   "execution_count": 20,
   "id": "c4257894",
   "metadata": {},
   "outputs": [
    {
     "data": {
      "text/html": [
       "<div>\n",
       "<style scoped>\n",
       "    .dataframe tbody tr th:only-of-type {\n",
       "        vertical-align: middle;\n",
       "    }\n",
       "\n",
       "    .dataframe tbody tr th {\n",
       "        vertical-align: top;\n",
       "    }\n",
       "\n",
       "    .dataframe thead th {\n",
       "        text-align: right;\n",
       "    }\n",
       "</style>\n",
       "<table border=\"1\" class=\"dataframe\">\n",
       "  <thead>\n",
       "    <tr style=\"text-align: right;\">\n",
       "      <th></th>\n",
       "      <th>Wikipedia_movie_ID</th>\n",
       "      <th>Freebase_movie_ID</th>\n",
       "      <th>Name</th>\n",
       "      <th>Release_date</th>\n",
       "      <th>Box_office_revenue</th>\n",
       "      <th>Runtime</th>\n",
       "      <th>Languages</th>\n",
       "      <th>Countries</th>\n",
       "      <th>Genres</th>\n",
       "    </tr>\n",
       "  </thead>\n",
       "  <tbody>\n",
       "    <tr>\n",
       "      <th>0</th>\n",
       "      <td>975900</td>\n",
       "      <td>/m/03vyhn</td>\n",
       "      <td>Ghosts of Mars</td>\n",
       "      <td>2001-08-24</td>\n",
       "      <td>14010832.0</td>\n",
       "      <td>98.0</td>\n",
       "      <td>{\"/m/02h40lc\": \"English Language\"}</td>\n",
       "      <td>{\"/m/09c7w0\": \"United States of America\"}</td>\n",
       "      <td>{\"/m/01jfsb\": \"Thriller\", \"/m/06n90\": \"Science...</td>\n",
       "    </tr>\n",
       "  </tbody>\n",
       "</table>\n",
       "</div>"
      ],
      "text/plain": [
       "   Wikipedia_movie_ID Freebase_movie_ID            Name Release_date  \\\n",
       "0              975900         /m/03vyhn  Ghosts of Mars   2001-08-24   \n",
       "\n",
       "   Box_office_revenue  Runtime                           Languages  \\\n",
       "0          14010832.0     98.0  {\"/m/02h40lc\": \"English Language\"}   \n",
       "\n",
       "                                   Countries  \\\n",
       "0  {\"/m/09c7w0\": \"United States of America\"}   \n",
       "\n",
       "                                              Genres  \n",
       "0  {\"/m/01jfsb\": \"Thriller\", \"/m/06n90\": \"Science...  "
      ]
     },
     "execution_count": 20,
     "metadata": {},
     "output_type": "execute_result"
    }
   ],
   "source": [
    "movies.head(1)"
   ]
  },
  {
   "cell_type": "code",
   "execution_count": 21,
   "id": "79a974d6",
   "metadata": {
    "scrolled": true
   },
   "outputs": [
    {
     "name": "stdout",
     "output_type": "stream",
     "text": [
      "<class 'pandas.core.frame.DataFrame'>\n",
      "RangeIndex: 81741 entries, 0 to 81740\n",
      "Data columns (total 9 columns):\n",
      " #   Column              Non-Null Count  Dtype  \n",
      "---  ------              --------------  -----  \n",
      " 0   Wikipedia_movie_ID  81741 non-null  int64  \n",
      " 1   Freebase_movie_ID   81741 non-null  object \n",
      " 2   Name                81741 non-null  object \n",
      " 3   Release_date        74839 non-null  object \n",
      " 4   Box_office_revenue  8401 non-null   float64\n",
      " 5   Runtime             61291 non-null  float64\n",
      " 6   Languages           81741 non-null  object \n",
      " 7   Countries           81741 non-null  object \n",
      " 8   Genres              81741 non-null  object \n",
      "dtypes: float64(2), int64(1), object(6)\n",
      "memory usage: 5.6+ MB\n"
     ]
    }
   ],
   "source": [
    "movies.info()"
   ]
  },
  {
   "cell_type": "markdown",
   "id": "fda44158",
   "metadata": {},
   "source": [
    "We can observe that columns `Release_date`, `Box_office_revenue` and `Runtime` each have a certain number of null values."
   ]
  },
  {
   "cell_type": "markdown",
   "id": "77aa45b4",
   "metadata": {},
   "source": [
    "Note that the `Release_date` feature column Dtype is 'object'. To handle the date in a simpler way with panda DataFrames we will use the DateTime type, this transformation is done below. After a first try, we found that the value of row 62836 in the dataframe had a non-valid syntax, thus we changed its value manually."
   ]
  },
  {
   "cell_type": "code",
   "execution_count": 22,
   "id": "fc400b40-ae27-4c40-acfe-0dfcb8383c5b",
   "metadata": {},
   "outputs": [],
   "source": [
    "movies.iloc[62836,3] =  pd.to_datetime('2010-12-02')\n",
    "movies.loc[:,['Release_date']] = pd.to_datetime(movies['Release_date'])"
   ]
  },
  {
   "cell_type": "code",
   "execution_count": 23,
   "id": "8d586c74-e3df-4b91-ad06-5ed33d4bd1d8",
   "metadata": {},
   "outputs": [
    {
     "name": "stdout",
     "output_type": "stream",
     "text": [
      "<class 'pandas.core.series.Series'>\n",
      "RangeIndex: 81741 entries, 0 to 81740\n",
      "Series name: Release_date\n",
      "Non-Null Count  Dtype         \n",
      "--------------  -----         \n",
      "74839 non-null  datetime64[ns]\n",
      "dtypes: datetime64[ns](1)\n",
      "memory usage: 638.7 KB\n"
     ]
    }
   ],
   "source": [
    "movies.Release_date.info()"
   ]
  },
  {
   "cell_type": "markdown",
   "id": "f18c19d0-08a3-4c51-a9fc-9b2cd8bbab68",
   "metadata": {},
   "source": [
    "The `Release_date` Dtype is now datetime64 and the number of null values is still the same. We can check that the `Runtime` values have reasonnable values taking into account that the runtime unit is minutes."
   ]
  },
  {
   "cell_type": "code",
   "execution_count": 24,
   "id": "53bad057-61b5-4e07-984d-8f6266db5d02",
   "metadata": {},
   "outputs": [
    {
     "data": {
      "text/plain": [
       "315.000000        1\n",
       "21.333333         1\n",
       "118.500000        1\n",
       "0.466667          1\n",
       "1620.000000       1\n",
       "               ... \n",
       "92.000000      1394\n",
       "93.000000      1456\n",
       "95.000000      1861\n",
       "100.000000     2023\n",
       "90.000000      3477\n",
       "Name: Runtime, Length: 597, dtype: int64"
      ]
     },
     "execution_count": 24,
     "metadata": {},
     "output_type": "execute_result"
    }
   ],
   "source": [
    "movies['Runtime'].value_counts(ascending=True)"
   ]
  },
  {
   "cell_type": "code",
   "execution_count": 25,
   "id": "8c340101-a395-4424-a4ec-e4e9d16249cd",
   "metadata": {},
   "outputs": [
    {
     "data": {
      "text/plain": [
       "12804    1079281.0\n",
       "Name: Runtime, dtype: float64"
      ]
     },
     "execution_count": 25,
     "metadata": {},
     "output_type": "execute_result"
    }
   ],
   "source": [
    "movies['Runtime'][movies['Runtime']>1e6]"
   ]
  },
  {
   "cell_type": "markdown",
   "id": "d35410cc-4897-46b6-93bf-9bc5a2f62762",
   "metadata": {},
   "source": [
    "We found a runtime value that was exceedingly higher than the others and therefore decided to remove it by setting it to NAN value. This avoids the outlier from biasing our results."
   ]
  },
  {
   "cell_type": "code",
   "execution_count": 26,
   "id": "0e132621-e9c4-4d63-9e82-28b2cd5f19bd",
   "metadata": {},
   "outputs": [],
   "source": [
    "movies.iloc[12804,5] = np.NAN"
   ]
  },
  {
   "cell_type": "markdown",
   "id": "95534f7d",
   "metadata": {},
   "source": [
    "Columns `Languages`, `Countries` and `Genres` have a special format. Even if they are stored as string, we can recognize dictionnaries. The keys correspond to the freebase ID of the wikidata item contained in the corresponding dictionnaries' values. We are not interested in keeping the freebase id in the scope of this project, we will therefore only retrieve the values as a unique string using the regex `re` library."
   ]
  },
  {
   "cell_type": "code",
   "execution_count": 27,
   "id": "72d2456c",
   "metadata": {},
   "outputs": [],
   "source": [
    "def replace_dicts(arg): #return all values of a dictionnary as a list\n",
    "    return list(arg.values())"
   ]
  },
  {
   "cell_type": "code",
   "execution_count": 28,
   "id": "04c2f5a3",
   "metadata": {},
   "outputs": [],
   "source": [
    "def transform_features(data, feature):\n",
    "    data.loc[:,[feature]] = data[[feature]].applymap(ast.literal_eval) # transform string -> dict\n",
    "    data[[feature]] = data[[feature]].applymap(replace_dicts) # transform dict -> list of values\n",
    "    data[feature] = data[feature].apply(lambda x: ', '.join(map(str, x))) #list of values -> string\n",
    "    data[feature] = data[feature].apply(lambda h: h.lower())"
   ]
  },
  {
   "cell_type": "code",
   "execution_count": 29,
   "id": "8a2f5804",
   "metadata": {},
   "outputs": [],
   "source": [
    "transform_features(data=movies, feature='Genres')\n",
    "transform_features(data=movies, feature='Languages')\n",
    "transform_features(data=movies, feature='Countries')"
   ]
  },
  {
   "cell_type": "markdown",
   "id": "11cf66b6",
   "metadata": {},
   "source": [
    "The preprocessing ends here for the `movies` dataframe."
   ]
  },
  {
   "cell_type": "code",
   "execution_count": 30,
   "id": "bb0a885f",
   "metadata": {
    "scrolled": true
   },
   "outputs": [
    {
     "data": {
      "text/html": [
       "<div>\n",
       "<style scoped>\n",
       "    .dataframe tbody tr th:only-of-type {\n",
       "        vertical-align: middle;\n",
       "    }\n",
       "\n",
       "    .dataframe tbody tr th {\n",
       "        vertical-align: top;\n",
       "    }\n",
       "\n",
       "    .dataframe thead th {\n",
       "        text-align: right;\n",
       "    }\n",
       "</style>\n",
       "<table border=\"1\" class=\"dataframe\">\n",
       "  <thead>\n",
       "    <tr style=\"text-align: right;\">\n",
       "      <th></th>\n",
       "      <th>Wikipedia_movie_ID</th>\n",
       "      <th>Freebase_movie_ID</th>\n",
       "      <th>Name</th>\n",
       "      <th>Release_date</th>\n",
       "      <th>Box_office_revenue</th>\n",
       "      <th>Runtime</th>\n",
       "      <th>Languages</th>\n",
       "      <th>Countries</th>\n",
       "      <th>Genres</th>\n",
       "    </tr>\n",
       "  </thead>\n",
       "  <tbody>\n",
       "    <tr>\n",
       "      <th>0</th>\n",
       "      <td>975900</td>\n",
       "      <td>/m/03vyhn</td>\n",
       "      <td>Ghosts of Mars</td>\n",
       "      <td>2001-08-24</td>\n",
       "      <td>14010832.0</td>\n",
       "      <td>98.0</td>\n",
       "      <td>english language</td>\n",
       "      <td>united states of america</td>\n",
       "      <td>thriller, science fiction, horror, adventure, ...</td>\n",
       "    </tr>\n",
       "  </tbody>\n",
       "</table>\n",
       "</div>"
      ],
      "text/plain": [
       "   Wikipedia_movie_ID Freebase_movie_ID            Name Release_date  \\\n",
       "0              975900         /m/03vyhn  Ghosts of Mars   2001-08-24   \n",
       "\n",
       "   Box_office_revenue  Runtime         Languages                 Countries  \\\n",
       "0          14010832.0     98.0  english language  united states of america   \n",
       "\n",
       "                                              Genres  \n",
       "0  thriller, science fiction, horror, adventure, ...  "
      ]
     },
     "execution_count": 30,
     "metadata": {},
     "output_type": "execute_result"
    }
   ],
   "source": [
    "movies.head(1)"
   ]
  },
  {
   "cell_type": "markdown",
   "id": "7354cea2",
   "metadata": {},
   "source": [
    "### `plot_summaries`"
   ]
  },
  {
   "cell_type": "markdown",
   "id": "74aeb0a4",
   "metadata": {},
   "source": [
    "Each row is a movie, here there are only two features `Wikipedia_movie_ID` and `Summary`."
   ]
  },
  {
   "cell_type": "code",
   "execution_count": 31,
   "id": "8097cd55",
   "metadata": {},
   "outputs": [
    {
     "data": {
      "text/html": [
       "<div>\n",
       "<style scoped>\n",
       "    .dataframe tbody tr th:only-of-type {\n",
       "        vertical-align: middle;\n",
       "    }\n",
       "\n",
       "    .dataframe tbody tr th {\n",
       "        vertical-align: top;\n",
       "    }\n",
       "\n",
       "    .dataframe thead th {\n",
       "        text-align: right;\n",
       "    }\n",
       "</style>\n",
       "<table border=\"1\" class=\"dataframe\">\n",
       "  <thead>\n",
       "    <tr style=\"text-align: right;\">\n",
       "      <th></th>\n",
       "      <th>Wikipedia_movie_ID</th>\n",
       "      <th>Summary</th>\n",
       "    </tr>\n",
       "  </thead>\n",
       "  <tbody>\n",
       "    <tr>\n",
       "      <th>0</th>\n",
       "      <td>23890098</td>\n",
       "      <td>Shlykov, a hard-working taxi driver and Lyosha...</td>\n",
       "    </tr>\n",
       "  </tbody>\n",
       "</table>\n",
       "</div>"
      ],
      "text/plain": [
       "   Wikipedia_movie_ID                                            Summary\n",
       "0            23890098  Shlykov, a hard-working taxi driver and Lyosha..."
      ]
     },
     "execution_count": 31,
     "metadata": {},
     "output_type": "execute_result"
    }
   ],
   "source": [
    "plot_summaries.head(1)"
   ]
  },
  {
   "cell_type": "code",
   "execution_count": 32,
   "id": "a36c0848",
   "metadata": {},
   "outputs": [
    {
     "name": "stdout",
     "output_type": "stream",
     "text": [
      "<class 'pandas.core.frame.DataFrame'>\n",
      "RangeIndex: 42303 entries, 0 to 42302\n",
      "Data columns (total 2 columns):\n",
      " #   Column              Non-Null Count  Dtype \n",
      "---  ------              --------------  ----- \n",
      " 0   Wikipedia_movie_ID  42303 non-null  int64 \n",
      " 1   Summary             42303 non-null  object\n",
      "dtypes: int64(1), object(1)\n",
      "memory usage: 661.1+ KB\n"
     ]
    }
   ],
   "source": [
    "plot_summaries.info()"
   ]
  },
  {
   "cell_type": "markdown",
   "id": "ac1fc2de",
   "metadata": {},
   "source": [
    "There is not a single null value in the entire dataframe. We will use the summaries in further steps of analyses (merged with `movies`), there is no need to make any transformation for now."
   ]
  },
  {
   "cell_type": "markdown",
   "id": "745d0e0f-843a-4817-8e6c-860bebf8143b",
   "metadata": {},
   "source": [
    "### `character_types`"
   ]
  },
  {
   "cell_type": "markdown",
   "id": "f3679f82",
   "metadata": {},
   "source": [
    "Each row is a type of character (not unique) which is associated to some information that we will extract below. Note that there is not one null values."
   ]
  },
  {
   "cell_type": "code",
   "execution_count": 33,
   "id": "d9034688-c28e-4e47-ad52-15da2b6376b5",
   "metadata": {},
   "outputs": [
    {
     "data": {
      "text/html": [
       "<div>\n",
       "<style scoped>\n",
       "    .dataframe tbody tr th:only-of-type {\n",
       "        vertical-align: middle;\n",
       "    }\n",
       "\n",
       "    .dataframe tbody tr th {\n",
       "        vertical-align: top;\n",
       "    }\n",
       "\n",
       "    .dataframe thead th {\n",
       "        text-align: right;\n",
       "    }\n",
       "</style>\n",
       "<table border=\"1\" class=\"dataframe\">\n",
       "  <thead>\n",
       "    <tr style=\"text-align: right;\">\n",
       "      <th></th>\n",
       "      <th>Type</th>\n",
       "      <th>Info</th>\n",
       "    </tr>\n",
       "  </thead>\n",
       "  <tbody>\n",
       "    <tr>\n",
       "      <th>0</th>\n",
       "      <td>absent_minded_professor</td>\n",
       "      <td>{\"char\": \"Professor Philip Brainard\", \"movie\":...</td>\n",
       "    </tr>\n",
       "  </tbody>\n",
       "</table>\n",
       "</div>"
      ],
      "text/plain": [
       "                      Type                                               Info\n",
       "0  absent_minded_professor  {\"char\": \"Professor Philip Brainard\", \"movie\":..."
      ]
     },
     "execution_count": 33,
     "metadata": {},
     "output_type": "execute_result"
    }
   ],
   "source": [
    "character_types.head(1)"
   ]
  },
  {
   "cell_type": "code",
   "execution_count": 34,
   "id": "c6f43e9c",
   "metadata": {},
   "outputs": [
    {
     "name": "stdout",
     "output_type": "stream",
     "text": [
      "<class 'pandas.core.frame.DataFrame'>\n",
      "RangeIndex: 501 entries, 0 to 500\n",
      "Data columns (total 2 columns):\n",
      " #   Column  Non-Null Count  Dtype \n",
      "---  ------  --------------  ----- \n",
      " 0   Type    501 non-null    object\n",
      " 1   Info    501 non-null    object\n",
      "dtypes: object(2)\n",
      "memory usage: 8.0+ KB\n"
     ]
    }
   ],
   "source": [
    "character_types.info()"
   ]
  },
  {
   "cell_type": "markdown",
   "id": "ec64a00c-c18d-4dbc-9153-03c255c10b25",
   "metadata": {},
   "source": [
    "Above, the `Info` column contains long strings that give information about the character that the type describes, the movie in which the character is found, the Freebase character/actor map ID and the actor that embodies the character. All of this information can be separated into four disctint columns: `Character_name`, `Name` (of the movie), `Freebase_character_actor_map_ID` and `Actor_Name`, using the `json` library as below. "
   ]
  },
  {
   "cell_type": "code",
   "execution_count": 35,
   "id": "39f0f336-07e5-4027-9499-9b34271e437b",
   "metadata": {},
   "outputs": [],
   "source": [
    "character_types[['Character_name', 'Name', 'Freebase_character_actor_map_ID', 'Actor_Name']] = character_types['Info'].apply(lambda x: json.loads(x)).apply(pd.Series)\n",
    "character_types.drop('Info', axis=1, inplace=True)"
   ]
  },
  {
   "cell_type": "markdown",
   "id": "ace521f4",
   "metadata": {},
   "source": [
    "From now, `character_types`can be seen as comlementary to `characters` and described in a similar way. In fact each row is an actor paired to is role and the type of this character. However a same character can have multiple types, thus some rows will only be different in their `Type`."
   ]
  },
  {
   "cell_type": "code",
   "execution_count": 36,
   "id": "09716bc9-aa1e-43d2-b6cf-3309ba10981c",
   "metadata": {
    "scrolled": true
   },
   "outputs": [
    {
     "data": {
      "text/html": [
       "<div>\n",
       "<style scoped>\n",
       "    .dataframe tbody tr th:only-of-type {\n",
       "        vertical-align: middle;\n",
       "    }\n",
       "\n",
       "    .dataframe tbody tr th {\n",
       "        vertical-align: top;\n",
       "    }\n",
       "\n",
       "    .dataframe thead th {\n",
       "        text-align: right;\n",
       "    }\n",
       "</style>\n",
       "<table border=\"1\" class=\"dataframe\">\n",
       "  <thead>\n",
       "    <tr style=\"text-align: right;\">\n",
       "      <th></th>\n",
       "      <th>Type</th>\n",
       "      <th>Character_name</th>\n",
       "      <th>Name</th>\n",
       "      <th>Freebase_character_actor_map_ID</th>\n",
       "      <th>Actor_Name</th>\n",
       "    </tr>\n",
       "  </thead>\n",
       "  <tbody>\n",
       "    <tr>\n",
       "      <th>0</th>\n",
       "      <td>absent_minded_professor</td>\n",
       "      <td>Professor Philip Brainard</td>\n",
       "      <td>Flubber</td>\n",
       "      <td>/m/0jy9q0</td>\n",
       "      <td>Robin Williams</td>\n",
       "    </tr>\n",
       "  </tbody>\n",
       "</table>\n",
       "</div>"
      ],
      "text/plain": [
       "                      Type             Character_name     Name  \\\n",
       "0  absent_minded_professor  Professor Philip Brainard  Flubber   \n",
       "\n",
       "  Freebase_character_actor_map_ID      Actor_Name  \n",
       "0                       /m/0jy9q0  Robin Williams  "
      ]
     },
     "execution_count": 36,
     "metadata": {},
     "output_type": "execute_result"
    }
   ],
   "source": [
    "character_types.head(1)"
   ]
  },
  {
   "cell_type": "code",
   "execution_count": 37,
   "id": "f03875b4",
   "metadata": {},
   "outputs": [
    {
     "name": "stdout",
     "output_type": "stream",
     "text": [
      "<class 'pandas.core.frame.DataFrame'>\n",
      "RangeIndex: 501 entries, 0 to 500\n",
      "Data columns (total 5 columns):\n",
      " #   Column                           Non-Null Count  Dtype \n",
      "---  ------                           --------------  ----- \n",
      " 0   Type                             501 non-null    object\n",
      " 1   Character_name                   501 non-null    object\n",
      " 2   Name                             501 non-null    object\n",
      " 3   Freebase_character_actor_map_ID  501 non-null    object\n",
      " 4   Actor_Name                       501 non-null    object\n",
      "dtypes: object(5)\n",
      "memory usage: 19.7+ KB\n"
     ]
    }
   ],
   "source": [
    "character_types.info()"
   ]
  },
  {
   "cell_type": "code",
   "execution_count": 38,
   "id": "1e20598a",
   "metadata": {},
   "outputs": [
    {
     "data": {
      "text/plain": [
       "Type                                72\n",
       "Character_name                     434\n",
       "Name                               383\n",
       "Freebase_character_actor_map_ID    447\n",
       "Actor_Name                         350\n",
       "dtype: int64"
      ]
     },
     "execution_count": 38,
     "metadata": {},
     "output_type": "execute_result"
    }
   ],
   "source": [
    "character_types.nunique()"
   ]
  },
  {
   "cell_type": "code",
   "execution_count": 39,
   "id": "ea0cf614",
   "metadata": {},
   "outputs": [
    {
     "data": {
      "text/html": [
       "<div>\n",
       "<style scoped>\n",
       "    .dataframe tbody tr th:only-of-type {\n",
       "        vertical-align: middle;\n",
       "    }\n",
       "\n",
       "    .dataframe tbody tr th {\n",
       "        vertical-align: top;\n",
       "    }\n",
       "\n",
       "    .dataframe thead th {\n",
       "        text-align: right;\n",
       "    }\n",
       "</style>\n",
       "<table border=\"1\" class=\"dataframe\">\n",
       "  <thead>\n",
       "    <tr style=\"text-align: right;\">\n",
       "      <th></th>\n",
       "      <th>Type</th>\n",
       "      <th>Character_name</th>\n",
       "      <th>Name</th>\n",
       "      <th>Freebase_character_actor_map_ID</th>\n",
       "      <th>Actor_Name</th>\n",
       "    </tr>\n",
       "  </thead>\n",
       "  <tbody>\n",
       "    <tr>\n",
       "      <th>59</th>\n",
       "      <td>bruiser_with_a_soft_center</td>\n",
       "      <td>James Bond</td>\n",
       "      <td>Casino Royale</td>\n",
       "      <td>/m/02hw79s</td>\n",
       "      <td>Daniel Craig</td>\n",
       "    </tr>\n",
       "    <tr>\n",
       "      <th>64</th>\n",
       "      <td>byronic_hero</td>\n",
       "      <td>James Bond</td>\n",
       "      <td>Casino Royale</td>\n",
       "      <td>/m/02hw79s</td>\n",
       "      <td>Daniel Craig</td>\n",
       "    </tr>\n",
       "    <tr>\n",
       "      <th>93</th>\n",
       "      <td>charmer</td>\n",
       "      <td>James Bond</td>\n",
       "      <td>Casino Royale</td>\n",
       "      <td>/m/02hw79s</td>\n",
       "      <td>Daniel Craig</td>\n",
       "    </tr>\n",
       "    <tr>\n",
       "      <th>164</th>\n",
       "      <td>cultured_badass</td>\n",
       "      <td>James Bond</td>\n",
       "      <td>Casino Royale</td>\n",
       "      <td>/m/02hw79s</td>\n",
       "      <td>Daniel Craig</td>\n",
       "    </tr>\n",
       "    <tr>\n",
       "      <th>298</th>\n",
       "      <td>heartbroken_badass</td>\n",
       "      <td>James Bond</td>\n",
       "      <td>Quantum of Solace</td>\n",
       "      <td>/m/03hqwg_</td>\n",
       "      <td>Daniel Craig</td>\n",
       "    </tr>\n",
       "  </tbody>\n",
       "</table>\n",
       "</div>"
      ],
      "text/plain": [
       "                           Type Character_name               Name  \\\n",
       "59   bruiser_with_a_soft_center     James Bond      Casino Royale   \n",
       "64                 byronic_hero     James Bond      Casino Royale   \n",
       "93                      charmer     James Bond      Casino Royale   \n",
       "164             cultured_badass     James Bond      Casino Royale   \n",
       "298          heartbroken_badass     James Bond  Quantum of Solace   \n",
       "\n",
       "    Freebase_character_actor_map_ID    Actor_Name  \n",
       "59                       /m/02hw79s  Daniel Craig  \n",
       "64                       /m/02hw79s  Daniel Craig  \n",
       "93                       /m/02hw79s  Daniel Craig  \n",
       "164                      /m/02hw79s  Daniel Craig  \n",
       "298                      /m/03hqwg_  Daniel Craig  "
      ]
     },
     "execution_count": 39,
     "metadata": {},
     "output_type": "execute_result"
    }
   ],
   "source": [
    "character_types[character_types.Character_name == 'James Bond']"
   ]
  },
  {
   "cell_type": "markdown",
   "id": "e26e9351",
   "metadata": {},
   "source": [
    "Once again there is not a single null value in the whole dataframe.There are 72 unique types of characters. Also there are only 447 unique `Freebase_character_actor_map_ID`, thus some triplet [actor, character, movie] can in fact have multiple types as seen in the above example. <br>\n",
    "\n",
    "Preprocessing ends here for the `character_types` dataframe."
   ]
  },
  {
   "cell_type": "markdown",
   "id": "b5f4cc50",
   "metadata": {},
   "source": [
    "### `name_clusters`"
   ]
  },
  {
   "cell_type": "markdown",
   "id": "425fce88",
   "metadata": {},
   "source": [
    "Each row contains a character name along with its unique `Freebase_character_actor_map_ID`."
   ]
  },
  {
   "cell_type": "code",
   "execution_count": 40,
   "id": "911177f3",
   "metadata": {},
   "outputs": [
    {
     "data": {
      "text/html": [
       "<div>\n",
       "<style scoped>\n",
       "    .dataframe tbody tr th:only-of-type {\n",
       "        vertical-align: middle;\n",
       "    }\n",
       "\n",
       "    .dataframe tbody tr th {\n",
       "        vertical-align: top;\n",
       "    }\n",
       "\n",
       "    .dataframe thead th {\n",
       "        text-align: right;\n",
       "    }\n",
       "</style>\n",
       "<table border=\"1\" class=\"dataframe\">\n",
       "  <thead>\n",
       "    <tr style=\"text-align: right;\">\n",
       "      <th></th>\n",
       "      <th>Character_name</th>\n",
       "      <th>Freebase_character_actor_map_ID</th>\n",
       "    </tr>\n",
       "  </thead>\n",
       "  <tbody>\n",
       "    <tr>\n",
       "      <th>0</th>\n",
       "      <td>Stuart Little</td>\n",
       "      <td>/m/0k3w9c</td>\n",
       "    </tr>\n",
       "    <tr>\n",
       "      <th>1</th>\n",
       "      <td>Stuart Little</td>\n",
       "      <td>/m/0k3wcx</td>\n",
       "    </tr>\n",
       "    <tr>\n",
       "      <th>2</th>\n",
       "      <td>Stuart Little</td>\n",
       "      <td>/m/0k3wbn</td>\n",
       "    </tr>\n",
       "    <tr>\n",
       "      <th>3</th>\n",
       "      <td>John Doe</td>\n",
       "      <td>/m/0jyg35</td>\n",
       "    </tr>\n",
       "    <tr>\n",
       "      <th>4</th>\n",
       "      <td>John Doe</td>\n",
       "      <td>/m/0k2_zn</td>\n",
       "    </tr>\n",
       "  </tbody>\n",
       "</table>\n",
       "</div>"
      ],
      "text/plain": [
       "  Character_name Freebase_character_actor_map_ID\n",
       "0  Stuart Little                       /m/0k3w9c\n",
       "1  Stuart Little                       /m/0k3wcx\n",
       "2  Stuart Little                       /m/0k3wbn\n",
       "3       John Doe                       /m/0jyg35\n",
       "4       John Doe                       /m/0k2_zn"
      ]
     },
     "execution_count": 40,
     "metadata": {},
     "output_type": "execute_result"
    }
   ],
   "source": [
    "name_clusters.head()"
   ]
  },
  {
   "cell_type": "code",
   "execution_count": 41,
   "id": "901dc44e",
   "metadata": {},
   "outputs": [
    {
     "name": "stdout",
     "output_type": "stream",
     "text": [
      "<class 'pandas.core.frame.DataFrame'>\n",
      "RangeIndex: 2666 entries, 0 to 2665\n",
      "Data columns (total 2 columns):\n",
      " #   Column                           Non-Null Count  Dtype \n",
      "---  ------                           --------------  ----- \n",
      " 0   Character_name                   2666 non-null   object\n",
      " 1   Freebase_character_actor_map_ID  2666 non-null   object\n",
      "dtypes: object(2)\n",
      "memory usage: 41.8+ KB\n"
     ]
    }
   ],
   "source": [
    "name_clusters.info()"
   ]
  },
  {
   "cell_type": "code",
   "execution_count": 42,
   "id": "3b85fb44",
   "metadata": {},
   "outputs": [
    {
     "data": {
      "text/plain": [
       "Character_name                      970\n",
       "Freebase_character_actor_map_ID    2661\n",
       "dtype: int64"
      ]
     },
     "execution_count": 42,
     "metadata": {},
     "output_type": "execute_result"
    }
   ],
   "source": [
    "name_clusters.nunique()"
   ]
  },
  {
   "cell_type": "markdown",
   "id": "71b44ece",
   "metadata": {},
   "source": [
    "As we can see, There are 970 unique character names. All these are used in at least two different movies, resulting in the 2666 entries in the dataframe. There are not any null values. However, 5 `Freebase_character_actor_map_ID` are repeated, surprising since a character involved in two different movies should have a different one by definition (remember the triplet [actor,character,movie]). Let's investigate that.  "
   ]
  },
  {
   "cell_type": "code",
   "execution_count": 43,
   "id": "7dfde36c",
   "metadata": {},
   "outputs": [
    {
     "data": {
      "text/html": [
       "<div>\n",
       "<style scoped>\n",
       "    .dataframe tbody tr th:only-of-type {\n",
       "        vertical-align: middle;\n",
       "    }\n",
       "\n",
       "    .dataframe tbody tr th {\n",
       "        vertical-align: top;\n",
       "    }\n",
       "\n",
       "    .dataframe thead th {\n",
       "        text-align: right;\n",
       "    }\n",
       "</style>\n",
       "<table border=\"1\" class=\"dataframe\">\n",
       "  <thead>\n",
       "    <tr style=\"text-align: right;\">\n",
       "      <th></th>\n",
       "      <th>Character_name</th>\n",
       "      <th>Freebase_character_actor_map_ID</th>\n",
       "    </tr>\n",
       "  </thead>\n",
       "  <tbody>\n",
       "    <tr>\n",
       "      <th>588</th>\n",
       "      <td>Tom Brookman</td>\n",
       "      <td>/m/05gsc55</td>\n",
       "    </tr>\n",
       "    <tr>\n",
       "      <th>589</th>\n",
       "      <td>Tom Brookman</td>\n",
       "      <td>/m/05gsc55</td>\n",
       "    </tr>\n",
       "    <tr>\n",
       "      <th>863</th>\n",
       "      <td>Mickey Mouse</td>\n",
       "      <td>/m/0gy6vlc</td>\n",
       "    </tr>\n",
       "    <tr>\n",
       "      <th>866</th>\n",
       "      <td>Mickey Mouse</td>\n",
       "      <td>/m/0gy6vlc</td>\n",
       "    </tr>\n",
       "    <tr>\n",
       "      <th>1032</th>\n",
       "      <td>Minnie Mouse</td>\n",
       "      <td>/m/0ksh9nd</td>\n",
       "    </tr>\n",
       "    <tr>\n",
       "      <th>1035</th>\n",
       "      <td>Minnie Mouse</td>\n",
       "      <td>/m/0ksh9nd</td>\n",
       "    </tr>\n",
       "    <tr>\n",
       "      <th>1484</th>\n",
       "      <td>Saraswati Chandra's father</td>\n",
       "      <td>/m/0gcy23_</td>\n",
       "    </tr>\n",
       "    <tr>\n",
       "      <th>1485</th>\n",
       "      <td>Saraswati Chandra's father</td>\n",
       "      <td>/m/0gcy23_</td>\n",
       "    </tr>\n",
       "    <tr>\n",
       "      <th>2551</th>\n",
       "      <td>Woody Woodpecker</td>\n",
       "      <td>/m/0n5f97y</td>\n",
       "    </tr>\n",
       "    <tr>\n",
       "      <th>2564</th>\n",
       "      <td>Woody Woodpecker</td>\n",
       "      <td>/m/0n5f97y</td>\n",
       "    </tr>\n",
       "  </tbody>\n",
       "</table>\n",
       "</div>"
      ],
      "text/plain": [
       "                  Character_name Freebase_character_actor_map_ID\n",
       "588                 Tom Brookman                      /m/05gsc55\n",
       "589                 Tom Brookman                      /m/05gsc55\n",
       "863                 Mickey Mouse                      /m/0gy6vlc\n",
       "866                 Mickey Mouse                      /m/0gy6vlc\n",
       "1032                Minnie Mouse                      /m/0ksh9nd\n",
       "1035                Minnie Mouse                      /m/0ksh9nd\n",
       "1484  Saraswati Chandra's father                      /m/0gcy23_\n",
       "1485  Saraswati Chandra's father                      /m/0gcy23_\n",
       "2551            Woody Woodpecker                      /m/0n5f97y\n",
       "2564            Woody Woodpecker                      /m/0n5f97y"
      ]
     },
     "execution_count": 43,
     "metadata": {},
     "output_type": "execute_result"
    }
   ],
   "source": [
    "name_clusters[name_clusters.duplicated(keep = False)]"
   ]
  },
  {
   "cell_type": "markdown",
   "id": "52cc7461",
   "metadata": {},
   "source": [
    "Here are our 5 non unique freebase ids, for each pair their `Character_name` is also identical. Since the freebase id corresponds to a unique triplet [actor,character,movie], these entries were probably wrongly duplicated. Below we drop these duplicates to keep only one copy in the dataframe."
   ]
  },
  {
   "cell_type": "code",
   "execution_count": 44,
   "id": "09e7ebd8",
   "metadata": {},
   "outputs": [],
   "source": [
    "name_clusters.drop_duplicates(inplace=True)"
   ]
  },
  {
   "cell_type": "code",
   "execution_count": 45,
   "id": "4f8dc386",
   "metadata": {},
   "outputs": [
    {
     "name": "stdout",
     "output_type": "stream",
     "text": [
      "<class 'pandas.core.frame.DataFrame'>\n",
      "Int64Index: 2661 entries, 0 to 2665\n",
      "Data columns (total 2 columns):\n",
      " #   Column                           Non-Null Count  Dtype \n",
      "---  ------                           --------------  ----- \n",
      " 0   Character_name                   2661 non-null   object\n",
      " 1   Freebase_character_actor_map_ID  2661 non-null   object\n",
      "dtypes: object(2)\n",
      "memory usage: 62.4+ KB\n"
     ]
    }
   ],
   "source": [
    "name_clusters.info()"
   ]
  },
  {
   "cell_type": "code",
   "execution_count": 46,
   "id": "e9f25c02",
   "metadata": {},
   "outputs": [
    {
     "data": {
      "text/plain": [
       "Character_name                      970\n",
       "Freebase_character_actor_map_ID    2661\n",
       "dtype: int64"
      ]
     },
     "execution_count": 46,
     "metadata": {},
     "output_type": "execute_result"
    }
   ],
   "source": [
    "name_clusters.nunique()"
   ]
  },
  {
   "cell_type": "markdown",
   "id": "6990a8fd",
   "metadata": {},
   "source": [
    "Now, we have 2661 entries, all of them described by a unique `Freebase_character_actor_map_ID`. <br>\n",
    "\n",
    "Preprocessing ends here for the `name_clusters` dataframe."
   ]
  },
  {
   "cell_type": "markdown",
   "id": "fbc58a34-f296-4ab2-a91b-0b3c085dff4f",
   "metadata": {},
   "source": [
    "### Dataframe combinations"
   ]
  },
  {
   "cell_type": "code",
   "execution_count": 47,
   "id": "8f0afa02-7a7e-4af7-8b0e-be32b838f143",
   "metadata": {},
   "outputs": [
    {
     "name": "stdout",
     "output_type": "stream",
     "text": [
      "Movies dataframe has 81741 rows\n",
      "Characters dataframe has 450669 rows\n",
      "Plot_summaries dataframe has 42303 rows\n",
      "Character_types dataframe has 501 rows\n",
      "Name_clusters dataframe has 2661 rows\n"
     ]
    }
   ],
   "source": [
    "print(f'Movies dataframe has {len(movies)} rows')\n",
    "print(f'Characters dataframe has {len(characters)} rows')\n",
    "print(f'Plot_summaries dataframe has {len(plot_summaries)} rows')\n",
    "print(f'Character_types dataframe has {len(character_types)} rows')\n",
    "print(f'Name_clusters dataframe has {len(name_clusters)} rows')"
   ]
  },
  {
   "cell_type": "markdown",
   "id": "7dd29bd1-3bfc-4603-9d2f-00c159d6667d",
   "metadata": {},
   "source": [
    "Each of our dataframes do not have the same number of rows. However, we can still try to combine some dataframes together on specific common features. Below `movies` and `plot_summaries` are merged on `Wikipedia_movie_ID`. `character_types` is joined as well on `Freebase_character_actor_map_ID` with `characters`."
   ]
  },
  {
   "cell_type": "code",
   "execution_count": 48,
   "id": "f83bc28b-c287-48eb-a6d0-40c904a11242",
   "metadata": {
    "tags": []
   },
   "outputs": [
    {
     "data": {
      "text/html": [
       "<div>\n",
       "<style scoped>\n",
       "    .dataframe tbody tr th:only-of-type {\n",
       "        vertical-align: middle;\n",
       "    }\n",
       "\n",
       "    .dataframe tbody tr th {\n",
       "        vertical-align: top;\n",
       "    }\n",
       "\n",
       "    .dataframe thead th {\n",
       "        text-align: right;\n",
       "    }\n",
       "</style>\n",
       "<table border=\"1\" class=\"dataframe\">\n",
       "  <thead>\n",
       "    <tr style=\"text-align: right;\">\n",
       "      <th></th>\n",
       "      <th>Wikipedia_movie_ID</th>\n",
       "      <th>Freebase_movie_ID</th>\n",
       "      <th>Name</th>\n",
       "      <th>Release_date</th>\n",
       "      <th>Box_office_revenue</th>\n",
       "      <th>Runtime</th>\n",
       "      <th>Languages</th>\n",
       "      <th>Countries</th>\n",
       "      <th>Genres</th>\n",
       "      <th>Summary</th>\n",
       "    </tr>\n",
       "  </thead>\n",
       "  <tbody>\n",
       "    <tr>\n",
       "      <th>0</th>\n",
       "      <td>975900</td>\n",
       "      <td>/m/03vyhn</td>\n",
       "      <td>Ghosts of Mars</td>\n",
       "      <td>2001-08-24</td>\n",
       "      <td>14010832.0</td>\n",
       "      <td>98.0</td>\n",
       "      <td>english language</td>\n",
       "      <td>united states of america</td>\n",
       "      <td>thriller, science fiction, horror, adventure, ...</td>\n",
       "      <td>Set in the second half of the 22nd century, th...</td>\n",
       "    </tr>\n",
       "  </tbody>\n",
       "</table>\n",
       "</div>"
      ],
      "text/plain": [
       "   Wikipedia_movie_ID Freebase_movie_ID            Name Release_date  \\\n",
       "0              975900         /m/03vyhn  Ghosts of Mars   2001-08-24   \n",
       "\n",
       "   Box_office_revenue  Runtime         Languages                 Countries  \\\n",
       "0          14010832.0     98.0  english language  united states of america   \n",
       "\n",
       "                                              Genres  \\\n",
       "0  thriller, science fiction, horror, adventure, ...   \n",
       "\n",
       "                                             Summary  \n",
       "0  Set in the second half of the 22nd century, th...  "
      ]
     },
     "execution_count": 48,
     "metadata": {},
     "output_type": "execute_result"
    }
   ],
   "source": [
    "movies_plot = movies.merge(plot_summaries, on=\"Wikipedia_movie_ID\")\n",
    "movies_plot.head(1)"
   ]
  },
  {
   "cell_type": "markdown",
   "id": "56aacfb1-9dfc-4bab-9666-b05c19d6fc6c",
   "metadata": {},
   "source": [
    "# STEP 1: Primary analysis"
   ]
  },
  {
   "cell_type": "markdown",
   "id": "5a60ac20-be70-4dda-9258-456be219c8fa",
   "metadata": {},
   "source": [
    "A fist step in a data analysis pipeline is to look at the basic information and statistics we have about our data, such as the mean vales, the minimum, maximum, meadian and standard deviations. "
   ]
  },
  {
   "cell_type": "code",
   "execution_count": 49,
   "id": "c80831ba-c293-47c3-ab58-528930d1f187",
   "metadata": {},
   "outputs": [],
   "source": [
    "movies['year']=movies['Release_date'].dt.year "
   ]
  },
  {
   "cell_type": "code",
   "execution_count": 50,
   "id": "9bb7dce8-33a0-4dbd-8939-f3ea25cfa49b",
   "metadata": {},
   "outputs": [
    {
     "data": {
      "text/html": [
       "<div>\n",
       "<style scoped>\n",
       "    .dataframe tbody tr th:only-of-type {\n",
       "        vertical-align: middle;\n",
       "    }\n",
       "\n",
       "    .dataframe tbody tr th {\n",
       "        vertical-align: top;\n",
       "    }\n",
       "\n",
       "    .dataframe thead th {\n",
       "        text-align: right;\n",
       "    }\n",
       "</style>\n",
       "<table border=\"1\" class=\"dataframe\">\n",
       "  <thead>\n",
       "    <tr style=\"text-align: right;\">\n",
       "      <th></th>\n",
       "      <th>Runtime</th>\n",
       "      <th>Box_office_revenue</th>\n",
       "      <th>year</th>\n",
       "    </tr>\n",
       "  </thead>\n",
       "  <tbody>\n",
       "    <tr>\n",
       "      <th>min</th>\n",
       "      <td>0.000000</td>\n",
       "      <td>1.000000e+04</td>\n",
       "      <td>1888.000000</td>\n",
       "    </tr>\n",
       "    <tr>\n",
       "      <th>max</th>\n",
       "      <td>14400.000000</td>\n",
       "      <td>2.782275e+09</td>\n",
       "      <td>2016.000000</td>\n",
       "    </tr>\n",
       "    <tr>\n",
       "      <th>median</th>\n",
       "      <td>93.000000</td>\n",
       "      <td>1.063969e+07</td>\n",
       "      <td>1985.000000</td>\n",
       "    </tr>\n",
       "    <tr>\n",
       "      <th>mean</th>\n",
       "      <td>94.211593</td>\n",
       "      <td>4.799363e+07</td>\n",
       "      <td>1977.489892</td>\n",
       "    </tr>\n",
       "    <tr>\n",
       "      <th>count</th>\n",
       "      <td>61290.000000</td>\n",
       "      <td>8.401000e+03</td>\n",
       "      <td>74839.000000</td>\n",
       "    </tr>\n",
       "    <tr>\n",
       "      <th>std</th>\n",
       "      <td>91.297136</td>\n",
       "      <td>1.121753e+08</td>\n",
       "      <td>28.886090</td>\n",
       "    </tr>\n",
       "  </tbody>\n",
       "</table>\n",
       "</div>"
      ],
      "text/plain": [
       "             Runtime  Box_office_revenue          year\n",
       "min         0.000000        1.000000e+04   1888.000000\n",
       "max     14400.000000        2.782275e+09   2016.000000\n",
       "median     93.000000        1.063969e+07   1985.000000\n",
       "mean       94.211593        4.799363e+07   1977.489892\n",
       "count   61290.000000        8.401000e+03  74839.000000\n",
       "std        91.297136        1.121753e+08     28.886090"
      ]
     },
     "execution_count": 50,
     "metadata": {},
     "output_type": "execute_result"
    }
   ],
   "source": [
    "movies.agg(\n",
    "    {\n",
    "        \"Runtime\": [\"min\", \"max\", \"median\", \"mean\", \"count\", \"std\"],\n",
    "        \"Box_office_revenue\": [\"min\", \"max\", \"median\", \"mean\", \"count\", \"std\"],\n",
    "        \"year\": [\"min\", \"max\", \"median\", \"mean\", \"count\", \"std\"]\n",
    "    }\n",
    ")"
   ]
  },
  {
   "cell_type": "markdown",
   "id": "cc742f9a-d1c4-4752-98b8-4a5b767dd030",
   "metadata": {},
   "source": [
    "### Useful functions for temporal analysis"
   ]
  },
  {
   "cell_type": "code",
   "execution_count": 51,
   "id": "47f24d0c-cfba-4f30-908d-1b0633f560c7",
   "metadata": {},
   "outputs": [],
   "source": [
    "def time_analysis(name,thr,freq = '5y'):\n",
    "    analysis = movies_plot[movies_plot[name] > thr].copy()\n",
    "    \n",
    "    analysis = analysis.groupby(pd.to_datetime(analysis['Release_date']).dt.to_period(freq = freq)).apply(lambda x:\n",
    "    #All kind of analysis:\n",
    "        pd.Series({\n",
    "            'number': x[name].count(),\n",
    "            'mean_revenue' : x['Box_office_revenue'].mean(),\n",
    "            'mean_runtime' : x['Runtime'].mean(),\n",
    "        })\n",
    "    )\n",
    "    return analysis\n",
    "\n",
    "#See how to plot better\n",
    "def plot_time_analysis(time_analysis,name):\n",
    "    time = time_analysis.index.to_timestamp()\n",
    "    for analysis in time_analysis.columns:\n",
    "        #plt.plot(time,reg.predict(x),'k-',label = f'{round(reg.coef_[0],4)} year + {round(reg.intercept_,2)}')\n",
    "        plt.plot(time,time_analysis[analysis],'.',label = analysis)\n",
    "        plt.legend()\n",
    "        plt.xlabel('time [year]')\n",
    "        plt.title(analysis+' for '+name)\n",
    "        plt.show()"
   ]
  },
  {
   "cell_type": "markdown",
   "id": "2e6fa1fc-2cb0-4c3d-b76d-cbe476f2b226",
   "metadata": {},
   "source": [
    "### First visualizations"
   ]
  },
  {
   "cell_type": "markdown",
   "id": "437a8330-acd3-4ebd-850b-367d422ae9b9",
   "metadata": {},
   "source": [
    "The first intuitive plots to make are the number of movies released per year and the mean box office revenue per year. To do so, a new dataframe containing one row per year is created and contains the evolution of features we want to analyze."
   ]
  },
  {
   "cell_type": "code",
   "execution_count": 52,
   "id": "80f6e558-284b-4600-848e-3e9a6ae4f7ec",
   "metadata": {},
   "outputs": [
    {
     "data": {
      "image/png": "[encoded data removed]",
      "text/plain": [
       "<Figure size 2000x1400 with 7 Axes>"
      ]
     },
     "metadata": {},
     "output_type": "display_data"
    }
   ],
   "source": [
    "movies_dNA =  movies.dropna().copy()\n",
    "movies_datetime = movies_dNA.groupby((pd.to_datetime(movies_dNA['Release_date']).dt.to_period('Y'))).apply(lambda x: pd.Series({\n",
    "    'mean_runtime': x['Runtime'].mean(),\n",
    "    'mean_box_office_revenue': x['Box_office_revenue'].mean(),\n",
    "    'num_movies': len(x)\n",
    "}))\n",
    "\n",
    "def display_stats(col,name):\n",
    "    print(f'Statistics for {name}: min: {np.min(col)}, max: {np.max(col)}, median: {np.nanmedian(col)}, mean: {np.mean(col)}, std: {np.std(col)}')\n",
    "\n",
    "fig, axs = plt.subplots(4, 2)\n",
    "fig.set_size_inches(20,14)\n",
    "axs.ravel()[-1].remove()\n",
    "#fig.tight_layout()\n",
    "\n",
    "axs[2,0].hist(movies_dNA.Release_date, bins = 100)\n",
    "axs[2,0].set_ylabel('Frequency')\n",
    "axs[2,0].set_xlabel('Years')\n",
    "axs[2,0].set_title('Movie count distribution throughout the years (NAN rows removed)')\n",
    "\n",
    "axs[3,0].hist(movies.Release_date, bins = 100)\n",
    "axs[3,0].set_ylabel('Frequency')\n",
    "axs[3,0].set_xlabel('Years')\n",
    "axs[3,0].set_title('Movie count distribution throughout the years (with NAN rows)')\n",
    "\n",
    "axs[0,0].hist(np.log(movies_dNA['Box_office_revenue']), bins = 100,log=True,color = 'r')\n",
    "axs[0,0].set_ylabel('Frequency')\n",
    "axs[0,0].set_xlabel('Log Box office revenue')\n",
    "axs[0,0].set_title('Box office revenue distribution')\n",
    "\n",
    "axs[0,1].plot(movies_datetime.index.to_timestamp(),movies_datetime['mean_box_office_revenue'],'r.:')\n",
    "axs[0,1].set_ylabel('Box office revenue [unit]')\n",
    "axs[0,1].set_xlabel('Years')\n",
    "axs[0,1].set_title('Box office revenue through years')\n",
    "\n",
    "axs[1,1].plot(movies_datetime.index.to_timestamp(),movies_datetime['mean_runtime'],'g.:')\n",
    "axs[1,1].set_ylabel('Runtime [min]')\n",
    "axs[1,1].set_xlabel('Years')\n",
    "axs[1,1].set_title('Mean runtime through years (NAN rows removed)')\n",
    "\n",
    "axs[1,0].hist(movies_dNA.Runtime, bins = 100,log=True,color = 'g')\n",
    "axs[1,0].set_ylabel('Frequency')\n",
    "axs[1,0].set_xlabel('Runtime [min]')\n",
    "axs[1,0].set_title('Runtime distribution')\n",
    "\n",
    "\n",
    "movies_datetimeNA = movies.groupby((pd.to_datetime(movies['Release_date']).dt.to_period('Y'))).apply(lambda x: pd.Series({\n",
    "    'mean_runtime': x['Runtime'].mean(),\n",
    "    'mean_box_office_revenue': x['Box_office_revenue'].mean(),\n",
    "    'num_movies': len(x)\n",
    "}))\n",
    "axs[2,1].plot(movies_datetimeNA.index.to_timestamp(),movies_datetimeNA['mean_runtime'],'g.:')\n",
    "axs[2,1].set_ylabel('Runtime [min]')\n",
    "axs[2,1].set_xlabel('Years')\n",
    "axs[2,1].set_title('Mean runtime through years (with NAN rows)')\n",
    "\n",
    "plt.tight_layout(pad=4)\n",
    "fig.suptitle('Data set basics statistics', fontsize=16)\n",
    "#fig.supxlabel('Years')\n",
    "plt.show()"
   ]
  },
  {
   "cell_type": "code",
   "execution_count": 53,
   "id": "0787ba1d-2f77-40de-b20d-e0dc32e43cf9",
   "metadata": {},
   "outputs": [
    {
     "name": "stdout",
     "output_type": "stream",
     "text": [
      "By removing all rows containing NaN values, our dataset contains: 8243 films\n",
      "Movie years of release span from 1914 to 2012.\n",
      "Our dataset does not contain films in the years [1916 1917 1918 1919 1922]\n"
     ]
    }
   ],
   "source": [
    "print(f'By removing all rows containing NaN values, our dataset contains: {len(movies_dNA)} films')\n",
    "print(f'Movie years of release span from {movies_datetime.index.min()} to {movies_datetime.index.max()}.')\n",
    "y = np.array(range(1914,2012))\n",
    "missing_years = y[[str(x) not in movies_datetime.index for x in y]] \n",
    "print('Our dataset does not contain films in the years', missing_years)"
   ]
  },
  {
   "cell_type": "markdown",
   "id": "8a0ea2bc-858f-4c6d-be54-5af0fb5f6e31",
   "metadata": {},
   "source": [
    "As mentionned earlier, the distributions change significantly if we remove rows containing NaN value. Indeed, a lot of non NaN runtime values are discarded if we decide to remove NaN rows. The same phenomena occurs for the movie distribution through the years. For further analysis in this notebook, we want to keep as much values as possible; so we will try to work with the raw data.\n",
    "\n",
    "The left column illustrates different features' distributions. The box office revenue (log scale) and the movie count per year are heavy tailed and seemed to be correlated. Nonetheless, with this first plot, we cannot conclude anything yet. \n",
    "The movie runtime distribution seems to be more normally distributed (also plotted in log scale). A QQ plot or a boxplot could be fitted to observe to what extent the runtime is gaussian. Some outliers seem to be basic mistakes like being expressed in different units. One movie appears to have a runtime of 1000 minutes ~ 16h which clearly is too big. We could specifically look into these movies but in any case the runtime won't be at the center of our analysis.\n",
    "\n",
    "The fluctuations in early years comes from the fact that they contain only a few movies and it is therefore difficult to have a stable global tendency."
   ]
  },
  {
   "cell_type": "markdown",
   "id": "91504890-18b6-4326-bab1-28dc3dd8f562",
   "metadata": {},
   "source": [
    "#### Language and country visualizations"
   ]
  },
  {
   "cell_type": "markdown",
   "id": "4f16cba2",
   "metadata": {},
   "source": [
    "We first replace the blank entries  for the `Countries` and the `Languages` by NaN values to avoid counting them in the visualizations. We also remove the word 'language' in the `Languages`features to set, for exemple, 'German' and 'German language' equivalent."
   ]
  },
  {
   "cell_type": "code",
   "execution_count": 54,
   "id": "da9dbe3e",
   "metadata": {},
   "outputs": [],
   "source": [
    "movies.Countries.replace('', np.nan, regex=False, inplace=True)\n",
    "movies.Languages.replace('', np.nan, regex=False, inplace=True)\n",
    "movies.Languages.replace(' language', '', regex=True, inplace=True)"
   ]
  },
  {
   "cell_type": "markdown",
   "id": "cb0a4450",
   "metadata": {},
   "source": [
    "We then remove these NaN values in a copy of the `movies`data to not alter the original one as we previously saw that removing these NaN values for all analysis will limit too much our dataset."
   ]
  },
  {
   "cell_type": "code",
   "execution_count": 55,
   "id": "68b680b4",
   "metadata": {},
   "outputs": [],
   "source": [
    "movies_country = movies[movies.Countries.notna()].copy() #remove only the row where Countries contain NaN values\n",
    "movies_languages = movies[movies.Languages.notna()].copy() #remove only the row where Languages contain NaN values"
   ]
  },
  {
   "cell_type": "markdown",
   "id": "da7128d5",
   "metadata": {},
   "source": [
    "Creation of a list containing all unique language used in our dataset, here there are 210 of them."
   ]
  },
  {
   "cell_type": "code",
   "execution_count": 56,
   "id": "7ffeb57c",
   "metadata": {},
   "outputs": [],
   "source": [
    "languages_list = []\n",
    "for languages in movies_languages['Languages']: # languages is a string of languages\n",
    "    for language in languages.split(', '): # language is a single language\n",
    "        if language not in languages_list:\n",
    "            languages_list.append(language) # add language to the list of languages"
   ]
  },
  {
   "cell_type": "code",
   "execution_count": 57,
   "id": "b74aecdb",
   "metadata": {},
   "outputs": [
    {
     "data": {
      "text/plain": [
       "210"
      ]
     },
     "execution_count": 57,
     "metadata": {},
     "output_type": "execute_result"
    }
   ],
   "source": [
    "len(languages_list)"
   ]
  },
  {
   "cell_type": "markdown",
   "id": "8eafd605",
   "metadata": {},
   "source": [
    "We then create a Dataframe containing the number of time a language appeared throughout all movies."
   ]
  },
  {
   "cell_type": "code",
   "execution_count": 58,
   "id": "c06227e0",
   "metadata": {
    "scrolled": true
   },
   "outputs": [
    {
     "data": {
      "text/html": [
       "<div>\n",
       "<style scoped>\n",
       "    .dataframe tbody tr th:only-of-type {\n",
       "        vertical-align: middle;\n",
       "    }\n",
       "\n",
       "    .dataframe tbody tr th {\n",
       "        vertical-align: top;\n",
       "    }\n",
       "\n",
       "    .dataframe thead th {\n",
       "        text-align: right;\n",
       "    }\n",
       "</style>\n",
       "<table border=\"1\" class=\"dataframe\">\n",
       "  <thead>\n",
       "    <tr style=\"text-align: right;\">\n",
       "      <th></th>\n",
       "      <th>Sum</th>\n",
       "    </tr>\n",
       "  </thead>\n",
       "  <tbody>\n",
       "    <tr>\n",
       "      <th>english</th>\n",
       "      <td>41029</td>\n",
       "    </tr>\n",
       "    <tr>\n",
       "      <th>norwegian</th>\n",
       "      <td>208</td>\n",
       "    </tr>\n",
       "    <tr>\n",
       "      <th>german</th>\n",
       "      <td>2281</td>\n",
       "    </tr>\n",
       "    <tr>\n",
       "      <th>silent film</th>\n",
       "      <td>3183</td>\n",
       "    </tr>\n",
       "    <tr>\n",
       "      <th>spanish</th>\n",
       "      <td>3673</td>\n",
       "    </tr>\n",
       "    <tr>\n",
       "      <th>...</th>\n",
       "      <td>...</td>\n",
       "    </tr>\n",
       "    <tr>\n",
       "      <th>chewa</th>\n",
       "      <td>1</td>\n",
       "    </tr>\n",
       "    <tr>\n",
       "      <th>haryanvi</th>\n",
       "      <td>2</td>\n",
       "    </tr>\n",
       "    <tr>\n",
       "      <th>assyrian</th>\n",
       "      <td>5</td>\n",
       "    </tr>\n",
       "    <tr>\n",
       "      <th>papiamento</th>\n",
       "      <td>1</td>\n",
       "    </tr>\n",
       "    <tr>\n",
       "      <th>kuna</th>\n",
       "      <td>1</td>\n",
       "    </tr>\n",
       "  </tbody>\n",
       "</table>\n",
       "<p>210 rows × 1 columns</p>\n",
       "</div>"
      ],
      "text/plain": [
       "               Sum\n",
       "english      41029\n",
       "norwegian      208\n",
       "german        2281\n",
       "silent film   3183\n",
       "spanish       3673\n",
       "...            ...\n",
       "chewa            1\n",
       "haryanvi         2\n",
       "assyrian         5\n",
       "papiamento       1\n",
       "kuna             1\n",
       "\n",
       "[210 rows x 1 columns]"
      ]
     },
     "execution_count": 58,
     "metadata": {},
     "output_type": "execute_result"
    }
   ],
   "source": [
    "dict_of_lang = {language : [movies_languages['Languages'].apply(lambda x: int(x.count(language))).sum()] for language in languages_list}\n",
    "Languages_sum = pd.DataFrame.from_dict(dict_of_lang,orient='index', columns=['Sum'])\n",
    "Languages_sum"
   ]
  },
  {
   "cell_type": "code",
   "execution_count": 59,
   "id": "31f0fc52",
   "metadata": {
    "scrolled": true
   },
   "outputs": [
    {
     "data": {
      "text/plain": [
       "Text(0.5, 1.0, 'Language distribution')"
      ]
     },
     "execution_count": 59,
     "metadata": {},
     "output_type": "execute_result"
    },
    {
     "data": {
      "text/plain": [
       "<Figure size 1000x200 with 0 Axes>"
      ]
     },
     "metadata": {},
     "output_type": "display_data"
    },
    {
     "data": {
      "image/png": "[encoded data removed]",
      "text/plain": [
       "<Figure size 640x480 with 1 Axes>"
      ]
     },
     "metadata": {},
     "output_type": "display_data"
    }
   ],
   "source": [
    "plt.figure(figsize=(10,2))\n",
    "Languages_sum.sort_values(by='Sum').tail().plot.barh()\n",
    "plt.xlabel('Number of movies')\n",
    "plt.title('Language distribution')"
   ]
  },
  {
   "cell_type": "markdown",
   "id": "ec9e432e-acfb-405d-b113-dd37c194acec",
   "metadata": {},
   "source": [
    "Here, we can see the top five languages. English being the global language and the US dominating the movie market, it is not surprising that the english language monopolizes the movie industry. The seconde language is the Hindi which also reflects the importance of the Bollywood industry. One can also observe that silent films are predominant as first film do not have sound. "
   ]
  },
  {
   "cell_type": "markdown",
   "id": "52e54948",
   "metadata": {},
   "source": [
    "Creation of a list containing all unique language used in our dataset, here there are 146 of them."
   ]
  },
  {
   "cell_type": "code",
   "execution_count": 60,
   "id": "5133cb3d-67cb-47f5-b503-bd8d1755d66f",
   "metadata": {},
   "outputs": [
    {
     "data": {
      "text/plain": [
       "146"
      ]
     },
     "execution_count": 60,
     "metadata": {},
     "output_type": "execute_result"
    }
   ],
   "source": [
    "countries_list = []\n",
    "for countries in movies_country['Countries']: # countries is a string of countries\n",
    "    for country in countries.split(', '): # country is a single country\n",
    "        if country not in countries_list:\n",
    "            countries_list.append(country) # add country to the list of countries\n",
    "\n",
    "len(countries_list)"
   ]
  },
  {
   "cell_type": "markdown",
   "id": "5a592c4d",
   "metadata": {},
   "source": [
    "We then create a Dataframe containing the number of time a country appeared throughout all movies."
   ]
  },
  {
   "cell_type": "code",
   "execution_count": null,
   "id": "57fa582a",
   "metadata": {
    "scrolled": true
   },
   "outputs": [],
   "source": [
    "dict_of_country = {country : [movies_country['Countries'].apply(lambda x: int(x.count(country))).sum()] for country in countries_list}\n",
    "Country_sum = pd.DataFrame.from_dict(dict_of_country,orient='index', columns=['Sum'])\n",
    "Country_sum"
   ]
  },
  {
   "cell_type": "code",
   "execution_count": null,
   "id": "40999c30-feac-4e9e-86ef-2f76af36d6ee",
   "metadata": {
    "scrolled": true
   },
   "outputs": [],
   "source": [
    "plt.figure(figsize=(10,2))\n",
    "Country_sum.sort_values(by='Sum').tail().plot.barh()\n",
    "plt.xlabel('Number of movies')\n",
    "plt.title('Country distribution')"
   ]
  },
  {
   "cell_type": "markdown",
   "id": "87a877dc-5e62-4f58-9aac-b810fa715d8c",
   "metadata": {},
   "source": [
    "As expected, the very large majority of movies are from the USA, then most of the rest of movies can be divided into 4 main countries: India, United Kingdom, France and Italy. The other countries are underrepresented compared to these, having released very few movies. Therefore, we will now analyze the `box office revenues` of movies produced in each of these 5 prinicpal countries, since they group most of the movies."
   ]
  },
  {
   "cell_type": "code",
   "execution_count": null,
   "id": "1691c292-2dfa-4463-b64e-3dd41fd3341b",
   "metadata": {},
   "outputs": [],
   "source": [
    "short_countries_list = ['united states of america', 'india', 'united kingdom', 'france', 'italy']"
   ]
  },
  {
   "cell_type": "code",
   "execution_count": null,
   "id": "d2dc6bf2",
   "metadata": {},
   "outputs": [],
   "source": [
    "movies_country = movies_country[movies_country.Box_office_revenue.notna()]"
   ]
  },
  {
   "cell_type": "code",
   "execution_count": null,
   "id": "89570d2e-c028-40e0-9736-5f0e7d426724",
   "metadata": {},
   "outputs": [],
   "source": [
    "for country in short_countries_list:\n",
    "    movies_country[country] = movies_country['Countries'].apply(lambda x: int(x.count(country)>=1))"
   ]
  },
  {
   "cell_type": "code",
   "execution_count": null,
   "id": "473e5e02-21ae-4a55-9210-6efe5959f912",
   "metadata": {},
   "outputs": [],
   "source": [
    "Country_Box_office_revenue = movies_country.groupby(pd.to_datetime(movies_country['Release_date']).dt.to_period(freq = 'y')).apply(lambda x:\n",
    "    #All kind of analysis:\n",
    "        pd.Series({\n",
    "            'number': x.count(),\n",
    "            'mean_US' : x[x['united states of america']>0].Box_office_revenue.mean(),\n",
    "            'mean_India' : x[x['india']>0].Box_office_revenue.mean(),\n",
    "            'mean_UK' : x[x['united kingdom']>0].Box_office_revenue.mean(),\n",
    "            'mean_FR' : x[x['france']>0].Box_office_revenue.mean(),\n",
    "            'mean_IT' : x[x['italy']>0].Box_office_revenue.mean(),\n",
    "        }))"
   ]
  },
  {
   "cell_type": "code",
   "execution_count": null,
   "id": "6e84ee3d-3951-44ac-ae57-335654e63ecb",
   "metadata": {},
   "outputs": [],
   "source": [
    "plt.figure(figsize=(16,6))\n",
    "Country_Box_office_revenue.mean_US.plot(label=\" US\", legend=True)\n",
    "Country_Box_office_revenue.mean_India.plot(label=\"India\", legend=True)\n",
    "Country_Box_office_revenue.mean_UK.plot(label=\"UK\", legend=True)\n",
    "Country_Box_office_revenue.mean_FR.plot(label=\"France\", legend=True)\n",
    "Country_Box_office_revenue.mean_IT.plot(label=\"Italy\", legend=True)\n",
    "plt.ylabel('Box Office Revenue')\n",
    "plt.title('Box office revenue time evolution by country')\n",
    "#fig.suptitle('Box Office revenue', fontsize=16)"
   ]
  },
  {
   "cell_type": "markdown",
   "id": "500809e3",
   "metadata": {},
   "source": [
    "Here, we can see the evolution of the `Box_office_revenue` for each principal country over time. First, note that there are some holes which correspond to the fact that maybe there was no movies produced or/and movies were removed when one of the information of `Box_office_revenue`or `Countries` was missing. <br>\n",
    "As shown above, the USA are in the film industry from the begining and they had the monopoly until 1955. Then, Italy and United Kingdom also emerged in the film industry with some up and downs throughout years. <br>\n",
    "Then, France industry emerged around 1970-1990 competing with the USA industry via successful movies. However, they Box office revenue did not growth as fast as the Hollywood industry since 1995. <br>\n",
    "Finally, we can see that India is a direct competitor of the USA industry since 2010 which correlates with the explosion of the Bollywood industry. "
   ]
  },
  {
   "cell_type": "markdown",
   "id": "9d818c73-f08b-43c5-ba84-e72e6c327b39",
   "metadata": {},
   "source": [
    "### Genre analysis"
   ]
  },
  {
   "cell_type": "markdown",
   "id": "1384df2e-75e0-4d7d-bb38-58bdeca6a8f9",
   "metadata": {},
   "source": [
    "Let's start by creating a list containing all the genres present in the `movies` dataset. This will allow us to analyze the evolution of genres throughout the years and determine if ceratin historical events are associated to a given genre."
   ]
  },
  {
   "cell_type": "code",
   "execution_count": null,
   "id": "3dab513a-351e-4592-8e79-c0fa11e8c922",
   "metadata": {},
   "outputs": [],
   "source": [
    "genre_list = []\n",
    "for genres in movies_plot['Genres']: # genres is a string of genres\n",
    "    for genre in genres.split(', '): # genre is a single genre\n",
    "        if genre not in genre_list:\n",
    "            genre_list.append(genre) # add genre to the list of genres\n",
    "\n",
    "genre_list = [x.lower() for x in genre_list]"
   ]
  },
  {
   "cell_type": "code",
   "execution_count": null,
   "id": "f1002fb8-83d2-4ad0-b99c-0ab93d0d042b",
   "metadata": {},
   "outputs": [],
   "source": [
    "len(genre_list)"
   ]
  },
  {
   "cell_type": "markdown",
   "id": "a7348c4a-6552-4972-bd88-9af714f33d01",
   "metadata": {},
   "source": [
    "There are **364** different genres defined in the dataset. Some might be repetitive with each other, it might therefore be possible to group some genres together as done below using the `movies_genres` list. We can also remove the empty, film and short films from the `genre_list`, since they do not represent any concrete genre. "
   ]
  },
  {
   "cell_type": "code",
   "execution_count": null,
   "id": "4ebae887-0918-4712-8b35-bdbdaef735ce",
   "metadata": {},
   "outputs": [],
   "source": [
    "genre_list.remove('')\n",
    "genre_list.remove('film')\n",
    "genre_list.remove('short film')"
   ]
  },
  {
   "cell_type": "markdown",
   "id": "3eadb2a6-daa0-40bd-9d5e-8334cd99c165",
   "metadata": {},
   "source": [
    "Now that our genres are defined, we can create a one hot encoding of the presence of a given genre in a movie. If a genre is used to define a movie it will be assigned a value of `1`, if it doesn't describe the movie it will be assigned a `0`."
   ]
  },
  {
   "cell_type": "code",
   "execution_count": null,
   "id": "017915db-de0e-469d-895b-2cffd12549d7",
   "metadata": {},
   "outputs": [],
   "source": [
    "for genre in genre_list:\n",
    "    movies_plot[genre] = movies_plot['Genres'].apply(lambda x: int(x.count(genre)>=1)) "
   ]
  },
  {
   "cell_type": "markdown",
   "id": "1fe12260-b5b8-423a-9aee-e0114594e275",
   "metadata": {},
   "source": [
    "It can be interesting to determine which movie genre was the most realeased every decade, the popular genres might give informtion about historical events that have influenced the given trends."
   ]
  },
  {
   "cell_type": "code",
   "execution_count": null,
   "id": "f8d1ead0-6749-41d6-8b0b-41fe8fe03d0b",
   "metadata": {},
   "outputs": [],
   "source": [
    "fav_genres = movies_plot.groupby(pd.Grouper(key='Release_date',freq='10Y')).apply(lambda x: x.iloc[:,13:].sum(axis=0))\n",
    "fav_genres"
   ]
  },
  {
   "cell_type": "code",
   "execution_count": null,
   "id": "01859ae0-8d38-4eac-9311-5165dd699ae4",
   "metadata": {},
   "outputs": [],
   "source": [
    "maxGenre = fav_genres.max(axis=1)\n",
    "maxGenre_id = fav_genres.idxmax(axis=1)\n",
    "maxGenre_id"
   ]
  },
  {
   "cell_type": "markdown",
   "id": "99e94645-3f5f-4ee0-8a79-04a97857e621",
   "metadata": {},
   "source": [
    "From the output above, in the 1890s the most prevalent genre was `indie`. Indie movies are short films produced outside the major filming studios and by independent entertainment companies, therefore their presence in the 1890s marks the begining of film making, when the very first short movies were created. Then, between the 1900s and 1920s, `silent movies` were produced in majority. This also illustrates the film making historical timeline, [Warner Bros](https://www.moma.org/learn/moma_learning/themes/film/experimentation-with-sound/#:~:text=On%20October%206%2C%201927%2C%20Warner,was%20a%20revelation%20for%20audiences.) were the first to syncronise sound recordings to movies in 1927, from this point onwards sound was widely used in movies. Between the 1930s and the 1940s the most released genre was `black-and-white`, which is understandable given that color motion picture films were introduced around 1940 but only came to wide use in 1950, as explained by this [\"Wikipedia\"](https://en.wikipedia.org/wiki/Color_motion_picture_film#:~:text=They%20were%20introduced%20around%201940,production%20in%20the%20early%201950s.) article. However, from the 1940s onwards, `drama` is the most popular genre produced, which might reflect the general public's preference, since movies were much more accessible to all from the 1950s onwards due to the television's arrival on the market. The television first, then home videos and later on internet strongly influenced the distribution and consumption of films, as more people watched movies, more movies were made to please the public, which might explain why drama movies were made abundantly."
   ]
  },
  {
   "cell_type": "code",
   "execution_count": null,
   "id": "3198825f-f70b-4d4b-8d7e-5ab5f6bc854e",
   "metadata": {},
   "outputs": [],
   "source": [
    "indie_movies = time_analysis('indie', 0, freq='2y')\n",
    "silent_movies = time_analysis('silent film', 0, freq='2y')\n",
    "bw_movies = time_analysis('black-and-white', 0, freq='2y')\n",
    "drama_movies = time_analysis('drama', 0, freq='2y')"
   ]
  },
  {
   "cell_type": "markdown",
   "id": "e72a411a-07c5-4f8c-8f8a-402d8f9c4c6d",
   "metadata": {},
   "source": [
    "Let's look at the evolution of the presence of these genres with time."
   ]
  },
  {
   "cell_type": "code",
   "execution_count": null,
   "id": "f0850857-e9ba-4969-bd16-f2035c9e83b5",
   "metadata": {},
   "outputs": [],
   "source": [
    "plt.figure(figsize = (16,6))\n",
    "indie_movies.number.plot(label=\"number of indie movies\", legend=True)\n",
    "silent_movies.number.plot(label=\"number of silent movies\", legend=True)\n",
    "bw_movies.number.plot(label=\"number of black and white movies\", legend=True)\n",
    "plt.ylabel('Number of movies (indie, silent, black and white scale)')\n",
    "drama_movies.number.plot(secondary_y=True, label=\"number of drama movies\", legend=True)\n",
    "plt.title('Evolution of the most released genres with time')\n",
    "plt.ylabel('Number of movies (drama scale)')"
   ]
  },
  {
   "cell_type": "markdown",
   "id": "f035c0db-49d7-4bad-8c5d-66dda25787d9",
   "metadata": {},
   "source": [
    "The evolution of the number of movies of each genre described above highlights the historical events representing major technological milestones for film making. We can see peaks in each curve that follow each other in chronological order: first a peak in indie and silent movies appear, followed by a peak in black-and-white movies and several years later a very strong increase in drama movies. Indie movies also underwent a significant increase after the 1990s, but this is probably due to stong growth of the movie industry and its productivity overall. "
   ]
  },
  {
   "cell_type": "markdown",
   "id": "0aa4dfe4-b21d-46b3-82b9-5089126e6a67",
   "metadata": {
    "tags": []
   },
   "source": [
    "# STEP 2: Historical dictionnary definitions and applications"
   ]
  },
  {
   "cell_type": "markdown",
   "id": "69f8b4de",
   "metadata": {},
   "source": [
    "Below we define some 'dictionaries'.\n",
    "These are in fact lists of words that are specific to a historical event. These events can be of different types: either they are defined by a finite period of time (e.g. world war) or they are movements that appeared at a certain time and then evolved in a continuous manner throughout the years. The goal is then to parse the summary plot of each movie through these dictionaries in order to identify if the movie is related to the event either in his subject or his decorum. With that goal in mind, we chose some events that seem most recognizable in the summaries, thanks to their differentiated lexical fields. <br>\n",
    "To actually chose the words to put in the dictionaries, we retrieved some lexical fields found on the internet, then aggregated and filter them to get more specificity. For example 'Tommy' was the nickname of the British soldiers during the two world wars, but it is also the name of some characters throughout that are present in movies that have nothing to do with world wars, thus these types of words were discarded. <br>\n",
    "To associate a movie with an event we first count the number of occurrences the words in the dictionary occur in a specific plot summary, and we decide to assign the film to the corresponding historical event if the word count is greater than a hand-picked threshold. "
   ]
  },
  {
   "cell_type": "markdown",
   "id": "b7892e67-7a52-4045-99fd-3e7e74f7e04c",
   "metadata": {},
   "source": [
    "### World War I"
   ]
  },
  {
   "cell_type": "code",
   "execution_count": null,
   "id": "30a784ba-ad40-4c8b-88bf-09e52c2b1b5e",
   "metadata": {},
   "outputs": [],
   "source": [
    "WW1 =  ['WW1', 'World War 1', '1914', '1918', 'Allies', 'armistice', 'Central Powers', 'conscription', 'front line', 'Joffre', 'Kaiser', 'Marne',\n",
    "        'mustard gas', 'no man’s land', 'Pétain', 'u boats', 'Somme', 'Treaty of Versailles', 'trench', 'Verdun', 'Western front', \n",
    "        'zeppelin', 'artillery', 'doughboy', 'duckboards', 'dreadnought', 'mobilize', 'Prussia', 'Schlieffen plan', 'Tsar', 'Archduke Ferdinand',\n",
    "        'Red Baron', 'big four', 'Christmas truce', 'Wilson', 'Lusitania', 'Battalion', 'triple entente', 'Great War', 'flamethrower', 'mills bomb',\n",
    "        'storm troop', 'ace', 'recco', 'tailspin', 'boche', 'wipers', 'kiwi', 'Aussie', 'cootie', 'Flanders', 'mud', 'war effort', \n",
    "        'League of Nations']\n",
    "WW1 = [x.lower() for x in WW1]"
   ]
  },
  {
   "cell_type": "markdown",
   "id": "fdc5de60-d3be-4385-96c9-74fb8f190692",
   "metadata": {},
   "source": [
    "### World War II"
   ]
  },
  {
   "cell_type": "code",
   "execution_count": null,
   "id": "a39cd366-9282-4c83-9622-61079caaafe8",
   "metadata": {},
   "outputs": [],
   "source": [
    "WW2 =  ['Allies','Auschwitz','Bombardment', 'battleship', 'Bailey bridge', 'Blitzkrieg','Churchill','D-Day',' ss'\n",
    "        'Dunkirk', 'Doolittle', 'de Gaulle','English Channel', 'Eisenhower','Enigma','flying tigers', 'free french',\n",
    "        'nazi','helmet','Hiroshima','Invasion','Luftwaffe','Manhattan Project', 'Midway','Pearl harbor','Normandy', 'Nagasaki',\n",
    "        'Panzer','Roosevelt', 'Rangers','Resistance','Truman', 'Stalin', 'tank','Victory', 'V-1 rocket','doodlebugs',\n",
    "        'World War II','ww2','Hitler','air raid','shelter','siren','Battle of Britain','evacuee','evacuation','gas mask',\n",
    "        'spitfire', '1939', '1945']\n",
    "WW2 = [x.lower() for x in WW2]"
   ]
  },
  {
   "cell_type": "markdown",
   "id": "217c4a2d-2e54-4b5d-8933-04d1fc0a7e23",
   "metadata": {},
   "source": [
    "### Space race"
   ]
  },
  {
   "cell_type": "code",
   "execution_count": null,
   "id": "9cfb61fe-95e7-429c-985e-70db836d3de9",
   "metadata": {},
   "outputs": [],
   "source": [
    "Space = ['aeronautics','Alan Shepard','Apollo','Cape Canaveral','capitalism','Cold War','Communism','Gemini','heat shields', \n",
    "         'Houston','John Glenn','Laika','launch','Lunar Module','Mercury','Michael Collins','Mission Control','NASA','neil Armstrong',\n",
    "         'orbit','planet','rocket','satellite','Scott Carpenter','Sergei Korolev','solar system','space','space exploration','Space Race',\n",
    "         'Sputnik','superpowers','test pilot',' USA',' URSS','Yuri Gagarin']\n",
    "Space = [x.lower() for x in Space]"
   ]
  },
  {
   "cell_type": "markdown",
   "id": "a69cb207-eee2-4c0b-9144-cbec662f00d7",
   "metadata": {},
   "source": [
    "### Technological revolution"
   ]
  },
  {
   "cell_type": "code",
   "execution_count": null,
   "id": "8cdfdc7f-6453-4c4c-afb1-746abb51064c",
   "metadata": {},
   "outputs": [],
   "source": [
    "Tech = ['Application', 'Bandwidth','Blog', 'Browser', 'Bugs', 'Bytes',' CAD', ' CAM','Camera', ' CD', 'phone',' Codes', ' Computer',' Copyright', ' Cyberspace',\n",
    "        ' Data',' Database',' Debug',' Digital', ' Disk',' Display', ' Download',' Drive', ' car',' E-mail', 'Electronic',' Electronics','Bio-tech',' Ethernet'\n",
    "        ,'FaceBook',' Fax',' Fiber optic',' File',' Geek',' GIF',' net',' Hackers',' Hard disk',' Hard drive',' Hardware', ' Hypertext', ' Informatics', ' Innovation',\n",
    "        ' Internet',' IPAD',' Joystick',' JPEG',' mail',  'Keyboard','Keypad',' Laptop',' Laser',' robot','Matrix', ' Networks', \n",
    "        ' Operating system',' Printer',' Processor',' Program',' Programmer',' Protocol',' Radio',' Satellite',' Scan',' Screen',' Script',' Search engine',\n",
    "        ' Share','Software',' Spam', 'Statistics',' Technology',' Telecommunication',' Television', 'google','youtube','yahoo','connector',' Upload',' Username',' User-friendly',\n",
    "        ' Video',' Virus',' Web',' Wireless', ' www','Worldwide web',' weapons',' plane']\n",
    "Tech = [x.lower() for x in Tech]"
   ]
  },
  {
   "cell_type": "markdown",
   "id": "ae37947a-57ca-4632-85c1-41ff635cf8c8",
   "metadata": {},
   "source": [
    "### Racial segregation"
   ]
  },
  {
   "cell_type": "code",
   "execution_count": null,
   "id": "dfe85372-9894-4d00-a39a-76f62f576e63",
   "metadata": {},
   "outputs": [],
   "source": [
    "Segregation = ['Racial', 'ethnic groups', 'apartheid', 'Nelson Mandela', 'racial discrimination', 'Jim Crow laws', 'white supremacy', \n",
    "               'interracial marriage', 'Rosa Parks', 'Martin Luther King Jr', 'Civil rights', 'Negro', 'discrimination']\n",
    "Segregation = [x.lower() for x in Segregation]"
   ]
  },
  {
   "cell_type": "markdown",
   "id": "766aace4-e06d-4e68-91b0-22ae903eb978",
   "metadata": {},
   "source": [
    "### LGBTQ+ emancipation"
   ]
  },
  {
   "cell_type": "code",
   "execution_count": null,
   "id": "e4e6c3ef-bf3c-4f50-bea8-2d1db270d282",
   "metadata": {},
   "outputs": [],
   "source": [
    "LGBT = ['Lesbian', 'gay', 'Bisexual', 'transgender', 'gender identity', 'non-cisgender', 'queer', 'Gender variance', 'homosexuality', \n",
    "        'Gay liberation', 'Stereotype', 'AIDS stigma', 'feminism', 'gay rights', 'Daughters of Bilitis', 'patriarchal', 'marginalize', ]\n",
    "LGBT = [x.lower() for x in LGBT]"
   ]
  },
  {
   "cell_type": "markdown",
   "id": "d58151f8-d476-4c1c-ae13-6ee6c9436824",
   "metadata": {},
   "source": [
    "### Dictionnary applications and metrics"
   ]
  },
  {
   "cell_type": "markdown",
   "id": "034d987c-8298-434a-b72e-a8193d4d5b6a",
   "metadata": {},
   "source": [
    "For consistency, we will apply a lower case every plot summary:"
   ]
  },
  {
   "cell_type": "code",
   "execution_count": null,
   "id": "01cf3888-3bcf-414e-8280-0fecb637e550",
   "metadata": {},
   "outputs": [],
   "source": [
    "summaries = movies_plot.Summary.apply(lambda h: h.lower())"
   ]
  },
  {
   "cell_type": "markdown",
   "id": "aa16d4ac-cea7-41a1-919d-d6a5f8f40763",
   "metadata": {},
   "source": [
    "We can create a first feature containing the count of the number of times a word from a given dictionnary appears in a plot summary. This function creates a new column in the movies_plot DF."
   ]
  },
  {
   "cell_type": "code",
   "execution_count": null,
   "id": "ba4bdd76-ced9-49d1-ba30-992b7dbbfbbc",
   "metadata": {},
   "outputs": [],
   "source": [
    "def count_dict(name, dictionnary):\n",
    "    movies_plot[name] = summaries.apply(lambda summary: np.sum([summary.count(word) for word in dictionnary]))\n",
    "                                          "
   ]
  },
  {
   "cell_type": "code",
   "execution_count": null,
   "id": "79d1aa0d-0fc5-4516-b1b2-434b29c1903e",
   "metadata": {},
   "outputs": [],
   "source": [
    "count_dict('WW1', WW1)\n",
    "count_dict('WW2', WW2)\n",
    "count_dict('SpaceRace', Space)\n",
    "count_dict('Tech', Tech)\n",
    "count_dict('Segregation', Segregation)\n",
    "count_dict('LGBT', LGBT)"
   ]
  },
  {
   "cell_type": "code",
   "execution_count": null,
   "id": "30037bb4-09cd-4b59-a52c-2de0c5ebe85e",
   "metadata": {},
   "outputs": [],
   "source": [
    "movies_plot.head(1)"
   ]
  },
  {
   "cell_type": "markdown",
   "id": "1b104d76-b0dd-4c02-921e-0387546dac0e",
   "metadata": {},
   "source": [
    "### Metric"
   ]
  },
  {
   "cell_type": "markdown",
   "id": "e42c4632-698a-466e-88fb-e799c39aac69",
   "metadata": {},
   "source": [
    "As mentioned in the methods section of the README, we still need to define the right way to use these engineered features. For the moment, we decided to assign by hand thresholds that seem to be right for each historical event. In fact, we clearly see the influence of the specificity of the dictionary on the created features. For instance, the tech dictionary is quite general thus needing a high threshold to not include every movie. While the Segregation dictionary is not very sensitive; a single word matching and we can already be confident that the movie is truly talking about segregation. However, we might miss movies. That's a trade-off between specificity and sensitivity. "
   ]
  },
  {
   "cell_type": "code",
   "execution_count": null,
   "id": "42b02960-c2e2-4f44-8e6d-8e60fda68cba",
   "metadata": {},
   "outputs": [],
   "source": [
    "#temporary thresholds:\n",
    "ww1T = 15\n",
    "ww2T = 5\n",
    "SpaceT = 5\n",
    "techT = 30\n",
    "segT = 2\n",
    "lgbtT = 4"
   ]
  },
  {
   "cell_type": "markdown",
   "id": "9be94cc2-6b80-4a43-b94d-d98c0a63cb12",
   "metadata": {},
   "source": [
    "### WordCount Plots"
   ]
  },
  {
   "cell_type": "markdown",
   "id": "3ac2ba7b-4212-4cb8-9706-c35a6c74e61a",
   "metadata": {},
   "source": [
    "To get a first sense of if the dictionnaries implemented previously accurately sort the `movies_plot` dataset into their respective historical periods or events, we will use a data visualization technique used for representing the frequency of words in text data: `WordCloud` plots. Word clouds highlight significant textual data points through plots in which the size of each word indicates its frequency or importance. We will therefore create WordCloud plots of the summaries of the movies that were historically sorted using the dictionnaries defining events. This will allow us to determine if the most frequent words in the summaries match the words that build the respective dictionnaries used."
   ]
  },
  {
   "cell_type": "code",
   "execution_count": null,
   "id": "5c8ef9d0-822a-4fa9-9d1e-86a6caa5bc22",
   "metadata": {},
   "outputs": [],
   "source": [
    "# First separate the movies by historical event\n",
    "WW1 = movies_plot[movies_plot['WW1'] > ww1T]['Summary']\n",
    "WW2 = movies_plot[movies_plot['WW2'] > ww2T]['Summary']\n",
    "Space = movies_plot[movies_plot['SpaceRace'] > SpaceT]['Summary']\n",
    "Tech = movies_plot[movies_plot['Tech'] > techT]['Summary']\n",
    "Segregation = movies_plot[movies_plot['Segregation'] > segT]['Summary']\n",
    "LGBT = movies_plot[movies_plot['LGBT'] > lgbtT]['Summary']"
   ]
  },
  {
   "cell_type": "code",
   "execution_count": null,
   "id": "b41c25db-6399-4956-afb4-638d26c8c179",
   "metadata": {},
   "outputs": [],
   "source": [
    "# Check for null values since WordCount doesn't accept text with NAN\n",
    "print(WW1.isna().sum())\n",
    "print(WW2.isna().sum())\n",
    "print(Space.isna().sum())\n",
    "print(Tech.isna().sum())\n",
    "print(Segregation.isna().sum())\n",
    "print(LGBT.isna().sum())"
   ]
  },
  {
   "cell_type": "code",
   "execution_count": null,
   "id": "8ded9ac6-41e2-4d6a-b4e2-c478f0be1e9e",
   "metadata": {},
   "outputs": [],
   "source": [
    "w = WordCloud()\n",
    "stop_words = list(w.stopwords) # remove usual stop words (frequently used)\n",
    "custom_stop_words = ['find', 'back', 'one', 'will', 'take'] # remove other meaningless frequent words\n",
    "stop_words = set(stop_words + custom_stop_words)"
   ]
  },
  {
   "cell_type": "code",
   "execution_count": null,
   "id": "6211afd3-3c34-46ca-9934-cc588161a68d",
   "metadata": {},
   "outputs": [],
   "source": [
    "# WordCloud only accepts strings\n",
    "summary_WW1 = \" \".join(title for title in WW1)\n",
    "summary_WW2 = \" \".join(title for title in WW2)\n",
    "summary_Space = \" \".join(title for title in Space)\n",
    "summary_Tech = \" \".join(title for title in Tech)\n",
    "summary_Segregation = \" \".join(title for title in Segregation)\n",
    "summary_LGBT = \" \".join(title for title in LGBT)"
   ]
  },
  {
   "cell_type": "code",
   "execution_count": null,
   "id": "40970496-51d6-43ee-bfa8-f3c92483c9cb",
   "metadata": {},
   "outputs": [],
   "source": [
    "# Generate word clouds\n",
    "wordcloud_WW1 = WordCloud(collocations = False, background_color = 'white', stopwords=stop_words).generate(summary_WW1)\n",
    "wordcloud_WW2 = WordCloud(collocations = False, background_color = 'white', stopwords=stop_words).generate(summary_WW2)\n",
    "wordcloud_Space = WordCloud(collocations = False, background_color = 'white', stopwords=stop_words).generate(summary_Space)\n",
    "wordcloud_Tech = WordCloud(collocations = False, background_color = 'white', stopwords=stop_words).generate(summary_Tech)\n",
    "wordcloud_Segregation = WordCloud(collocations = False, background_color = 'white', stopwords=stop_words).generate(summary_Segregation)\n",
    "wordcloud_LGBT = WordCloud(collocations = False, background_color = 'white', stopwords=stop_words).generate(summary_LGBT)"
   ]
  },
  {
   "cell_type": "code",
   "execution_count": null,
   "id": "ed54f4a7-6b7c-4310-89b5-9870967939eb",
   "metadata": {},
   "outputs": [],
   "source": [
    "# Plot word clouds\n",
    "\n",
    "fig, axs = plt.subplots(2, 3, figsize=(15,5))\n",
    "\n",
    "axs[0,0].imshow(wordcloud_WW1, interpolation=\"bilinear\")\n",
    "axs[0,0].set_title(\"WWI vocabulary\")\n",
    "axs[0,0].axis('off')\n",
    "\n",
    "axs[0,1].imshow(wordcloud_WW2, interpolation=\"bilinear\")\n",
    "axs[0,1].set_title(\"WWII vocabulary\")\n",
    "axs[0,1].axis('off')\n",
    "\n",
    "axs[0,2].imshow(wordcloud_Space, interpolation=\"bilinear\")\n",
    "axs[0,2].set_title(\"Space race vocabulary\")\n",
    "axs[0,2].axis('off')\n",
    "\n",
    "axs[1,0].imshow(wordcloud_Tech, interpolation=\"bilinear\")\n",
    "axs[1,0].set_title(\"Technology vocabulary\")\n",
    "axs[1,0].axis('off')\n",
    "\n",
    "axs[1,1].imshow(wordcloud_Segregation, interpolation=\"bilinear\")\n",
    "axs[1,1].set_title(\"Segregation vocabulary\")\n",
    "axs[1,1].axis('off')\n",
    "\n",
    "axs[1,2].imshow(wordcloud_LGBT, interpolation=\"bilinear\")\n",
    "axs[1,2].set_title(\"LGBT vocabulary\")\n",
    "axs[1,2].axis('off')\n"
   ]
  },
  {
   "cell_type": "markdown",
   "id": "6c5fa491-0671-41c0-b6cc-54b54af6e560",
   "metadata": {},
   "source": [
    "The word clouds above show very promising results. All the movie categories show frequent words explicitely relating to the historical period they were assigned to. For example, in the `WWII` word cloud, the word **german** appears frequently in the movie summaries even though it was not used to build the WWII dictionnary. This is also the case for the word **Earth** or **alien** in the `SpaceRace` movie dataframe. The example is also found in the `Segregation` and `LGBT` dataframes, which respectively see the words **black**, **white** and **friend**, **mother** or **father** (relating to gay coming out) appear in the word cloud plots but not in their dictionnaries. Finally in the `WWI` word cloud, the name **Grace** abundantly appears and doesn't in the dictionnary. [Grace Banker](https://en.wikipedia.org/wiki/Grace_Banker) was a telephone operator who served during WWI as chief operator of mobile for the American Expeditionary Forces (AEF) in the U.S. Army Signal Corps. "
   ]
  },
  {
   "cell_type": "markdown",
   "id": "4661d77c-609f-4d12-b524-fbbed808e3cd",
   "metadata": {},
   "source": [
    "# STEP 3: Examples of historical event characterisations\n"
   ]
  },
  {
   "cell_type": "markdown",
   "id": "e252be2b-4f38-4780-b8ee-6d0b8540bddb",
   "metadata": {},
   "source": [
    "### Which genres are used to convey a historical event ?"
   ]
  },
  {
   "cell_type": "markdown",
   "id": "5a1e5795-481d-405a-beff-ca05381b3f12",
   "metadata": {},
   "source": [
    "We can now analyze genre appearance for our historical periods and the evolution of the number of movies narrating the historical events with time."
   ]
  },
  {
   "cell_type": "markdown",
   "id": "868ce136-f5d7-4087-8aa8-1976d048d2d3",
   "metadata": {},
   "source": [
    "We narrowed down the 364 genres to a list of more specific and useful ones for the heatmap plot below. Certain genres were grouped together into to broader categories to avoid repitition and very niche categories were omitted."
   ]
  },
  {
   "cell_type": "code",
   "execution_count": null,
   "id": "d8bad49b-1c67-4582-aaea-5c1b308c3d9e",
   "metadata": {},
   "outputs": [],
   "source": [
    "movies_genres = ['Action', 'Adventure', 'Comedy', 'Fantasy', 'Historical', 'Horror', 'Satire', 'Speculative',\n",
    "                 'Thriller', 'Western', 'Drama', 'Horror', 'Documentary', 'Musical', 'Romance','Mystery', 'War', 'Biography', 'History',\n",
    "                 'zombie film', 'Alien', 'Musical', 'anti-war', 'Black-and-white', 'Cold war', 'combat', 'Conspiration', 'crime', 'Erotic', \n",
    "                 'Gay', 'LGBT', 'Political', 'sci-fi', 'children']\n",
    "movies_genres = [x.lower() for x in movies_genres]"
   ]
  },
  {
   "cell_type": "code",
   "execution_count": null,
   "id": "d135439f-94b1-4ce3-af2b-1df8936f194c",
   "metadata": {},
   "outputs": [],
   "source": [
    "for genre in movies_genres:\n",
    "    movies_plot[genre] = movies_plot['Genres'].apply(lambda x: int(x.count(genre)>=1)) "
   ]
  },
  {
   "cell_type": "code",
   "execution_count": null,
   "id": "7346f7f8-cb65-4a49-9c3a-19554cb39ee1",
   "metadata": {},
   "outputs": [],
   "source": [
    "dictionnary_genres = pd.DataFrame()\n",
    "dictionnary_genres['WW1'] = movies_plot[movies_plot['WW1'] > ww1T][movies_genres].sum()\n",
    "dictionnary_genres['WW2'] = movies_plot[movies_plot['WW2'] > ww2T][movies_genres].sum()\n",
    "dictionnary_genres['SpaceRace'] = movies_plot[movies_plot['SpaceRace'] > SpaceT][movies_genres].sum()\n",
    "dictionnary_genres['Tech'] = movies_plot[movies_plot['Tech'] > techT][movies_genres].sum()\n",
    "dictionnary_genres['Segregation'] = movies_plot[movies_plot['Segregation'] > segT][movies_genres].sum()\n",
    "dictionnary_genres['LGBT'] = movies_plot[movies_plot['SpaceRace'] > lgbtT][movies_genres].sum()\n",
    "\n",
    "dictionnary_genres.head()"
   ]
  },
  {
   "cell_type": "code",
   "execution_count": null,
   "id": "de574a52-d6fb-4779-8e95-f47fbe1326fc",
   "metadata": {},
   "outputs": [],
   "source": [
    "plt.figure(figsize=(10,10))\n",
    "heat_map = sns.heatmap( dictionnary_genres, linewidth = 1 , annot = True)\n",
    "plt.title( \"HeatMap between Genre and historical event\" )\n",
    "plt.show()"
   ]
  },
  {
   "cell_type": "markdown",
   "id": "6c2745b4-08b7-40ca-9a89-8b0c4682c9c4",
   "metadata": {},
   "source": [
    "From this heatmap we can see that the genres action and adventure are often associated to `SpaceRace` and `LGBT`, and drama movies often portray `WWII`, which is not surprising given the tragic events that occured during the period. Overall, there is no concrete conclusion to take from this plot, maybe because the genre names are too general to specifically target different historical events."
   ]
  },
  {
   "cell_type": "markdown",
   "id": "e7c65f5f-f224-407c-bd60-a2bffcbaeda6",
   "metadata": {},
   "source": [
    "### Color code per historical event for plots:"
   ]
  },
  {
   "cell_type": "markdown",
   "id": "c1657eb4-714c-4e52-b45e-bc2e0f1ffdbf",
   "metadata": {},
   "source": [
    "One specific colour is assigned to a historical period to make it easier to compare each period's plots."
   ]
  },
  {
   "cell_type": "code",
   "execution_count": null,
   "id": "da7e1ca6-0709-4c48-9d0e-d2ac3293dfef",
   "metadata": {},
   "outputs": [],
   "source": [
    "color_map = dict([\n",
    "    ('WW1',['r']),\n",
    "    ('WW2',['g']),\n",
    "    ('SpaceRace',['b']),\n",
    "    ('Tech',['k']),\n",
    "    ('Segregation',['m']),\n",
    "    ('LGBTQ',['y'])\n",
    "])"
   ]
  },
  {
   "cell_type": "markdown",
   "id": "49345ea0-ba38-479b-8ba6-f68cfb5242b5",
   "metadata": {},
   "source": [
    "### Evolution of the number of movies representing a historical period with time "
   ]
  },
  {
   "cell_type": "code",
   "execution_count": null,
   "id": "ce547799-6088-418a-8db7-a2ff1ef0c58c",
   "metadata": {},
   "outputs": [],
   "source": [
    "WW1_analysis = time_analysis('WW1',thr=ww1T/2, freq='2y')\n",
    "WW2_analysis = time_analysis('WW2', thr=ww2T/2, freq='2y')\n",
    "SpaceRace_analysis = time_analysis('SpaceRace',thr=SpaceT/2, freq='2y')\n",
    "Tech_analysis = time_analysis('Tech',thr=techT/2, freq='2y')\n",
    "Segregation_analysis = time_analysis('Segregation', thr=segT/2, freq='2y')\n",
    "lgbt_analysis = time_analysis('LGBT', thr=lgbtT/2, freq='2y')"
   ]
  },
  {
   "cell_type": "markdown",
   "id": "b084dc0c-14d5-4669-8c6e-ed4541a85e08",
   "metadata": {},
   "source": [
    "The threshold used to identify the movies portraying each historical event was divided by 2 for these plots, allowing us to consider more movies. This allocates less specifically a movie to a given historical event but shows a more continuous evolution of the frequency of movies per year. The precision of the threshold is not as important in this exploratory phase, but we will need to refine it for later analysis in the project milestone 3."
   ]
  },
  {
   "cell_type": "code",
   "execution_count": null,
   "id": "0f882639-4f94-4f6c-8896-b72fbaca9270",
   "metadata": {},
   "outputs": [],
   "source": [
    "plt.figure(figsize = (16,6))\n",
    "\n",
    "WW2_analysis.number.plot(label=\"WW2\", legend=True,color = color_map[\"WW2\"]) # secondary_y=True\n",
    "SpaceRace_analysis.number.plot(label=\"SpaceRace\", legend=True,color = color_map[\"SpaceRace\"])\n",
    "plt.ylabel('Frequency (WW2, SpaceRace, Segregation, LGBTQ)')\n",
    "Segregation_analysis.number.plot(label=\"Segregation\", legend=True,color = color_map[\"Segregation\"])\n",
    "lgbt_analysis.number.plot(label=\"LGBTQ\", legend=True,color = color_map[\"LGBTQ\"])\n",
    "plt.title('Number of film evolution representing historical period')\n",
    "WW1_analysis.number.plot(secondary_y=True, label=\"WW1\", legend=True,color = color_map[\"WW1\"])\n",
    "Tech_analysis.number.plot(secondary_y=True, label=\"Tech\", legend=True,color = color_map[\"Tech\"])\n",
    "plt.ylabel('Frequency (WW1 and tech)')"
   ]
  },
  {
   "cell_type": "markdown",
   "id": "08136d94-d4a9-4f88-9c2d-03146c603fb7",
   "metadata": {},
   "source": [
    "A first observation stands out from this plot, there is an overall increase of the frequency of each historical movie over the years, which could be explained by the exponentially growing film industry. Then, the growing trends are punctated by peaks of frequency at specific time periods. Let's zoom in and analyze these curves individually to better capture the frequency fluctuations for each."
   ]
  },
  {
   "cell_type": "code",
   "execution_count": null,
   "id": "3ae9b126-051c-4c04-aa7c-e09e35fcc03c",
   "metadata": {},
   "outputs": [],
   "source": [
    "fig, axs = plt.subplots(2, 3, figsize=(18,8))\n",
    "\n",
    "WW1_analysis.number.plot(ax=axs[0,0], label=\"WW1\", title=\"WW1 with time\",color = color_map['WW1'])\n",
    "WW2_analysis.number.plot(ax=axs[0,1], label=\"WW2\", title=\"WW2 with time\",color = color_map['WW2']) # secondary_y=True\n",
    "SpaceRace_analysis.number.plot(ax=axs[0,2], label=\"SpaceRace\", title=\"SpaceRace with time\",color = color_map['SpaceRace'])\n",
    "Tech_analysis.number.plot(ax=axs[1,0], label=\"Tech\", title=\"Tech with time\",color = color_map['Tech'])\n",
    "Segregation_analysis.number.plot(ax=axs[1,1], label=\"Segregation\", title=\"Segregation with time\",color = color_map['Segregation'])\n",
    "lgbt_analysis.number.plot(ax=axs[1,2], label=\"LGBTQ\", title=\"LGBTQ+ with time\",color = color_map['LGBTQ'])\n",
    "\n",
    "plt.tight_layout(pad=4)\n",
    "fig.suptitle('Time evolution of the number of movies representing a historical period with time', fontsize=16)\n",
    "fig.supxlabel('Years')\n",
    "fig.supylabel('Number of movies')\n",
    "\n"
   ]
  },
  {
   "cell_type": "markdown",
   "id": "3de810ec-8935-4dfe-a79c-4b487fa2a3f9",
   "metadata": {},
   "source": [
    "For the historical films narrating `WWII`, an important peak in frequency appears from 1940 to 1950, during the last few years of the war itself and the years following it. These probably are propaganda movies which were widely shown to the public during the war; the Nazis were known to use films to create an image of the “national community”, whereas the allied countries portrayed them as cruel ennemies in their movies. Movies about the `technological revolution` significantly increased from the 1990s onwards, which was the year that marked the beginning of a [sequence of technological revolutions](https://www.zdnet.com/article/technology-that-changed-us-the-1990s/) such as the creation of the first web brouser World Wide Web, the first SMS text message, the foundation of Amazon followed by Google. The number of movies telling the story of `LGBTQ+ emancipation` tripled from 1995 to 2000 and then doubled again for the following years. This coincides with the beginning of the annual observance of LGBT History Month in the United States which was in 1994 and has since been picked up in other countries. For `space race` movies, a first smaller and long peak appears between 1950 and the end of 1970s, which could be due to the first satellites sent into orbit (1957), the first pilot-controlled space flight (1961) and the Apollo 11's successful mission in 1969. The frequency of these movies then increases from the 1980s onwards and a more important peak appears between 2005 and 2010, which were the periods where habitable exoplanets were discovered. These are examples of how historical events could influence the theme of movies released and the interests of our societies. "
   ]
  },
  {
   "cell_type": "markdown",
   "id": "a211ec99-fec8-4f9e-be15-c90826642aab",
   "metadata": {},
   "source": [
    "### Evolution of the box office revenue of movies representing a historical period with time "
   ]
  },
  {
   "cell_type": "code",
   "execution_count": null,
   "id": "f0394645-10a4-4346-81c3-4e35790b706d",
   "metadata": {},
   "outputs": [],
   "source": [
    "def plot_distr(name,thr,xname,yname,glm=LinearRegression(),logy=False,axis=plt,color = 'r'):\n",
    "    \"\"\"        \n",
    "    Parameters\n",
    "    ----------\n",
    "    name : name of the historical event\n",
    "    thr : threshold for accepting the movie as portraying the event\n",
    "    xname : name of the column we want on x axis\n",
    "    yname : name of the column we want on y axis\n",
    "    glm : glm method to use (https://scikit-learn.org/0.15/modules/linear_model.html)\n",
    "    logy : True if we want the y axis in log scale\n",
    "    axis : axis to plot on, default : plt for single figure\n",
    "        \n",
    "    Returns\n",
    "    -------\n",
    "    Plots the two features selcted relative to each other and their linear regression.\n",
    "    \"\"\"\n",
    "\n",
    "    time_dist = movies_plot[movies_plot[name] > thr].copy()\n",
    "    if xname=='Release_date' or yname=='Release_date' :\n",
    "        pd.options.mode.chained_assignment = None  # default='warn' # get rid of warnings\n",
    "        time_dist['Release_date'] = pd.to_datetime(time_dist['Release_date']).dt.year\n",
    "        pd.options.mode.chained_assignment = 'warn'  # default='warn' # put warnings back\n",
    "    time_dist = time_dist.dropna()\n",
    "    Y = time_dist[yname]\n",
    "    if logy : \n",
    "        Y = Y.apply(lambda x : np.log(x))\n",
    "        yname = 'Log '+ yname\n",
    "    X = np.array(time_dist[xname]).reshape(-1, 1)\n",
    "    \n",
    "    axis.plot(time_dist[xname],Y,f'{color}.',label = f'{name} movie')\n",
    "    \n",
    "    \n",
    "    reg = glm.fit(X,Y)\n",
    "    t = np.array(np.linspace(time_dist[xname].min(),time_dist[xname].max(),1000)).reshape(-1,1)\n",
    "    axis.plot(t,reg.predict(t),'-',label = str(glm))\n",
    "    \n",
    "    if axis == plt : #use Axes syntax\n",
    "        axis.legend()\n",
    "        axis.xlabel(xname)\n",
    "        axis.ylabel(yname)\n",
    "        axis.title(f'{yname} distribution for {name} event')\n",
    "    else : #use Axes.subplots syntax\n",
    "        axis.legend()\n",
    "        axis.set_xlabel(xname)\n",
    "        axis.set_ylabel(yname)\n",
    "        axis.set_title(f'{yname} distribution for {name} event')\n",
    "\n",
    "    return "
   ]
  },
  {
   "cell_type": "code",
   "execution_count": null,
   "id": "35796b8b-5392-4095-a4e1-9afd82e9196c",
   "metadata": {},
   "outputs": [],
   "source": [
    "fig, ax = plt.subplots(2, 3, figsize=(18,8))\n",
    "\n",
    "plot_distr('WW1',0,'Release_date','Box_office_revenue',logy=True,axis=ax[0,0],color = color_map['WW1'][0])\n",
    "plot_distr('WW2',0,'Release_date','Box_office_revenue',logy=True,axis=ax[0,1], color = color_map['WW2'][0])\n",
    "plot_distr('SpaceRace',0,'Release_date','Box_office_revenue',logy=True,axis=ax[0,2], color = color_map['SpaceRace'][0] )\n",
    "plot_distr('Tech',0,'Release_date','Box_office_revenue',logy=True,axis=ax[1,0], color = color_map['Tech'][0])\n",
    "plot_distr('Segregation',0,'Release_date','Box_office_revenue',logy=True,axis=ax[1,1], color = color_map['Segregation'][0])\n",
    "plot_distr('LGBT',0,'Release_date','Box_office_revenue',logy=True,axis=ax[1,2],color = color_map['LGBTQ'][0])\n",
    "\n",
    "\n",
    "plt.tight_layout(pad=4)\n",
    "fig.suptitle('Time evolution of the box office revenue of movies representing a historical period', fontsize=16)\n",
    "fig.supxlabel('Years')\n",
    "fig.supylabel('Box office revenue')\n",
    "plt.show()\n",
    "\n"
   ]
  },
  {
   "cell_type": "markdown",
   "id": "4927e340-abbd-4a4f-aa80-e5fcc66d32df",
   "metadata": {},
   "source": [
    "These plots display the distributions per year of the box office revenues of the movies linked to the historical period we defined earlier. A linear regression is added to each plot to capture the mean tendancy of the distributions. We see that all our features, except for the LGBT movies, the box office revenue has a tendancy to grow on average. It follows the same trend as seen at the beginning of the notebook with the mean box office revenue per year increasing. On the other hand, LGBT movies seems to be quite stable (the linear regression is almost flat). However, we can see that most of the movies have been released in recent years, thus limiting the linear regression slope. \n",
    "\n",
    "Further analysis could be conducted with linear regression (for milestone 3): several additionnal statistics could bring us information on the spread of the data points or the confidence on our regression parameters (R squared, p-values or residuals for example). Multiple feature linear regression could also be used later on to relate fetaures between them."
   ]
  },
  {
   "cell_type": "markdown",
   "id": "99679cff-897d-46ac-897f-56c9eb30e4da",
   "metadata": {},
   "source": [
    "## PCA "
   ]
  },
  {
   "cell_type": "markdown",
   "id": "62edd451-5d2e-457c-a9e3-94ff178d6de4",
   "metadata": {},
   "source": [
    "Let's define the features we will use in the PCA and that we will normalize. We could define more features by introducing character information (i.e. gender ratio, age, height etc..), all that is needed is the computation and fusion of dataframes. However, to start we will stick to more simple features and study the space we created thanks to our historical period features."
   ]
  },
  {
   "cell_type": "code",
   "execution_count": null,
   "id": "9cd104e2-917a-42d7-aa79-18da305e0154",
   "metadata": {},
   "outputs": [],
   "source": [
    "features = ['Box_office_revenue','WW1','WW2','SpaceRace','Tech','LGBT','Segregation']\n",
    "PCAfeature = movies_plot[features].dropna()\n",
    "PCAfeature= preprocessing.StandardScaler().fit(PCAfeature).transform(PCAfeature) #standardize\n",
    "print(np.mean(PCAfeature,axis = 0),np.std(PCAfeature,axis = 0))\n",
    "\n",
    "color_map = dict([\n",
    "    ('WW1',['r']),\n",
    "    ('WW2',['g']),\n",
    "    ('SpaceRace',['b']),\n",
    "    ('Tech',['k']),\n",
    "    ('Segregation',['m']),\n",
    "    ('LGBT',['y']),\n",
    "    ('Box_office_revenue',['c'])\n",
    "])"
   ]
  },
  {
   "cell_type": "code",
   "execution_count": null,
   "id": "92f0ee6a-f067-4bbb-92d6-2ec30e915253",
   "metadata": {},
   "outputs": [],
   "source": [
    "pca = PCA(2)  \n",
    "projected = pca.fit_transform(PCAfeature)\n",
    "print(f'Proportion of variance explained (%): PC1 {pca.explained_variance_ratio_[0]}, PC2 {pca.explained_variance_ratio_[1]}')\n",
    "#print(pca.components_)\n",
    "ax = plt.gca()\n",
    "\n",
    "for i,f in enumerate(features):\n",
    "    c = color_map[f][0]\n",
    "    ax.annotate(f,[0,0],15*(pca.components_[:,i]),arrowprops= dict(arrowstyle='-',linewidth=2,shrinkA=0,shrinkB=0, color = c),color= c)\n",
    "    #print(np.linalg.norm(10*pca.components_[:,i]/np.linalg.norm(pca.components_[:,i])))\n",
    "plt.plot(projected[:, 0], projected[:, 1],'.',color = '0.6')\n",
    "plt.xlabel('PC1')\n",
    "plt.ylabel('PC2')\n",
    "plt.axis('equal')\n",
    "plt.legend()\n",
    "plt.show()\n",
    "print('Mean along PC1 and PC2: ',np.mean(projected[:, 0]), np.mean(projected[:, 1]))"
   ]
  },
  {
   "cell_type": "markdown",
   "id": "47036cdd-0eff-48a5-9b13-08c8b9ffbb94",
   "metadata": {},
   "source": [
    "This plot shows all the movies, represented by the features mentionned above, projected onto the two first principal components. The features axis are also projected onto this space and scaled up to be seen. \n",
    "\n",
    "We can first note that a lot of movies are contained near the origin. The datapoints have a preferenced direction of spread (extreme values are directed towards large PC axis value). Then, several features seem to point towards the PC1, illustrating the highest variance direction in the dataset. We can also assume that two features are correlated if their projected axis are close to eachother: the PC1 is a linear combination of several features pointing in the direction where the most spread is present. Following this reasoning, the `WW1` and `box office revenue` features are quite correlated. The `tech` and `space race` are also related to the PC1. \n",
    "The `LGBT`features is almost only projected onto the PC2, indicating the second direction of highest variance. It also shows that `LGBT` is not correlated to the PC1 and therefore not correlated to `WW1`, `box office revenue` etc... `Segregation` is also very close to the PC2. \n",
    "\n",
    "However, only 35 to 40% of variance is explained by the two first PCs, meaning that a lot of variance is still contained in other dimensions not visible here."
   ]
  }
 ],
 "metadata": {
  "kernelspec": {
   "display_name": "Python 3 (ipykernel)",
   "language": "python",
   "name": "python3"
  },
  "language_info": {
   "codemirror_mode": {
    "name": "ipython",
    "version": 3
   },
   "file_extension": ".py",
   "mimetype": "text/x-python",
   "name": "python",
   "nbconvert_exporter": "python",
   "pygments_lexer": "ipython3",
   "version": "3.9.13"
  }
 },
 "nbformat": 4,
 "nbformat_minor": 5
}
