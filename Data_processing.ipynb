{
 "cells": [
  {
   "cell_type": "code",
   "execution_count": 1,
   "id": "7ef93ec5-a990-41df-9f57-988e0048c881",
   "metadata": {},
   "outputs": [],
   "source": [
    "%matplotlib inline\n",
    "import pandas as pd\n",
    "import numpy as np\n",
    "import matplotlib.pyplot as plt\n",
    "import seaborn as sns\n",
    "import json\n",
    "import re\n",
    "import sys\n",
    "from SPARQLWrapper import SPARQLWrapper, JSON\n",
    "import ast\n",
    "from sklearn.linear_model import LinearRegression\n",
    "from sklearn.decomposition import PCA\n",
    "from sklearn.cluster import KMeans\n",
    "from sklearn import preprocessing\n",
    "\n",
    "import datetime as dt"
   ]
  },
  {
   "cell_type": "code",
   "execution_count": 2,
   "id": "6890cf8e-d83e-4cfa-a0b4-31989b1af979",
   "metadata": {},
   "outputs": [],
   "source": [
    "#!pip install SPARQLWrapper"
   ]
  },
  {
   "cell_type": "markdown",
   "id": "0dd10004-97c1-4ded-8fa6-aa04b49aa74f",
   "metadata": {},
   "source": [
    "(!pip install -U scikit-learn)"
   ]
  },
  {
   "cell_type": "markdown",
   "id": "53c57563-208a-41ff-91cd-90928b4bff75",
   "metadata": {},
   "source": [
    "# **STEP 0: Data opening and preprocessing**"
   ]
  },
  {
   "cell_type": "markdown",
   "id": "d0e0d5fd-f312-4585-888b-b49df98d62e0",
   "metadata": {},
   "source": [
    "The data in the CMU Movie Summary Corpus contains a collection of 42,306 movie plot summaries and metadata at both the movie level (including box office revenues, genre and date of release) and character level (including gender and estimated age):\n",
    "\n",
    "**Data:**\n",
    "1. `plot_summaries.txt.gz` [29 M]: Plot summaries of 42,306 movies extracted from the November 2, 2012 dump of English-language Wikipedia.  Each line contains the Wikipedia movie ID (which indexes into movie.metadata.tsv) followed by the summary.\n",
    "2. `corenlp_plot_summaries.tar.gz` [628 M, separate download]: to downlaod if considered useful... The plot summaries from above, run through the Stanford CoreNLP pipeline (tagging, parsing, NER and coref). Each filename begins with the Wikipedia movie ID (which indexes into movie.metadata.tsv).\n",
    "\n",
    "**Metadata:**\n",
    "1. `movie.metadata.tsv.gz` [3.4 M]: Metadata for 81,741 movies, extracted from the Noverber 4, 2012 dump of Freebase.  Tab-separated; columns:\n",
    "- Wikipedia movie ID\n",
    "- Freebase movie ID\n",
    "- Movie name\n",
    "- Movie release date\n",
    "- Movie box office revenue\n",
    "- Movie runtime\n",
    "- Movie languages (Freebase ID:name tuples)\n",
    "- Movie countries (Freebase ID:name tuples)\n",
    "- Movie genres (Freebase ID:name tuples)\n",
    "2. `character.metadata.tsv.gz` [14 M]: Metadata for 450,669 characters aligned to the movies above, extracted from the Noverber 4, 2012 dump of Freebase.  Tab-separated; columns:\n",
    "- Wikipedia movie ID\n",
    "- Freebase movie ID\n",
    "- Movie release date\n",
    "- Character name\n",
    "- Actor date of birth\n",
    "- Actor gender\n",
    "- Actor height (in meters)\n",
    "- Actor ethnicity (Freebase ID)\n",
    "- Actor name\n",
    "- Actor age at movie release\n",
    "- Freebase character/actor map ID\n",
    "- Freebase character ID\n",
    "- Freebase actor ID\n",
    "\n",
    "**Test data**:\n",
    "1. `tvtropes.clusters.txt`: 72 character types drawn from tvtropes.com, along with 501 instances of those types.  The ID field indexes into the Freebase character/actor map ID in character.metadata.tsv.\n",
    "2. `name.clusters.txt`: 970 unique character names used in at least two different movies, along with 2,666 instances of those types. The ID field indexes into the Freebase character/actor map ID in character.metadata.tsv."
   ]
  },
  {
   "cell_type": "markdown",
   "id": "8b8329af-cba4-41bd-8f16-0ddcf5cf155d",
   "metadata": {},
   "source": [
    "## Data loading"
   ]
  },
  {
   "cell_type": "code",
   "execution_count": 3,
   "id": "9acccdb2-154d-4fba-ae8a-b0e3d8906b53",
   "metadata": {},
   "outputs": [],
   "source": [
    "data_folder = './MovieSummaries/'\n",
    "characters = pd.read_csv(data_folder + 'character.metadata.tsv', sep='\\t', header=None)\n",
    "movies = pd.read_csv(data_folder + 'movie.metadata.tsv', sep='\\t', header=None)\n",
    "plot_summaries = pd.read_csv(data_folder + 'plot_summaries.txt', sep='\\t', header=None)\n",
    "character_types = pd.read_csv(data_folder + 'tvtropes.clusters.txt', sep='\\t', header=None)\n",
    "name_clusters = pd.read_csv(data_folder + 'name.clusters.txt', sep='\\t', header=None)"
   ]
  },
  {
   "cell_type": "code",
   "execution_count": 4,
   "id": "11db9e79-8a64-4f1f-9252-988d835903aa",
   "metadata": {},
   "outputs": [],
   "source": [
    "characters.columns =['Wikipedia_movie_ID', \n",
    "                     'Freebase_movie_ID', \n",
    "                     'Movie_release_date', \n",
    "                     'Character_name', \n",
    "                     'Actor_birth', \n",
    "                     'Actor_Gender', \n",
    "                     'Actor Height', \n",
    "                     'Actor_Ethnicity', \n",
    "                     'Actor_Name', \n",
    "                     'Age_at_movie_release', \n",
    "                     'Freebase_character_actor_map_ID', \n",
    "                     'Freebase_character_ID', \n",
    "                     'Freebase_actor_ID']\n",
    "\n",
    "movies.columns =['Wikipedia_movie_ID', \n",
    "                 'Freebase_movie_ID', \n",
    "                 'Name',\n",
    "                 'Release_date', \n",
    "                 'Box_office_revenue', \n",
    "                 'Runtime',\n",
    "                 'Languages', \n",
    "                 'Countries', \n",
    "                 'Genres']\n",
    "\n",
    "plot_summaries.columns =['Wikipedia_movie_ID', 'Summary']\n",
    "character_types.columns =['Type', 'Info']\n",
    "name_clusters.columns =['Character_name', 'Freebase_character_actor_map_ID']"
   ]
  },
  {
   "cell_type": "markdown",
   "id": "117c499f",
   "metadata": {},
   "source": [
    "## Dataframes pre-processing "
   ]
  },
  {
   "cell_type": "markdown",
   "id": "844dbc3d",
   "metadata": {},
   "source": [
    "### `characters` "
   ]
  },
  {
   "cell_type": "markdown",
   "id": "b5973fca",
   "metadata": {},
   "source": [
    "Each row is a character paired to an actor in a single movie, columns correspond to features that describe the characters, the actor that embodies them and the movie in which they appear. To get a better understanding, note that a single character can be played by multiple actors (e.g. James Bond) and that a single actor can have multiple roles. "
   ]
  },
  {
   "cell_type": "code",
   "execution_count": 5,
   "id": "6247db1b",
   "metadata": {},
   "outputs": [
    {
     "data": {
      "text/html": [
       "<div>\n",
       "<style scoped>\n",
       "    .dataframe tbody tr th:only-of-type {\n",
       "        vertical-align: middle;\n",
       "    }\n",
       "\n",
       "    .dataframe tbody tr th {\n",
       "        vertical-align: top;\n",
       "    }\n",
       "\n",
       "    .dataframe thead th {\n",
       "        text-align: right;\n",
       "    }\n",
       "</style>\n",
       "<table border=\"1\" class=\"dataframe\">\n",
       "  <thead>\n",
       "    <tr style=\"text-align: right;\">\n",
       "      <th></th>\n",
       "      <th>Wikipedia_movie_ID</th>\n",
       "      <th>Freebase_movie_ID</th>\n",
       "      <th>Movie_release_date</th>\n",
       "      <th>Character_name</th>\n",
       "      <th>Actor_birth</th>\n",
       "      <th>Actor_Gender</th>\n",
       "      <th>Actor Height</th>\n",
       "      <th>Actor_Ethnicity</th>\n",
       "      <th>Actor_Name</th>\n",
       "      <th>Age_at_movie_release</th>\n",
       "      <th>Freebase_character_actor_map_ID</th>\n",
       "      <th>Freebase_character_ID</th>\n",
       "      <th>Freebase_actor_ID</th>\n",
       "    </tr>\n",
       "  </thead>\n",
       "  <tbody>\n",
       "    <tr>\n",
       "      <th>0</th>\n",
       "      <td>975900</td>\n",
       "      <td>/m/03vyhn</td>\n",
       "      <td>2001-08-24</td>\n",
       "      <td>Akooshay</td>\n",
       "      <td>1958-08-26</td>\n",
       "      <td>F</td>\n",
       "      <td>1.62</td>\n",
       "      <td>NaN</td>\n",
       "      <td>Wanda De Jesus</td>\n",
       "      <td>42.0</td>\n",
       "      <td>/m/0bgchxw</td>\n",
       "      <td>/m/0bgcj3x</td>\n",
       "      <td>/m/03wcfv7</td>\n",
       "    </tr>\n",
       "  </tbody>\n",
       "</table>\n",
       "</div>"
      ],
      "text/plain": [
       "   Wikipedia_movie_ID Freebase_movie_ID Movie_release_date Character_name  \\\n",
       "0              975900         /m/03vyhn         2001-08-24       Akooshay   \n",
       "\n",
       "  Actor_birth Actor_Gender  Actor Height Actor_Ethnicity      Actor_Name  \\\n",
       "0  1958-08-26            F          1.62             NaN  Wanda De Jesus   \n",
       "\n",
       "   Age_at_movie_release Freebase_character_actor_map_ID Freebase_character_ID  \\\n",
       "0                  42.0                      /m/0bgchxw            /m/0bgcj3x   \n",
       "\n",
       "  Freebase_actor_ID  \n",
       "0        /m/03wcfv7  "
      ]
     },
     "execution_count": 5,
     "metadata": {},
     "output_type": "execute_result"
    }
   ],
   "source": [
    "characters.head(1)"
   ]
  },
  {
   "cell_type": "code",
   "execution_count": 6,
   "id": "e9959c7f",
   "metadata": {},
   "outputs": [
    {
     "name": "stdout",
     "output_type": "stream",
     "text": [
      "<class 'pandas.core.frame.DataFrame'>\n",
      "RangeIndex: 450669 entries, 0 to 450668\n",
      "Data columns (total 13 columns):\n",
      " #   Column                           Non-Null Count   Dtype  \n",
      "---  ------                           --------------   -----  \n",
      " 0   Wikipedia_movie_ID               450669 non-null  int64  \n",
      " 1   Freebase_movie_ID                450669 non-null  object \n",
      " 2   Movie_release_date               440674 non-null  object \n",
      " 3   Character_name                   192794 non-null  object \n",
      " 4   Actor_birth                      344524 non-null  object \n",
      " 5   Actor_Gender                     405060 non-null  object \n",
      " 6   Actor Height                     154824 non-null  float64\n",
      " 7   Actor_Ethnicity                  106058 non-null  object \n",
      " 8   Actor_Name                       449441 non-null  object \n",
      " 9   Age_at_movie_release             292556 non-null  float64\n",
      " 10  Freebase_character_actor_map_ID  450669 non-null  object \n",
      " 11  Freebase_character_ID            192804 non-null  object \n",
      " 12  Freebase_actor_ID                449854 non-null  object \n",
      "dtypes: float64(2), int64(1), object(10)\n",
      "memory usage: 44.7+ MB\n"
     ]
    }
   ],
   "source": [
    "characters.info()"
   ]
  },
  {
   "cell_type": "markdown",
   "id": "5df39a71",
   "metadata": {},
   "source": [
    "Note that only the fetaures `Wikipedia_movie_ID`, `Freebase_movie_ID` and `Freebase_character_actor_map_ID` do not contain missing values. In particular we can see below that only `Freebase_character_actor_map_ID` values are all unique, in fact this mapping ID is uniquely created for each single movie. It is also worth noting that the number of characters (192794) is twice as lower than the number of actors (449441)."
   ]
  },
  {
   "cell_type": "code",
   "execution_count": 7,
   "id": "efce430e",
   "metadata": {},
   "outputs": [
    {
     "data": {
      "text/plain": [
       "Wikipedia_movie_ID                  64330\n",
       "Freebase_movie_ID                   64330\n",
       "Movie_release_date                  18476\n",
       "Character_name                     126629\n",
       "Actor_birth                         29494\n",
       "Actor_Gender                            2\n",
       "Actor Height                          221\n",
       "Actor_Ethnicity                       479\n",
       "Actor_Name                         134078\n",
       "Age_at_movie_release                  155\n",
       "Freebase_character_actor_map_ID    450669\n",
       "Freebase_character_ID              183435\n",
       "Freebase_actor_ID                  135760\n",
       "dtype: int64"
      ]
     },
     "execution_count": 7,
     "metadata": {},
     "output_type": "execute_result"
    }
   ],
   "source": [
    "characters.nunique()"
   ]
  },
  {
   "cell_type": "markdown",
   "id": "7dad1f0a",
   "metadata": {},
   "source": [
    "Below is a good example to understand the subtility of this dataframe. Each row contains the information of an actor that played a particular character in a particular movie. Thus, if an actor plays the same character that appears in n movies, there will be n rows to describe their relationships where apart from the map id, only features related to the movie will change."
   ]
  },
  {
   "cell_type": "code",
   "execution_count": 8,
   "id": "b7363899",
   "metadata": {
    "scrolled": true
   },
   "outputs": [
    {
     "data": {
      "text/html": [
       "<div>\n",
       "<style scoped>\n",
       "    .dataframe tbody tr th:only-of-type {\n",
       "        vertical-align: middle;\n",
       "    }\n",
       "\n",
       "    .dataframe tbody tr th {\n",
       "        vertical-align: top;\n",
       "    }\n",
       "\n",
       "    .dataframe thead th {\n",
       "        text-align: right;\n",
       "    }\n",
       "</style>\n",
       "<table border=\"1\" class=\"dataframe\">\n",
       "  <thead>\n",
       "    <tr style=\"text-align: right;\">\n",
       "      <th></th>\n",
       "      <th>Wikipedia_movie_ID</th>\n",
       "      <th>Freebase_movie_ID</th>\n",
       "      <th>Movie_release_date</th>\n",
       "      <th>Character_name</th>\n",
       "      <th>Actor_birth</th>\n",
       "      <th>Actor_Gender</th>\n",
       "      <th>Actor Height</th>\n",
       "      <th>Actor_Ethnicity</th>\n",
       "      <th>Actor_Name</th>\n",
       "      <th>Age_at_movie_release</th>\n",
       "      <th>Freebase_character_actor_map_ID</th>\n",
       "      <th>Freebase_character_ID</th>\n",
       "      <th>Freebase_actor_ID</th>\n",
       "    </tr>\n",
       "  </thead>\n",
       "  <tbody>\n",
       "    <tr>\n",
       "      <th>31341</th>\n",
       "      <td>6446062</td>\n",
       "      <td>/m/01kf3_9</td>\n",
       "      <td>1979-06-26</td>\n",
       "      <td>James Bond</td>\n",
       "      <td>1927-10-14</td>\n",
       "      <td>M</td>\n",
       "      <td>1.85</td>\n",
       "      <td>/m/02w7gg</td>\n",
       "      <td>Roger Moore</td>\n",
       "      <td>51.0</td>\n",
       "      <td>/m/02xg8wv</td>\n",
       "      <td>/m/0clpml</td>\n",
       "      <td>/m/017lqp</td>\n",
       "    </tr>\n",
       "    <tr>\n",
       "      <th>69068</th>\n",
       "      <td>6446044</td>\n",
       "      <td>/m/0g5pv3</td>\n",
       "      <td>1981-06-24</td>\n",
       "      <td>James Bond</td>\n",
       "      <td>1927-10-14</td>\n",
       "      <td>M</td>\n",
       "      <td>1.85</td>\n",
       "      <td>/m/02w7gg</td>\n",
       "      <td>Roger Moore</td>\n",
       "      <td>53.0</td>\n",
       "      <td>/m/02xg8x3</td>\n",
       "      <td>/m/0clpml</td>\n",
       "      <td>/m/017lqp</td>\n",
       "    </tr>\n",
       "    <tr>\n",
       "      <th>124179</th>\n",
       "      <td>583932</td>\n",
       "      <td>/m/02sg5v</td>\n",
       "      <td>1985-05-22</td>\n",
       "      <td>James Bond</td>\n",
       "      <td>1927-10-14</td>\n",
       "      <td>M</td>\n",
       "      <td>1.85</td>\n",
       "      <td>/m/02w7gg</td>\n",
       "      <td>Roger Moore</td>\n",
       "      <td>57.0</td>\n",
       "      <td>/m/02xg8xd</td>\n",
       "      <td>/m/0clpml</td>\n",
       "      <td>/m/017lqp</td>\n",
       "    </tr>\n",
       "    <tr>\n",
       "      <th>149343</th>\n",
       "      <td>6223567</td>\n",
       "      <td>/m/0fxmbn</td>\n",
       "      <td>1974-12-19</td>\n",
       "      <td>James Bond</td>\n",
       "      <td>1927-10-14</td>\n",
       "      <td>M</td>\n",
       "      <td>1.85</td>\n",
       "      <td>/m/02w7gg</td>\n",
       "      <td>Roger Moore</td>\n",
       "      <td>47.0</td>\n",
       "      <td>/m/02xg8w8</td>\n",
       "      <td>/m/0clpml</td>\n",
       "      <td>/m/017lqp</td>\n",
       "    </tr>\n",
       "    <tr>\n",
       "      <th>202846</th>\n",
       "      <td>6446061</td>\n",
       "      <td>/m/0g5pvv</td>\n",
       "      <td>1973-06-27</td>\n",
       "      <td>James Bond</td>\n",
       "      <td>1927-10-14</td>\n",
       "      <td>M</td>\n",
       "      <td>1.85</td>\n",
       "      <td>/m/02w7gg</td>\n",
       "      <td>Roger Moore</td>\n",
       "      <td>45.0</td>\n",
       "      <td>/m/02xg8v_</td>\n",
       "      <td>/m/0clpml</td>\n",
       "      <td>/m/017lqp</td>\n",
       "    </tr>\n",
       "    <tr>\n",
       "      <th>234294</th>\n",
       "      <td>541642</td>\n",
       "      <td>/m/02n72k</td>\n",
       "      <td>1983-06-06</td>\n",
       "      <td>James Bond</td>\n",
       "      <td>1927-10-14</td>\n",
       "      <td>M</td>\n",
       "      <td>1.85</td>\n",
       "      <td>/m/02w7gg</td>\n",
       "      <td>Roger Moore</td>\n",
       "      <td>55.0</td>\n",
       "      <td>/m/02k8g9d</td>\n",
       "      <td>/m/0clpml</td>\n",
       "      <td>/m/017lqp</td>\n",
       "    </tr>\n",
       "    <tr>\n",
       "      <th>425243</th>\n",
       "      <td>6446036</td>\n",
       "      <td>/m/0g5ptf</td>\n",
       "      <td>1977-07-07</td>\n",
       "      <td>James Bond</td>\n",
       "      <td>1927-10-14</td>\n",
       "      <td>M</td>\n",
       "      <td>1.85</td>\n",
       "      <td>/m/02w7gg</td>\n",
       "      <td>Roger Moore</td>\n",
       "      <td>49.0</td>\n",
       "      <td>/m/02xg8wk</td>\n",
       "      <td>/m/0clpml</td>\n",
       "      <td>/m/017lqp</td>\n",
       "    </tr>\n",
       "  </tbody>\n",
       "</table>\n",
       "</div>"
      ],
      "text/plain": [
       "        Wikipedia_movie_ID Freebase_movie_ID Movie_release_date  \\\n",
       "31341              6446062        /m/01kf3_9         1979-06-26   \n",
       "69068              6446044         /m/0g5pv3         1981-06-24   \n",
       "124179              583932         /m/02sg5v         1985-05-22   \n",
       "149343             6223567         /m/0fxmbn         1974-12-19   \n",
       "202846             6446061         /m/0g5pvv         1973-06-27   \n",
       "234294              541642         /m/02n72k         1983-06-06   \n",
       "425243             6446036         /m/0g5ptf         1977-07-07   \n",
       "\n",
       "       Character_name Actor_birth Actor_Gender  Actor Height Actor_Ethnicity  \\\n",
       "31341      James Bond  1927-10-14            M          1.85       /m/02w7gg   \n",
       "69068      James Bond  1927-10-14            M          1.85       /m/02w7gg   \n",
       "124179     James Bond  1927-10-14            M          1.85       /m/02w7gg   \n",
       "149343     James Bond  1927-10-14            M          1.85       /m/02w7gg   \n",
       "202846     James Bond  1927-10-14            M          1.85       /m/02w7gg   \n",
       "234294     James Bond  1927-10-14            M          1.85       /m/02w7gg   \n",
       "425243     James Bond  1927-10-14            M          1.85       /m/02w7gg   \n",
       "\n",
       "         Actor_Name  Age_at_movie_release Freebase_character_actor_map_ID  \\\n",
       "31341   Roger Moore                  51.0                      /m/02xg8wv   \n",
       "69068   Roger Moore                  53.0                      /m/02xg8x3   \n",
       "124179  Roger Moore                  57.0                      /m/02xg8xd   \n",
       "149343  Roger Moore                  47.0                      /m/02xg8w8   \n",
       "202846  Roger Moore                  45.0                      /m/02xg8v_   \n",
       "234294  Roger Moore                  55.0                      /m/02k8g9d   \n",
       "425243  Roger Moore                  49.0                      /m/02xg8wk   \n",
       "\n",
       "       Freebase_character_ID Freebase_actor_ID  \n",
       "31341              /m/0clpml         /m/017lqp  \n",
       "69068              /m/0clpml         /m/017lqp  \n",
       "124179             /m/0clpml         /m/017lqp  \n",
       "149343             /m/0clpml         /m/017lqp  \n",
       "202846             /m/0clpml         /m/017lqp  \n",
       "234294             /m/0clpml         /m/017lqp  \n",
       "425243             /m/0clpml         /m/017lqp  "
      ]
     },
     "execution_count": 8,
     "metadata": {},
     "output_type": "execute_result"
    }
   ],
   "source": [
    "characters.loc[characters.Actor_Name == 'Roger Moore'].query(\"Character_name == 'James Bond'\")"
   ]
  },
  {
   "cell_type": "markdown",
   "id": "7c25c8f9",
   "metadata": {},
   "source": [
    "Now that we have understood the structure of the `characters` dataframe, we would like to retrieve the wikidata items corresponding to the freebase IDs contained in `Actor_Ethnicity`, to add an extra feature to our dataframe. To do so we will use the wikidata query service through the sparqlwrapper package."
   ]
  },
  {
   "cell_type": "code",
   "execution_count": 9,
   "id": "694fe222",
   "metadata": {},
   "outputs": [
    {
     "name": "stdout",
     "output_type": "stream",
     "text": [
      "\"/m/0dryh9k\" \"/m/0x67\" \"/m/041rx\" \"/m/02w7gg\" \"/m/033tf_\" \"/m/0xnvg\" \"/m/02ctzb\" \"/m/07hwkr\" \"/m/07bch9\" \"/m/044038p\" \"/m/03bkbh\" \"/m/0d7wh\" \"/m/03ts0c\" \"/m/0222qb\" \"/m/01rv7x\" \"/m/02sch9\" \"/m/04mvp8\" \"/m/03lmx1\" \"/m/065b6q\" \"/m/01qhm_\" \"/m/06mvq\" \"/m/048z7l\" \"/m/0bpjh3\" \"/m/0cqgdq\" \"/m/0g8_vp\" \"/m/09vc4s\" \"/m/013xrm\" \"/m/019kn7\" \"/m/06gbnc\" \"/m/07mqps\" \"/m/01g7zj\" \"/m/01xhh5\" \"/m/03bx0k4\" \"/m/0g96wd\" \"/m/02g7sp\" \"/m/09m6hr\" \"/m/063k3h\" \"/m/0g0x7_\" \"/m/03ttfc\" \"/m/023mqw\" \"/m/0d2by\" \"/m/09kr66\" \"/m/042gtr\" \"/m/025rpb0\" \"/m/08hpk0\" \"/m/038723\" \"/m/0583cz\" \"/m/022dp5\" \"/m/0cmdl5l\" \"/m/03vv99\" \"/m/029f2r\" \"/m/09k5jvk\" \"/m/0cnvdq1\" \"/m/06v41q\" \"/m/04gfy7\" \"/m/0bymc\" \"/m/0cn68\" \"/m/09v5bdn\" \"/m/05l3g_\" \"/m/0268_k\" \"/m/0dqqwy\" \"/m/075_n6\" \"/m/0bbz66j\" \"/m/02rbdlq\" \"/m/0bkbz\" \"/m/01336l\" \"/m/04dbw3\" \"/m/0fqz6\" \"/m/06j2v\" \"/m/046cwm\" \"/m/0g6ff\" \"/m/0432mrk\" \"/m/0gkxl2\" \"/m/02p1pl6\" \"/m/03w9bjf\" \"/m/04tvpv\" \"/m/027n1m6\" \"/m/09743\" \"/m/0bhsnb\" \"/m/013b6_\" \"/m/048sp5\" \"/m/0h2138\" \"/m/02y_9mh\" \"/m/02jvpv\" \"/m/0dbxy\" \"/m/02vsw1\" \"/m/08cjt2\" \"/m/013s3n\" \"/m/09zyn5\" \"/m/0cm7w1\" \"/m/04q7gbh\" \"/m/0fj1k9\" \"/m/0fqp6zk\" \"/m/04f581\" \"/m/012c1l\" \"/m/071x0k\" \"/m/0ffjqy\" \"/m/0ffkb4\" \"/m/0g5y6\" \"/m/0bzkm2\" \"/m/0dllcfn\" \"/m/04y8_bm\" \"/m/03gskx0\" \"/m/0268d21\" \"/m/019lrz\" \"/m/02p4q5p\" \"/m/04czx7\" \"/m/02p656s\" \"/m/0ffhz3\" \"/m/04jq32s\" \"/m/04mmhj\" \"/m/0dj8k3\" \"/m/059_w\" \"/m/01kg2v\" \"/m/0222hg\" \"/m/0f0gt_\" \"/m/01j2qv\" \"/m/0ffjvd\" \"/m/032j30\" \"/m/033njm\" \"/m/0bs7l_v\" \"/m/0g48m4\" \"/m/022fdt\" \"/m/052r3t\" \"/m/0bfjm7\" \"/m/01xttr\" \"/m/04ydrsn\" \"/m/03295l\" \"/m/06lshc\" \"/m/03cbkrf\" \"/m/0283js_\" \"/m/09cqth\" \"/m/04nrnz\" \"/m/05748\" \"/m/025_0f0\" \"/m/01trsl\" \"/m/09vmyh\" \"/m/05sf2x\" \"/m/09gk_6h\" \"/m/078vc\" \"/m/01p7s6\" \"/m/017sq0\" \"/m/018s6c\" \"/m/04y29\" \"/m/067lts\" \"/m/05g0f1\" \"/m/0761bp\" \"/m/09gp4\" \"/m/02qv_h_\" \"/m/0640_7q\" \"/m/0912ll\" \"/m/013b7g\" \"/m/067lrj\" \"/m/0b79c7\" \"/m/09lz9zx\" \"/m/01swvz\" \"/m/01nbcy\" \"/m/0b0gzf\" \"/m/071drf\" \"/m/027vy0s\" \"/m/0150zs\" \"/m/0278pqj\" \"/m/0747611\" \"/m/0c2hxm\" \"/m/0462jl6\" \"/m/074w_m\" \"/m/04ggbzy\" \"/m/0hbz9xw\" \"/m/0152s7\" \"/m/0fng3k\" \"/m/0j4w_\" \"/m/0b98sy\" \"/m/08v2k7\" \"/m/0j6x8\" \"/m/0d9q7j\" \"/m/016f5d\" \"/m/0ffj5g\" \"/m/0338zd\" \"/m/04_tz7\" \"/m/027lf0d\" \"/m/0ch3pqf\" \"/m/06fczy\" \"/m/01mw1s\" \"/m/04608z\" \"/m/04_hr_\" \"/m/026cybk\" \"/m/01hwt\" \"/m/08gzsf\" \"/m/05vhv7\" \"/m/04_bc8\" \"/m/06rd7\" \"/m/0318mh\" \"/m/02wcbj_\" \"/m/0520604\" \"/m/07j80c\" \"/m/078ds\" \"/m/0fk1z\" \"/m/0dv5vw\" \"/m/04znbg\" \"/m/01sq7s\" \"/m/0gf5k1\" \"/m/03pqwy\" \"/m/031_sd\" \"/m/012f86\" \"/m/092h2qt\" \"/m/033qxt\" \"/m/03vghh\" \"/m/0bjbszh\" \"/m/07hyjp\" \"/m/03yk6g\" \"/m/0h1nk0k\" \"/m/04zjjt\" \"/m/02czfr\" \"/m/05qb937\" \"/m/047l_90\" \"/m/0bnzjx\" \"/m/02q206y\" \"/m/0665pp\" \"/m/07gzw5\" \"/m/062_25\" \"/m/0hj35\" \"/m/0bh91q8\" \"/m/01g0y_\" \"/m/07lv5x\" \"/m/0g4pffv\" \"/m/0828vj\" \"/m/07d_p8\" \"/m/04lhn7b\" \"/m/0fq6zlv\" \"/m/0268pvf\" \"/m/0466nw8\" \"/m/04pnf\" \"/m/02p_gby\" \"/m/06k6sl\" \"/m/0738n4\" \"/m/0266mf0\" \"/m/0cx3p\" \"/m/04kbvpz\" \"/m/07s9g04\" \"/m/04l_pt\" \"/m/026c9dq\" \"/m/01ylpf\" \"/m/0g5k7qv\" \"/m/01tyl3\" \"/m/0b__fv3\" \"/m/02vkd28\" \"/m/013s41\" \"/m/047948f\" \"/m/067lwk\" \"/m/03d19xz\" \"/m/02gx2x\" \"/m/021pd\" \"/m/013s2p\" \"/m/09fqz7\" \"/m/0ffhvl\" \"/m/075dhf0\" \"/m/02dd5z\" \"/m/03wbmrc\" \"/m/0br_8h\" \"/m/097nms\" \"/m/02cm28\" \"/m/0h6mqq9\" \"/m/09tqq8q\" \"/m/0301y_\" \"/m/0d8qh0\" \"/m/03h1dq9\" \"/m/03fk0c\" \"/m/026kx7g\" \"/m/04k02l\" \"/m/051wcch\" \"/m/026zlyd\" \"/m/01n94b\" \"/m/04dzwby\" \"/m/0btrm4\" \"/m/03ndvw\" \"/m/0fxmtg\" \"/m/04sfz4s\" \"/m/03cnzsg\" \"/m/03r_k\" \"/m/03f3sf\" \"/m/04lfc70\" \"/m/02vkw95\" \"/m/09y7x4\" \"/m/0fk3s\" \"/m/0h8mzsl\" \"/m/02p444n\" \"/m/03kbr\" \"/m/0bns36b\" \"/m/0bbcnlt\" \"/m/046j25\" \"/m/0dq1q\" \"/m/02rdfpy\" \"/m/05c60ml\" \"/m/0470lk\" \"/m/02p7gyv\" \"/m/0c29q8\" \"/m/03ck8x1\" \"/m/042199j\" \"/m/0bms44\" \"/m/01nft3\" \"/m/01d7kx\" \"/m/01c034\" \"/m/05cc9h\" \"/m/03cl2pz\" \"/m/03x_lpj\" \"/m/02rp50t\" \"/m/03m3p6w\" \"/m/02r_qms\" \"/m/086wp0\" \"/m/065z7w_\" \"/m/01f9bg\" \"/m/03sx6v\" \"/m/034s7b\" \"/m/0987ctr\" \"/m/03gy1h2\" \"/m/0c_lbq\" \"/m/03ftx7\" \"/m/067lv3\" \"/m/0g44f5\" \"/m/03d26m9\" \"/m/0165md\" \"/m/0dqrh8\" \"/m/0cc5y74\" \"/m/0289z8v\" \"/m/01267\" \"/m/0fpjs3j\" \"/m/03cdk7b\" \"/m/0bfrrj\" \"/m/04wy6k\" \"/m/03zcwh\" \"/m/0dc58y8\" \"/m/0g5rkt4\" \"/m/0647lm\" \"/m/04fh1b\" \"/m/047bp1r\" \"/m/09cd0m\" \"/m/03fvrb\" \"/m/025x6k1\" \"/m/02rm7_9\" \"/m/01l0ty\" \"/m/07s49c2\" \"/m/03ty8_\" \"/m/02m0kh\" \"/m/05ms3p0\" \"/m/0gtwjz6\" \"/m/0ftlzz\" \"/m/02pzb09\" \"/m/05sycg\" \"/m/051x6yk\" \"/m/01vsch\" \"/m/04csgrq\" \"/m/064b9n\" \"/m/09chmw\" \"/m/095mw2\" \"/m/09snp5\" \"/m/025tvhm\" \"/m/0c41n\" \"/m/01_5cg\" \"/m/025xss1\" \"/m/0404kdr\" \"/m/0ftwg\" \"/m/0790v\" \"/m/02r3wfk\" \"/m/03h11s3\" \"/m/01vr3v\" \"/m/0c3wsgg\" \"/m/06y24j\" \"/m/0ckk60\" \"/m/03lnnd\" \"/m/04hlx1\" \"/m/062zk4r\" \"/m/097r55\" \"/m/0b8yvr\" \"/m/0br_9j\" \"/m/0xff\" \"/m/01crfj\" \"/m/05mtdy\" \"/m/065577s\" \"/m/0fp4n\" \"/m/0301xt\" \"/m/01kb9y\" \"/m/0268xtg\" \"/m/05y2yj\" \"/m/0ffk5n\" \"/m/02vys3l\" \"/m/01h4n\" \"/m/0bvnws\" \"/m/06dy2k\" \"/m/08yg47\" \"/m/08c25t\" \"/m/0bvjpj\" \"/m/03x1x\" \"/m/0dn1_0\" \"/m/02qv716\" \"/m/02r11hz\" \"/m/06bkf\" \"/m/035b50\" \"/m/0166vx\" \"/m/01g3rx\" \"/m/06w4lv\" \"/m/04wysy\" \"/m/064pj\" \"/m/013z8m\" \"/m/04118b\" \"/m/064rb5l\" \"/m/01ywdy\" \"/m/01flqq\" \"/m/0960kn\" \"/m/0180zw\" \"/m/0463n9y\" \"/m/0d32d1\" \"/m/07n8wy\" \"/m/03q819\" \"/m/06vb7b\" \"/m/02pj9yr\" \"/m/03hf_6z\" \"/m/01km_m\" \"/m/062szv5\" \"/m/07g8yp\" \"/m/0fk55\" \"/m/04lgl9t\" \"/m/0444sm4\" \"/m/03m9my8\" \"/m/03cjjy0\" \"/m/03cmqbt\" \"/m/0b3zsn\" \"/m/03b_13l\" \"/m/0152wh\" \"/m/05ysft4\" \"/m/05sng\" \"/m/059v8\" \"/m/09c8kp\" \"/m/04jtjvt\" \"/m/04c28\" \"/m/03sk2\" \"/m/05ztd1\" \"/m/0dm3xpw\" \"/m/03hjx6f\" \"/m/026d074\" \"/m/03nvq\" \"/m/03nz70\" \"/m/029q52\" \"/m/02wz7j\" \"/m/04kdwcx\" \"/m/02ry8mk\" \"/m/07wsyr\" \"/m/09r2kh\" \"/m/04_8lfc\" \"/m/033qt1\" \"/m/012fh\" \"/m/08j1fb\" \"/m/027936c\" \"/m/0dtkkb\" \"/m/05bzpzx\" \"/m/04lhnps\" \"/m/0fp54b\" \"/m/01hm_\" \"/m/0288fw3\" \"/m/0ft9bs\" \"/m/01gr8h\" \"/m/09g34_\" \"/m/0d8qls\" \"/m/08xbxs\" \"/m/032m0b\" \"/m/04hqxn\" \"/m/068y7m\" \"/m/044bp_\" \"/m/039z49\" \"/m/047q05d\" \"/m/0c50f\" \"/m/01srl7\" \"/m/0fpxlz9\" \"/m/0bdynxs\" \"/m/01gby2\" \"/m/043_z22\" \"/m/03x_fq7\" \"/m/01hphz\" \"/m/033fjj\" \"/m/013y54\" "
     ]
    }
   ],
   "source": [
    "#print all freebase with format corresponding to the wikidata query service. Then manually copy pasted\n",
    "ethnicity_id = list(characters['Actor_Ethnicity'].value_counts().index)\n",
    "for e in ethnicity_id : print('\"'+e+'\"',end=' ')"
   ]
  },
  {
   "cell_type": "code",
   "execution_count": 10,
   "id": "2df7248b",
   "metadata": {},
   "outputs": [],
   "source": [
    "#https://rdflib.github.io/sparqlwrapper/\n",
    "\n",
    "#Below the query is made in two steps to respect the maximal size of the function's capacity\n",
    "\n",
    "endpoint_url = \"https://query.wikidata.org/sparql\"\n",
    "\n",
    "query1 = \"\"\"PREFIX wdt: <http://www.wikidata.org/prop/direct/>\n",
    "SELECT DISTINCT ?id ?itemLabel WHERE {\n",
    "  VALUES ?id {\"/m/044038p\" \"/m/075_n6\" \"/m/0bbz66j\" \"/m/02rbdlq\" \"/m/0bkbz\" \"/m/01336l\" \"/m/04dbw3\" \"/m/0fqz6\" \"/m/06j2v\" \"/m/046cwm\" \"/m/0g6ff\" \"/m/0432mrk\" \"/m/0gkxl2\" \"/m/02p1pl6\" \"/m/03w9bjf\" \"/m/04tvpv\" \"/m/027n1m6\" \"/m/09743\" \"/m/0bhsnb\" \"/m/013b6_\" \"/m/048sp5\" \"/m/0h2138\" \"/m/02y_9mh\" \"/m/02jvpv\" \"/m/0dbxy\" \"/m/02vsw1\" \"/m/08cjt2\" \"/m/013s3n\" \"/m/09zyn5\" \"/m/0cm7w1\" \"/m/04q7gbh\" \"/m/0fj1k9\" \"/m/0fqp6zk\" \"/m/04f581\" \"/m/012c1l\" \"/m/071x0k\" \"/m/0ffjqy\" \"/m/0ffkb4\" \"/m/0g5y6\" \"/m/0bzkm2\" \"/m/0dllcfn\" \"/m/04y8_bm\" \"/m/03gskx0\" \"/m/0268d21\" \"/m/019lrz\" \"/m/02p4q5p\" \"/m/04czx7\" \"/m/02p656s\" \"/m/0ffhz3\" \"/m/04jq32s\" \"/m/04mmhj\" \"/m/0dj8k3\" \"/m/059_w\" \"/m/01kg2v\" \"/m/0222hg\" \"/m/0f0gt_\" \"/m/01j2qv\" \"/m/0ffjvd\" \"/m/032j30\" \"/m/033njm\" \"/m/0bs7l_v\" \"/m/0g48m4\" \"/m/022fdt\" \"/m/052r3t\" \"/m/0bfjm7\" \"/m/01xttr\" \"/m/04ydrsn\" \"/m/03295l\" \"/m/06lshc\" \"/m/03cbkrf\" \"/m/0283js_\" \"/m/09cqth\" \"/m/04nrnz\" \"/m/05748\" \"/m/025_0f0\" \"/m/01trsl\" \"/m/09vmyh\" \"/m/05sf2x\" \"/m/09gk_6h\" \"/m/078vc\" \"/m/01p7s6\" \"/m/017sq0\" \"/m/018s6c\" \"/m/04y29\" \"/m/067lts\" \"/m/05g0f1\" \"/m/0761bp\" \"/m/09gp4\" \"/m/02qv_h_\" \"/m/0640_7q\" \"/m/0912ll\" \"/m/013b7g\" \"/m/067lrj\" \"/m/0b79c7\" \"/m/09lz9zx\" \"/m/01swvz\" \"/m/01nbcy\" \"/m/0b0gzf\" \"/m/071drf\" \"/m/027vy0s\" \"/m/0150zs\" \"/m/0278pqj\" \"/m/0747611\" \"/m/0c2hxm\" \"/m/0462jl6\" \"/m/074w_m\" \"/m/04ggbzy\" \"/m/0hbz9xw\" \"/m/0152s7\" \"/m/0fng3k\" \"/m/0j4w_\" \"/m/0b98sy\" \"/m/08v2k7\" \"/m/0j6x8\" \"/m/0d9q7j\" \"/m/016f5d\" \"/m/0ffj5g\" \"/m/0338zd\" \"/m/04_tz7\" \"/m/027lf0d\" \"/m/0ch3pqf\" \"/m/06fczy\" \"/m/01mw1s\" \"/m/04608z\" \"/m/04_hr_\" \"/m/026cybk\" \"/m/01hwt\" \"/m/08gzsf\" \"/m/05vhv7\" \"/m/04_bc8\" \"/m/06rd7\" \"/m/0318mh\" \"/m/02wcbj_\" \"/m/0520604\" \"/m/07j80c\" \"/m/078ds\" \"/m/0fk1z\" \"/m/0dv5vw\" \"/m/04znbg\" \"/m/01sq7s\" \"/m/0gf5k1\" \"/m/03pqwy\" \"/m/031_sd\" \"/m/012f86\" \"/m/092h2qt\" \"/m/033qxt\" \"/m/03vghh\" \"/m/0bjbszh\" \"/m/07hyjp\" \"/m/03yk6g\" \"/m/0h1nk0k\" \"/m/04zjjt\" \"/m/02czfr\" \"/m/05qb937\" \"/m/047l_90\" \"/m/0bnzjx\" \"/m/02q206y\" \"/m/0665pp\" \"/m/07gzw5\" \"/m/062_25\" \"/m/0hj35\" \"/m/0bh91q8\" \"/m/01g0y_\" \"/m/07lv5x\" \"/m/0g4pffv\" \"/m/0828vj\" \"/m/07d_p8\" \"/m/04lhn7b\" \"/m/0fq6zlv\" \"/m/0268pvf\" \"/m/0466nw8\" \"/m/04pnf\" \"/m/02p_gby\" \"/m/06k6sl\" \"/m/0738n4\" \"/m/0266mf0\" \"/m/0cx3p\" \"/m/04kbvpz\" \"/m/07s9g04\" \"/m/04l_pt\" \"/m/026c9dq\" \"/m/01ylpf\" \"/m/0g5k7qv\" \"/m/01tyl3\" \"/m/0b__fv3\" \"/m/02vkd28\" \"/m/013s41\" \"/m/047948f\" \"/m/067lwk\" \"/m/03d19xz\" \"/m/02gx2x\" \"/m/021pd\" \"/m/013s2p\" \"/m/09fqz7\" \"/m/0ffhvl\" \"/m/075dhf0\" \"/m/02dd5z\" \"/m/03wbmrc\" \"/m/0br_8h\" \"/m/097nms\" \"/m/02cm28\" \"/m/0h6mqq9\" \"/m/09tqq8q\" \"/m/0301y_\" \"/m/0d8qh0\" \"/m/03h1dq9\" \"/m/03fk0c\" \"/m/026kx7g\" \"/m/04k02l\" \"/m/051wcch\" \"/m/026zlyd\" \"/m/01n94b\" \"/m/04dzwby\" \"/m/0btrm4\" \"/m/03ndvw\" \"/m/0fxmtg\" \"/m/04sfz4s\" \"/m/03cnzsg\" \"/m/03r_k\" \"/m/03f3sf\" \"/m/04lfc70\" \"/m/02vkw95\" \"/m/09y7x4\" \"/m/0fk3s\" \"/m/0h8mzsl\" \"/m/02p444n\" \"/m/03kbr\" \"/m/0bns36b\" \"/m/0bbcnlt\" \"/m/046j25\" \"/m/0dq1q\" \"/m/02rdfpy\" \"/m/05c60ml\" \"/m/0470lk\" \"/m/02p7gyv\" \"/m/0c29q8\" \"/m/03ck8x1\" \"/m/042199j\" \"/m/0bms44\" \"/m/01nft3\" \"/m/01d7kx\" \"/m/01c034\" \"/m/05cc9h\" \"/m/03cl2pz\" \"/m/03x_lpj\" \"/m/02rp50t\" \"/m/03m3p6w\" \"/m/02r_qms\" \"/m/086wp0\" \"/m/065z7w_\" \"/m/01f9bg\" \"/m/03sx6v\" \"/m/034s7b\" \"/m/0987ctr\" \"/m/03gy1h2\" \"/m/0c_lbq\" \"/m/03ftx7\" \"/m/067lv3\" \"/m/0g44f5\" \"/m/03d26m9\" \"/m/0165md\" \"/m/0dqrh8\" \"/m/0cc5y74\" \"/m/0289z8v\" \"/m/01267\" \"/m/0fpjs3j\" \"/m/03cdk7b\" \"/m/0bfrrj\" \"/m/04wy6k\" \"/m/03zcwh\" \"/m/0dc58y8\" \"/m/0g5rkt4\" \"/m/0647lm\" \"/m/04fh1b\" \"/m/047bp1r\" \"/m/09cd0m\" \"/m/03fvrb\" \"/m/025x6k1\" \"/m/02rm7_9\" \"/m/01l0ty\" \"/m/07s49c2\" \"/m/03ty8_\" \"/m/02m0kh\" \"/m/05ms3p0\" \"/m/0gtwjz6\" \"/m/0ftlzz\" \"/m/02pzb09\" \"/m/05sycg\" \"/m/051x6yk\" \"/m/01vsch\" \"/m/04csgrq\" \"/m/064b9n\" \"/m/09chmw\" \"/m/095mw2\" \"/m/09snp5\" \"/m/025tvhm\" \"/m/0c41n\" \"/m/01_5cg\" \"/m/025xss1\" \"/m/0404kdr\" \"/m/0ftwg\" \"/m/0790v\" \"/m/02r3wfk\" \"/m/03h11s3\" \"/m/01vr3v\" \"/m/0c3wsgg\" \"/m/06y24j\" \"/m/0ckk60\" \"/m/03lnnd\" \"/m/04hlx1\" \"/m/062zk4r\" \"/m/097r55\" \"/m/0b8yvr\" \"/m/0br_9j\" \"/m/0xff\" \"/m/01crfj\" \"/m/05mtdy\" \"/m/065577s\" \"/m/0fp4n\" \"/m/0301xt\" \"/m/01kb9y\" \"/m/0268xtg\" \"/m/05y2yj\" \"/m/0ffk5n\" \"/m/02vys3l\" \"/m/01h4n\" \"/m/0bvnws\" \"/m/06dy2k\" \"/m/08yg47\" \"/m/08c25t\" \"/m/0bvjpj\" \"/m/03x1x\" \"/m/0dn1_0\" \"/m/02qv716\" \"/m/02r11hz\" \"/m/06bkf\" \"/m/035b50\" \"/m/0166vx\" \"/m/01g3rx\" \"/m/06w4lv\" \"/m/04wysy\" \"/m/064pj\" \"/m/013z8m\" \"/m/04118b\" \"/m/064rb5l\" \"/m/01ywdy\" \"/m/01flqq\" \"/m/0960kn\" \"/m/0180zw\" \"/m/0463n9y\" \"/m/0d32d1\" \"/m/07n8wy\" \"/m/03q819\" \"/m/06vb7b\" \"/m/02pj9yr\" \"/m/03hf_6z\" \"/m/01km_m\" \"/m/062szv5\" \"/m/07g8yp\" \"/m/0fk55\" \"/m/04lgl9t\" \"/m/0444sm4\" \"/m/03m9my8\" \"/m/03cjjy0\" \"/m/03cmqbt\" \"/m/0b3zsn\" \"/m/03b_13l\" \"/m/0152wh\" \"/m/05ysft4\" \"/m/05sng\" \"/m/059v8\" \"/m/09c8kp\" \"/m/04jtjvt\" \"/m/04c28\" \"/m/03sk2\" \"/m/05ztd1\" \"/m/0dm3xpw\" \"/m/03hjx6f\" \"/m/026d074\" \"/m/03nvq\" \"/m/03nz70\" \"/m/029q52\" \"/m/02wz7j\" \"/m/04kdwcx\" \"/m/02ry8mk\" \"/m/07wsyr\" \"/m/09r2kh\" \"/m/04_8lfc\" \"/m/033qt1\" \"/m/012fh\" \"/m/08j1fb\" \"/m/027936c\" \"/m/0dtkkb\" \"/m/05bzpzx\" \"/m/04lhnps\" \"/m/0fp54b\" \"/m/01hm_\" \"/m/0288fw3\" \"/m/0ft9bs\" \"/m/01gr8h\" \"/m/09g34_\" \"/m/0d8qls\" \"/m/08xbxs\" \"/m/032m0b\" \"/m/04hqxn\" \"/m/068y7m\" \"/m/044bp_\" \"/m/039z49\" \"/m/047q05d\" \"/m/0c50f\" \"/m/01srl7\" \"/m/0fpxlz9\" \"/m/0bdynxs\" \"/m/01gby2\" \"/m/043_z22\" \"/m/03x_fq7\" \"/m/01hphz\" \"/m/033fjj\" \"/m/013y54\"}.\n",
    "   ?item wdt:P646 ?id.\n",
    "    \n",
    "  SERVICE wikibase:label { bd:serviceParam wikibase:language \"en\". }\n",
    "}\n",
    "\"\"\"\n",
    "\n",
    "query2 = \"\"\"PREFIX wdt: <http://www.wikidata.org/prop/direct/>\n",
    "SELECT DISTINCT ?id ?itemLabel WHERE {\n",
    "  VALUES ?id {\"/m/0dryh9k\" \"/m/0x67\" \"/m/041rx\" \"/m/02w7gg\" \"/m/033tf_\" \"/m/0xnvg\" \"/m/02ctzb\" \"/m/07hwkr\" \"/m/07bch9\" \"/m/044038p\" \"/m/03bkbh\" \"/m/0d7wh\" \"/m/03ts0c\" \"/m/0222qb\" \"/m/01rv7x\" \"/m/02sch9\" \"/m/04mvp8\" \"/m/03lmx1\" \"/m/065b6q\" \"/m/01qhm_\" \"/m/06mvq\" \"/m/048z7l\" \"/m/0bpjh3\" \"/m/0cqgdq\" \"/m/0g8_vp\" \"/m/09vc4s\" \"/m/013xrm\" \"/m/019kn7\" \"/m/06gbnc\" \"/m/07mqps\" \"/m/01g7zj\" \"/m/01xhh5\" \"/m/03bx0k4\" \"/m/0g96wd\" \"/m/02g7sp\" \"/m/09m6hr\" \"/m/063k3h\" \"/m/0g0x7_\" \"/m/03ttfc\" \"/m/023mqw\" \"/m/0d2by\" \"/m/09kr66\" \"/m/042gtr\" \"/m/025rpb0\" \"/m/08hpk0\" \"/m/038723\" \"/m/0583cz\" \"/m/022dp5\" \"/m/0cmdl5l\" \"/m/03vv99\" \"/m/029f2r\" \"/m/09k5jvk\" \"/m/0cnvdq1\" \"/m/06v41q\" \"/m/04gfy7\" \"/m/0bymc\" \"/m/0cn68\" \"/m/09v5bdn\" \"/m/05l3g_\" \"/m/0268_k\" \"/m/0dqqwy\" }.\n",
    "   ?item wdt:P646 ?id.\n",
    "    \n",
    "  SERVICE wikibase:label { bd:serviceParam wikibase:language \"en\". }\n",
    "}\n",
    "\"\"\"\n",
    "\n",
    "\n",
    "def get_results(endpoint_url, query):\n",
    "    user_agent = \"WDQS-example Python/%s.%s\" % (sys.version_info[0], sys.version_info[1])\n",
    "    # TODO adjust user agent; see https://w.wiki/CX6\n",
    "    sparql = SPARQLWrapper(endpoint_url, agent=user_agent)\n",
    "    sparql.setQuery(query)\n",
    "    sparql.setReturnFormat(JSON)\n",
    "    return sparql.query().convert()\n",
    "\n",
    "\n",
    "results1 = get_results(endpoint_url, query1)\n",
    "results2 = get_results(endpoint_url, query2)"
   ]
  },
  {
   "cell_type": "code",
   "execution_count": 11,
   "id": "0cf7a3d1",
   "metadata": {},
   "outputs": [],
   "source": [
    "for result in results1[\"results\"][\"bindings\"]:\n",
    "    characters['Actor_Ethnicity'].replace(result['id']['value'],result['itemLabel']['value'],inplace=True)\n",
    "\n",
    "for result in results2[\"results\"][\"bindings\"]:\n",
    "    characters['Actor_Ethnicity'].replace(result['id']['value'],result['itemLabel']['value'],inplace=True)"
   ]
  },
  {
   "cell_type": "code",
   "execution_count": 12,
   "id": "51d989d0",
   "metadata": {},
   "outputs": [
    {
     "name": "stdout",
     "output_type": "stream",
     "text": [
      "<class 'pandas.core.series.Series'>\n",
      "RangeIndex: 450669 entries, 0 to 450668\n",
      "Series name: Actor_Ethnicity\n",
      "Non-Null Count   Dtype \n",
      "--------------   ----- \n",
      "106058 non-null  object\n",
      "dtypes: object(1)\n",
      "memory usage: 3.4+ MB\n"
     ]
    }
   ],
   "source": [
    "characters.Actor_Ethnicity.info()"
   ]
  },
  {
   "cell_type": "markdown",
   "id": "04e28bdd",
   "metadata": {},
   "source": [
    "Preprocessing ends here for the `characters` dataframe"
   ]
  },
  {
   "cell_type": "code",
   "execution_count": 13,
   "id": "b35cc0bc",
   "metadata": {},
   "outputs": [
    {
     "data": {
      "text/html": [
       "<div>\n",
       "<style scoped>\n",
       "    .dataframe tbody tr th:only-of-type {\n",
       "        vertical-align: middle;\n",
       "    }\n",
       "\n",
       "    .dataframe tbody tr th {\n",
       "        vertical-align: top;\n",
       "    }\n",
       "\n",
       "    .dataframe thead th {\n",
       "        text-align: right;\n",
       "    }\n",
       "</style>\n",
       "<table border=\"1\" class=\"dataframe\">\n",
       "  <thead>\n",
       "    <tr style=\"text-align: right;\">\n",
       "      <th></th>\n",
       "      <th>Wikipedia_movie_ID</th>\n",
       "      <th>Freebase_movie_ID</th>\n",
       "      <th>Movie_release_date</th>\n",
       "      <th>Character_name</th>\n",
       "      <th>Actor_birth</th>\n",
       "      <th>Actor_Gender</th>\n",
       "      <th>Actor Height</th>\n",
       "      <th>Actor_Ethnicity</th>\n",
       "      <th>Actor_Name</th>\n",
       "      <th>Age_at_movie_release</th>\n",
       "      <th>Freebase_character_actor_map_ID</th>\n",
       "      <th>Freebase_character_ID</th>\n",
       "      <th>Freebase_actor_ID</th>\n",
       "    </tr>\n",
       "  </thead>\n",
       "  <tbody>\n",
       "    <tr>\n",
       "      <th>0</th>\n",
       "      <td>975900</td>\n",
       "      <td>/m/03vyhn</td>\n",
       "      <td>2001-08-24</td>\n",
       "      <td>Akooshay</td>\n",
       "      <td>1958-08-26</td>\n",
       "      <td>F</td>\n",
       "      <td>1.620</td>\n",
       "      <td>NaN</td>\n",
       "      <td>Wanda De Jesus</td>\n",
       "      <td>42.0</td>\n",
       "      <td>/m/0bgchxw</td>\n",
       "      <td>/m/0bgcj3x</td>\n",
       "      <td>/m/03wcfv7</td>\n",
       "    </tr>\n",
       "    <tr>\n",
       "      <th>1</th>\n",
       "      <td>975900</td>\n",
       "      <td>/m/03vyhn</td>\n",
       "      <td>2001-08-24</td>\n",
       "      <td>Lieutenant Melanie Ballard</td>\n",
       "      <td>1974-08-15</td>\n",
       "      <td>F</td>\n",
       "      <td>1.780</td>\n",
       "      <td>/m/044038p</td>\n",
       "      <td>Natasha Henstridge</td>\n",
       "      <td>27.0</td>\n",
       "      <td>/m/0jys3m</td>\n",
       "      <td>/m/0bgchn4</td>\n",
       "      <td>/m/0346l4</td>\n",
       "    </tr>\n",
       "    <tr>\n",
       "      <th>2</th>\n",
       "      <td>975900</td>\n",
       "      <td>/m/03vyhn</td>\n",
       "      <td>2001-08-24</td>\n",
       "      <td>Desolation Williams</td>\n",
       "      <td>1969-06-15</td>\n",
       "      <td>M</td>\n",
       "      <td>1.727</td>\n",
       "      <td>African Americans</td>\n",
       "      <td>Ice Cube</td>\n",
       "      <td>32.0</td>\n",
       "      <td>/m/0jys3g</td>\n",
       "      <td>/m/0bgchn_</td>\n",
       "      <td>/m/01vw26l</td>\n",
       "    </tr>\n",
       "    <tr>\n",
       "      <th>3</th>\n",
       "      <td>975900</td>\n",
       "      <td>/m/03vyhn</td>\n",
       "      <td>2001-08-24</td>\n",
       "      <td>Sgt Jericho Butler</td>\n",
       "      <td>1967-09-12</td>\n",
       "      <td>M</td>\n",
       "      <td>1.750</td>\n",
       "      <td>NaN</td>\n",
       "      <td>Jason Statham</td>\n",
       "      <td>33.0</td>\n",
       "      <td>/m/02vchl6</td>\n",
       "      <td>/m/0bgchnq</td>\n",
       "      <td>/m/034hyc</td>\n",
       "    </tr>\n",
       "    <tr>\n",
       "      <th>4</th>\n",
       "      <td>975900</td>\n",
       "      <td>/m/03vyhn</td>\n",
       "      <td>2001-08-24</td>\n",
       "      <td>Bashira Kincaid</td>\n",
       "      <td>1977-09-25</td>\n",
       "      <td>F</td>\n",
       "      <td>1.650</td>\n",
       "      <td>NaN</td>\n",
       "      <td>Clea DuVall</td>\n",
       "      <td>23.0</td>\n",
       "      <td>/m/02vbb3r</td>\n",
       "      <td>/m/0bgchp9</td>\n",
       "      <td>/m/01y9xg</td>\n",
       "    </tr>\n",
       "  </tbody>\n",
       "</table>\n",
       "</div>"
      ],
      "text/plain": [
       "   Wikipedia_movie_ID Freebase_movie_ID Movie_release_date  \\\n",
       "0              975900         /m/03vyhn         2001-08-24   \n",
       "1              975900         /m/03vyhn         2001-08-24   \n",
       "2              975900         /m/03vyhn         2001-08-24   \n",
       "3              975900         /m/03vyhn         2001-08-24   \n",
       "4              975900         /m/03vyhn         2001-08-24   \n",
       "\n",
       "               Character_name Actor_birth Actor_Gender  Actor Height  \\\n",
       "0                    Akooshay  1958-08-26            F         1.620   \n",
       "1  Lieutenant Melanie Ballard  1974-08-15            F         1.780   \n",
       "2         Desolation Williams  1969-06-15            M         1.727   \n",
       "3          Sgt Jericho Butler  1967-09-12            M         1.750   \n",
       "4             Bashira Kincaid  1977-09-25            F         1.650   \n",
       "\n",
       "     Actor_Ethnicity          Actor_Name  Age_at_movie_release  \\\n",
       "0                NaN      Wanda De Jesus                  42.0   \n",
       "1         /m/044038p  Natasha Henstridge                  27.0   \n",
       "2  African Americans            Ice Cube                  32.0   \n",
       "3                NaN       Jason Statham                  33.0   \n",
       "4                NaN         Clea DuVall                  23.0   \n",
       "\n",
       "  Freebase_character_actor_map_ID Freebase_character_ID Freebase_actor_ID  \n",
       "0                      /m/0bgchxw            /m/0bgcj3x        /m/03wcfv7  \n",
       "1                       /m/0jys3m            /m/0bgchn4         /m/0346l4  \n",
       "2                       /m/0jys3g            /m/0bgchn_        /m/01vw26l  \n",
       "3                      /m/02vchl6            /m/0bgchnq         /m/034hyc  \n",
       "4                      /m/02vbb3r            /m/0bgchp9         /m/01y9xg  "
      ]
     },
     "execution_count": 13,
     "metadata": {},
     "output_type": "execute_result"
    }
   ],
   "source": [
    "characters.head()"
   ]
  },
  {
   "cell_type": "markdown",
   "id": "0682f4ba",
   "metadata": {},
   "source": [
    "### `movies`"
   ]
  },
  {
   "cell_type": "markdown",
   "id": "4ba13653",
   "metadata": {},
   "source": [
    "Each row is a movie, columns correpsond to features that describe these movies."
   ]
  },
  {
   "cell_type": "code",
   "execution_count": 14,
   "id": "c4257894",
   "metadata": {},
   "outputs": [
    {
     "data": {
      "text/html": [
       "<div>\n",
       "<style scoped>\n",
       "    .dataframe tbody tr th:only-of-type {\n",
       "        vertical-align: middle;\n",
       "    }\n",
       "\n",
       "    .dataframe tbody tr th {\n",
       "        vertical-align: top;\n",
       "    }\n",
       "\n",
       "    .dataframe thead th {\n",
       "        text-align: right;\n",
       "    }\n",
       "</style>\n",
       "<table border=\"1\" class=\"dataframe\">\n",
       "  <thead>\n",
       "    <tr style=\"text-align: right;\">\n",
       "      <th></th>\n",
       "      <th>Wikipedia_movie_ID</th>\n",
       "      <th>Freebase_movie_ID</th>\n",
       "      <th>Name</th>\n",
       "      <th>Release_date</th>\n",
       "      <th>Box_office_revenue</th>\n",
       "      <th>Runtime</th>\n",
       "      <th>Languages</th>\n",
       "      <th>Countries</th>\n",
       "      <th>Genres</th>\n",
       "    </tr>\n",
       "  </thead>\n",
       "  <tbody>\n",
       "    <tr>\n",
       "      <th>0</th>\n",
       "      <td>975900</td>\n",
       "      <td>/m/03vyhn</td>\n",
       "      <td>Ghosts of Mars</td>\n",
       "      <td>2001-08-24</td>\n",
       "      <td>14010832.0</td>\n",
       "      <td>98.0</td>\n",
       "      <td>{\"/m/02h40lc\": \"English Language\"}</td>\n",
       "      <td>{\"/m/09c7w0\": \"United States of America\"}</td>\n",
       "      <td>{\"/m/01jfsb\": \"Thriller\", \"/m/06n90\": \"Science...</td>\n",
       "    </tr>\n",
       "  </tbody>\n",
       "</table>\n",
       "</div>"
      ],
      "text/plain": [
       "   Wikipedia_movie_ID Freebase_movie_ID            Name Release_date  \\\n",
       "0              975900         /m/03vyhn  Ghosts of Mars   2001-08-24   \n",
       "\n",
       "   Box_office_revenue  Runtime                           Languages  \\\n",
       "0          14010832.0     98.0  {\"/m/02h40lc\": \"English Language\"}   \n",
       "\n",
       "                                   Countries  \\\n",
       "0  {\"/m/09c7w0\": \"United States of America\"}   \n",
       "\n",
       "                                              Genres  \n",
       "0  {\"/m/01jfsb\": \"Thriller\", \"/m/06n90\": \"Science...  "
      ]
     },
     "execution_count": 14,
     "metadata": {},
     "output_type": "execute_result"
    }
   ],
   "source": [
    "movies.head(1)"
   ]
  },
  {
   "cell_type": "code",
   "execution_count": 15,
   "id": "79a974d6",
   "metadata": {
    "scrolled": true
   },
   "outputs": [
    {
     "name": "stdout",
     "output_type": "stream",
     "text": [
      "<class 'pandas.core.frame.DataFrame'>\n",
      "RangeIndex: 81741 entries, 0 to 81740\n",
      "Data columns (total 9 columns):\n",
      " #   Column              Non-Null Count  Dtype  \n",
      "---  ------              --------------  -----  \n",
      " 0   Wikipedia_movie_ID  81741 non-null  int64  \n",
      " 1   Freebase_movie_ID   81741 non-null  object \n",
      " 2   Name                81741 non-null  object \n",
      " 3   Release_date        74839 non-null  object \n",
      " 4   Box_office_revenue  8401 non-null   float64\n",
      " 5   Runtime             61291 non-null  float64\n",
      " 6   Languages           81741 non-null  object \n",
      " 7   Countries           81741 non-null  object \n",
      " 8   Genres              81741 non-null  object \n",
      "dtypes: float64(2), int64(1), object(6)\n",
      "memory usage: 5.6+ MB\n"
     ]
    }
   ],
   "source": [
    "movies.info()"
   ]
  },
  {
   "cell_type": "markdown",
   "id": "fda44158",
   "metadata": {},
   "source": [
    "We can observe that columns `Release_date`, `Box_office_revenue` and `Runtime` each have a certain number of null values. In order to keep a maximum information, we will not drop all movies having at least one null value in their features because the other respective features might still be useful. However, the null values will be handled when working on particular features with subsets of the original dataframe."
   ]
  },
  {
   "cell_type": "markdown",
   "id": "77aa45b4",
   "metadata": {},
   "source": [
    "Note that the `Release_date` feature column Dtype is 'object'. To handle the date in a simpler way with panda DataFrames we will use the DateTime type, this transformation is done below. After a first try, we found that the value of movie 62836 in the dataframe had a non-valid syntax, thus we changed its value manually."
   ]
  },
  {
   "cell_type": "code",
   "execution_count": 16,
   "id": "fc400b40-ae27-4c40-acfe-0dfcb8383c5b",
   "metadata": {},
   "outputs": [],
   "source": [
    "movies.iloc[62836,3] =  pd.to_datetime('2010-12-02')\n",
    "movies.loc[:,['Release_date']] = pd.to_datetime(movies['Release_date'])"
   ]
  },
  {
   "cell_type": "code",
   "execution_count": 17,
   "id": "f2a888a9",
   "metadata": {
    "scrolled": true
   },
   "outputs": [
    {
     "name": "stdout",
     "output_type": "stream",
     "text": [
      "<class 'pandas.core.series.Series'>\n",
      "RangeIndex: 81741 entries, 0 to 81740\n",
      "Series name: Release_date\n",
      "Non-Null Count  Dtype         \n",
      "--------------  -----         \n",
      "74839 non-null  datetime64[ns]\n",
      "dtypes: datetime64[ns](1)\n",
      "memory usage: 638.7 KB\n"
     ]
    }
   ],
   "source": [
    "movies.Release_date.info()"
   ]
  },
  {
   "cell_type": "markdown",
   "id": "82018ac3",
   "metadata": {},
   "source": [
    "The `Release_date` Dtype is now datetime64 and the number of null values is still the same."
   ]
  },
  {
   "cell_type": "markdown",
   "id": "95534f7d",
   "metadata": {},
   "source": [
    "Columns `Languages`, `Countries` and `Genres` have a special format. Even if they are stored as string, we can recognize dictionnaries. The keys correspond to the freebase ID of the wikidata item contained in the corresponding dictionnaries' values. We are not interested in keeping the freebase id in the scope of this project, we will therefore only retrieve the values using the regex `re` library. We can also create lists of genres for each movie instead of a long string in the `Genres` column. This pre-processing is done below."
   ]
  },
  {
   "cell_type": "code",
   "execution_count": 18,
   "id": "72d2456c",
   "metadata": {},
   "outputs": [],
   "source": [
    "movies.loc[:,['Genres']] = movies[['Genres']].applymap(ast.literal_eval) # transform string -> dict"
   ]
  },
  {
   "cell_type": "code",
   "execution_count": 19,
   "id": "0081b715",
   "metadata": {},
   "outputs": [],
   "source": [
    "def replace_dicts(arg):\n",
    "    return list(arg.values())\n",
    "\n",
    "movies[['Genres']] = movies[['Genres']].applymap(replace_dicts) # transform dict -> list of values"
   ]
  },
  {
   "cell_type": "code",
   "execution_count": 20,
   "id": "a397f028",
   "metadata": {},
   "outputs": [],
   "source": [
    "movies['Languages'] = movies['Languages'].apply(lambda x: re.findall('\": \"(.*)\"', x)).str[0] # string -> string\n",
    "movies['Countries'] = movies['Countries'].apply(lambda x: re.findall('\": \"(.*)\"', x)).str[0] # string -> string"
   ]
  },
  {
   "cell_type": "markdown",
   "id": "11cf66b6",
   "metadata": {},
   "source": [
    "Preprocessing ends here for the `movies` dataframe"
   ]
  },
  {
   "cell_type": "code",
   "execution_count": 21,
   "id": "bb0a885f",
   "metadata": {},
   "outputs": [
    {
     "data": {
      "text/html": [
       "<div>\n",
       "<style scoped>\n",
       "    .dataframe tbody tr th:only-of-type {\n",
       "        vertical-align: middle;\n",
       "    }\n",
       "\n",
       "    .dataframe tbody tr th {\n",
       "        vertical-align: top;\n",
       "    }\n",
       "\n",
       "    .dataframe thead th {\n",
       "        text-align: right;\n",
       "    }\n",
       "</style>\n",
       "<table border=\"1\" class=\"dataframe\">\n",
       "  <thead>\n",
       "    <tr style=\"text-align: right;\">\n",
       "      <th></th>\n",
       "      <th>Wikipedia_movie_ID</th>\n",
       "      <th>Freebase_movie_ID</th>\n",
       "      <th>Name</th>\n",
       "      <th>Release_date</th>\n",
       "      <th>Box_office_revenue</th>\n",
       "      <th>Runtime</th>\n",
       "      <th>Languages</th>\n",
       "      <th>Countries</th>\n",
       "      <th>Genres</th>\n",
       "    </tr>\n",
       "  </thead>\n",
       "  <tbody>\n",
       "    <tr>\n",
       "      <th>0</th>\n",
       "      <td>975900</td>\n",
       "      <td>/m/03vyhn</td>\n",
       "      <td>Ghosts of Mars</td>\n",
       "      <td>2001-08-24</td>\n",
       "      <td>14010832.0</td>\n",
       "      <td>98.0</td>\n",
       "      <td>English Language</td>\n",
       "      <td>United States of America</td>\n",
       "      <td>[Thriller, Science Fiction, Horror, Adventure,...</td>\n",
       "    </tr>\n",
       "  </tbody>\n",
       "</table>\n",
       "</div>"
      ],
      "text/plain": [
       "   Wikipedia_movie_ID Freebase_movie_ID            Name Release_date  \\\n",
       "0              975900         /m/03vyhn  Ghosts of Mars   2001-08-24   \n",
       "\n",
       "   Box_office_revenue  Runtime         Languages                 Countries  \\\n",
       "0          14010832.0     98.0  English Language  United States of America   \n",
       "\n",
       "                                              Genres  \n",
       "0  [Thriller, Science Fiction, Horror, Adventure,...  "
      ]
     },
     "execution_count": 21,
     "metadata": {},
     "output_type": "execute_result"
    }
   ],
   "source": [
    "movies.head(1)"
   ]
  },
  {
   "cell_type": "markdown",
   "id": "7354cea2",
   "metadata": {},
   "source": [
    "### `plot_summaries`"
   ]
  },
  {
   "cell_type": "markdown",
   "id": "a84a8125",
   "metadata": {},
   "source": [
    "to do"
   ]
  },
  {
   "cell_type": "markdown",
   "id": "745d0e0f-843a-4817-8e6c-860bebf8143b",
   "metadata": {},
   "source": [
    "### `character_types`"
   ]
  },
  {
   "cell_type": "markdown",
   "id": "ace521f4",
   "metadata": {},
   "source": [
    "to complete"
   ]
  },
  {
   "cell_type": "code",
   "execution_count": 22,
   "id": "d9034688-c28e-4e47-ad52-15da2b6376b5",
   "metadata": {},
   "outputs": [
    {
     "data": {
      "text/html": [
       "<div>\n",
       "<style scoped>\n",
       "    .dataframe tbody tr th:only-of-type {\n",
       "        vertical-align: middle;\n",
       "    }\n",
       "\n",
       "    .dataframe tbody tr th {\n",
       "        vertical-align: top;\n",
       "    }\n",
       "\n",
       "    .dataframe thead th {\n",
       "        text-align: right;\n",
       "    }\n",
       "</style>\n",
       "<table border=\"1\" class=\"dataframe\">\n",
       "  <thead>\n",
       "    <tr style=\"text-align: right;\">\n",
       "      <th></th>\n",
       "      <th>Type</th>\n",
       "      <th>Info</th>\n",
       "    </tr>\n",
       "  </thead>\n",
       "  <tbody>\n",
       "    <tr>\n",
       "      <th>0</th>\n",
       "      <td>absent_minded_professor</td>\n",
       "      <td>{\"char\": \"Professor Philip Brainard\", \"movie\":...</td>\n",
       "    </tr>\n",
       "  </tbody>\n",
       "</table>\n",
       "</div>"
      ],
      "text/plain": [
       "                      Type                                               Info\n",
       "0  absent_minded_professor  {\"char\": \"Professor Philip Brainard\", \"movie\":..."
      ]
     },
     "execution_count": 22,
     "metadata": {},
     "output_type": "execute_result"
    }
   ],
   "source": [
    "character_types.head(1)"
   ]
  },
  {
   "cell_type": "markdown",
   "id": "ec64a00c-c18d-4dbc-9153-03c255c10b25",
   "metadata": {},
   "source": [
    "In the `character_types` dataframe above, the `Info` column contains long strings that give information about the character that the type describes, the movie in which the character is found, the Freebase character/actor map ID and the actor that embodies the character. All of this information can be separated into four disctint columns: character, movie, ID and actor columns, using the `json` library as below. "
   ]
  },
  {
   "cell_type": "code",
   "execution_count": 23,
   "id": "39f0f336-07e5-4027-9499-9b34271e437b",
   "metadata": {},
   "outputs": [],
   "source": [
    "character_types[['char', 'movie', 'Freebase_character_actor_map_ID', 'actor']] = character_types['Info'].apply(lambda x: json.loads(x)).apply(pd.Series)\n",
    "character_types.drop('Info', axis=1, inplace=True)"
   ]
  },
  {
   "cell_type": "code",
   "execution_count": 24,
   "id": "09716bc9-aa1e-43d2-b6cf-3309ba10981c",
   "metadata": {},
   "outputs": [
    {
     "data": {
      "text/html": [
       "<div>\n",
       "<style scoped>\n",
       "    .dataframe tbody tr th:only-of-type {\n",
       "        vertical-align: middle;\n",
       "    }\n",
       "\n",
       "    .dataframe tbody tr th {\n",
       "        vertical-align: top;\n",
       "    }\n",
       "\n",
       "    .dataframe thead th {\n",
       "        text-align: right;\n",
       "    }\n",
       "</style>\n",
       "<table border=\"1\" class=\"dataframe\">\n",
       "  <thead>\n",
       "    <tr style=\"text-align: right;\">\n",
       "      <th></th>\n",
       "      <th>Type</th>\n",
       "      <th>char</th>\n",
       "      <th>movie</th>\n",
       "      <th>Freebase_character_actor_map_ID</th>\n",
       "      <th>actor</th>\n",
       "    </tr>\n",
       "  </thead>\n",
       "  <tbody>\n",
       "    <tr>\n",
       "      <th>0</th>\n",
       "      <td>absent_minded_professor</td>\n",
       "      <td>Professor Philip Brainard</td>\n",
       "      <td>Flubber</td>\n",
       "      <td>/m/0jy9q0</td>\n",
       "      <td>Robin Williams</td>\n",
       "    </tr>\n",
       "  </tbody>\n",
       "</table>\n",
       "</div>"
      ],
      "text/plain": [
       "                      Type                       char    movie  \\\n",
       "0  absent_minded_professor  Professor Philip Brainard  Flubber   \n",
       "\n",
       "  Freebase_character_actor_map_ID           actor  \n",
       "0                       /m/0jy9q0  Robin Williams  "
      ]
     },
     "execution_count": 24,
     "metadata": {},
     "output_type": "execute_result"
    }
   ],
   "source": [
    "character_types.head(1)"
   ]
  },
  {
   "cell_type": "markdown",
   "id": "b5f4cc50",
   "metadata": {},
   "source": [
    "### `name_clusters`"
   ]
  },
  {
   "cell_type": "markdown",
   "id": "fb218087",
   "metadata": {},
   "source": [
    "to do"
   ]
  },
  {
   "cell_type": "markdown",
   "id": "3b6530cf-da9b-443f-a363-915ffbc52d71",
   "metadata": {},
   "source": [
    "### First vizualisations"
   ]
  },
  {
   "cell_type": "code",
   "execution_count": 25,
   "id": "bd26e334-5c07-48e7-8412-d9ac3038a64c",
   "metadata": {},
   "outputs": [
    {
     "name": "stdout",
     "output_type": "stream",
     "text": [
      "Movies dataframe has 81741 rows\n",
      "Characters dataframe has 450669 rows\n",
      "Plot_summaries dataframe has 42303 rows\n",
      "Character_types dataframe has 501 rows\n",
      "Name_clusters dataframe has 2666 rows\n"
     ]
    }
   ],
   "source": [
    "print(f'Movies dataframe has {len(movies)} rows')\n",
    "print(f'Characters dataframe has {len(characters)} rows')\n",
    "print(f'Plot_summaries dataframe has {len(plot_summaries)} rows')\n",
    "print(f'Character_types dataframe has {len(character_types)} rows')\n",
    "print(f'Name_clusters dataframe has {len(name_clusters)} rows')"
   ]
  },
  {
   "cell_type": "markdown",
   "id": "405ddbb3-b70c-48dc-b92b-475421268391",
   "metadata": {},
   "source": [
    "Therefore, each of our dataframes do not have the same number of rows... However, we can still try to combine some dataframes together, such as `movies` and `plot_summaries` dataframes. This will be done further down below."
   ]
  },
  {
   "cell_type": "markdown",
   "id": "18775f10-eb2c-4697-80a5-101ef92e4432",
   "metadata": {},
   "source": [
    "Fist intuitive plots to make are the number of movies released per year and the mean box office revenue per year. To do so, a new dataframe containing one row per year is created and contains the evolution of features we want to analyze."
   ]
  },
  {
   "cell_type": "code",
   "execution_count": 26,
   "id": "0bd5280f-ca55-4af7-8140-ce6cd0356fbb",
   "metadata": {},
   "outputs": [],
   "source": [
    "movies_datetime = movies.dropna() # removes missing values\n",
    "movies_datetime = movies_datetime.groupby((pd.to_datetime(movies_datetime['Release_date']).dt.to_period('Y'))).apply(lambda x: pd.Series({\n",
    "    'mean_runtime': x['Runtime'].mean(),\n",
    "    'mean_box_office_revenue': x['Box_office_revenue'].mean(),\n",
    "    'num_movies': len(x),\n",
    "}))"
   ]
  },
  {
   "cell_type": "code",
   "execution_count": 27,
   "id": "77ff0fc2",
   "metadata": {},
   "outputs": [
    {
     "data": {
      "text/html": [
       "<div>\n",
       "<style scoped>\n",
       "    .dataframe tbody tr th:only-of-type {\n",
       "        vertical-align: middle;\n",
       "    }\n",
       "\n",
       "    .dataframe tbody tr th {\n",
       "        vertical-align: top;\n",
       "    }\n",
       "\n",
       "    .dataframe thead th {\n",
       "        text-align: right;\n",
       "    }\n",
       "</style>\n",
       "<table border=\"1\" class=\"dataframe\">\n",
       "  <thead>\n",
       "    <tr style=\"text-align: right;\">\n",
       "      <th></th>\n",
       "      <th>mean_runtime</th>\n",
       "      <th>mean_box_office_revenue</th>\n",
       "      <th>num_movies</th>\n",
       "    </tr>\n",
       "    <tr>\n",
       "      <th>Release_date</th>\n",
       "      <th></th>\n",
       "      <th></th>\n",
       "      <th></th>\n",
       "    </tr>\n",
       "  </thead>\n",
       "  <tbody>\n",
       "    <tr>\n",
       "      <th>1914</th>\n",
       "      <td>74.0</td>\n",
       "      <td>2.447000e+05</td>\n",
       "      <td>1.0</td>\n",
       "    </tr>\n",
       "    <tr>\n",
       "      <th>1915</th>\n",
       "      <td>190.0</td>\n",
       "      <td>5.000000e+07</td>\n",
       "      <td>1.0</td>\n",
       "    </tr>\n",
       "    <tr>\n",
       "      <th>1920</th>\n",
       "      <td>147.0</td>\n",
       "      <td>4.500000e+06</td>\n",
       "      <td>1.0</td>\n",
       "    </tr>\n",
       "    <tr>\n",
       "      <th>1921</th>\n",
       "      <td>102.0</td>\n",
       "      <td>2.633333e+06</td>\n",
       "      <td>3.0</td>\n",
       "    </tr>\n",
       "    <tr>\n",
       "      <th>1923</th>\n",
       "      <td>84.5</td>\n",
       "      <td>3.834395e+06</td>\n",
       "      <td>2.0</td>\n",
       "    </tr>\n",
       "  </tbody>\n",
       "</table>\n",
       "</div>"
      ],
      "text/plain": [
       "              mean_runtime  mean_box_office_revenue  num_movies\n",
       "Release_date                                                   \n",
       "1914                  74.0             2.447000e+05         1.0\n",
       "1915                 190.0             5.000000e+07         1.0\n",
       "1920                 147.0             4.500000e+06         1.0\n",
       "1921                 102.0             2.633333e+06         3.0\n",
       "1923                  84.5             3.834395e+06         2.0"
      ]
     },
     "execution_count": 27,
     "metadata": {},
     "output_type": "execute_result"
    }
   ],
   "source": [
    "movies_datetime.head()"
   ]
  },
  {
   "cell_type": "code",
   "execution_count": 28,
   "id": "b42526aa-62ac-424b-bb20-d03e2ee0dab1",
   "metadata": {},
   "outputs": [
    {
     "data": {
      "text/plain": [
       "<AxesSubplot:>"
      ]
     },
     "execution_count": 28,
     "metadata": {},
     "output_type": "execute_result"
    },
    {
     "data": {
      "image/png": "[encoded data removed]",
      "text/plain": [
       "<Figure size 432x288 with 2 Axes>"
      ]
     },
     "metadata": {
      "needs_background": "light"
     },
     "output_type": "display_data"
    }
   ],
   "source": [
    "movies_datetime.num_movies.plot(grid=True, label=\"number of film\", legend=True)\n",
    "movies_datetime.mean_box_office_revenue.plot(secondary_y=True, label=\"mean box office revenue\", legend=True)"
   ]
  },
  {
   "cell_type": "code",
   "execution_count": 29,
   "id": "352b1870-510c-4070-bdbd-6f9745561678",
   "metadata": {},
   "outputs": [
    {
     "name": "stdout",
     "output_type": "stream",
     "text": [
      "Movie years of release span from 1914 to 2012.\n",
      "Our dataset has 0 year(s) where no films where released.\n"
     ]
    }
   ],
   "source": [
    "print(f'Movie years of release span from {movies_datetime.index.min()} to {movies_datetime.index.max()}.')\n",
    "print('Our dataset has', (movies_datetime.num_movies==0).sum(), 'year(s) where no films where released.')"
   ]
  },
  {
   "cell_type": "markdown",
   "id": "dc082e6c-aa79-46da-9144-9286add1e252",
   "metadata": {},
   "source": [
    "Since there is no year without a movie release, any distribution of a movie characteristic will be continuous over time and will therefore be possible to analyze. Moreover, there could be a correlation between the number of movies and the box office revenue. However, with this first plot, we cannot conclude anything yet."
   ]
  },
  {
   "cell_type": "code",
   "execution_count": 30,
   "id": "feb14468-1423-44db-a1c6-63fbafc75d3a",
   "metadata": {},
   "outputs": [
    {
     "data": {
      "text/plain": [
       "<AxesSubplot:>"
      ]
     },
     "execution_count": 30,
     "metadata": {},
     "output_type": "execute_result"
    },
    {
     "data": {
      "image/png": "[encoded data removed]",
      "text/plain": [
       "<Figure size 432x288 with 2 Axes>"
      ]
     },
     "metadata": {
      "needs_background": "light"
     },
     "output_type": "display_data"
    }
   ],
   "source": [
    "movies_datetime.num_movies.plot(grid=True, label=\"number of film\", legend=True)\n",
    "movies_datetime.mean_runtime.plot(secondary_y=True, label=\"mean runtime\", legend=True)"
   ]
  },
  {
   "cell_type": "code",
   "execution_count": 31,
   "id": "e7a86c21-924a-4bb9-817b-f49bfb7cfbac",
   "metadata": {},
   "outputs": [
    {
     "data": {
      "text/plain": [
       "107.08092609768109"
      ]
     },
     "execution_count": 31,
     "metadata": {},
     "output_type": "execute_result"
    }
   ],
   "source": [
    "np.mean(movies_datetime.mean_runtime)"
   ]
  },
  {
   "cell_type": "markdown",
   "id": "fea60fd7-5d97-46e1-9abf-85800a8eb07b",
   "metadata": {},
   "source": [
    "The movie runtimes fluctuate during the first 50 years of our dataframe but then stabilized around 100 minutes from 1970 onwards. However, this shows that we will have to pay attention to the 'weights' applied to the years. Indeed during first 50 years there is a lot of variability in the mean runtime but the fact that these years contain only a few movies makes it difficult to estimate a global tendency. These underrepresented years might need to be grouped together. In comparison, the fluctuations are much less important during the last 50 years but the movie sample sizes are larger for each year, thus by law of large numbers, the means will be closer to the expected value (the reasoning is valable if we assume that the expected mean runtime is the same for each year)."
   ]
  },
  {
   "cell_type": "markdown",
   "id": "55aac947-9d37-4bbc-9aed-b946fa77347f",
   "metadata": {},
   "source": [
    "*A voir si c'est utile d'ajouter les plots directement au movie dataset...*"
   ]
  },
  {
   "cell_type": "markdown",
   "id": "f942e9a4-6863-456f-929c-c4ca63872fcd",
   "metadata": {},
   "source": [
    "### Dataframe combinations"
   ]
  },
  {
   "cell_type": "code",
   "execution_count": 32,
   "id": "89197c17-26b2-44f8-919a-68a255a07aa3",
   "metadata": {},
   "outputs": [
    {
     "data": {
      "text/html": [
       "<div>\n",
       "<style scoped>\n",
       "    .dataframe tbody tr th:only-of-type {\n",
       "        vertical-align: middle;\n",
       "    }\n",
       "\n",
       "    .dataframe tbody tr th {\n",
       "        vertical-align: top;\n",
       "    }\n",
       "\n",
       "    .dataframe thead th {\n",
       "        text-align: right;\n",
       "    }\n",
       "</style>\n",
       "<table border=\"1\" class=\"dataframe\">\n",
       "  <thead>\n",
       "    <tr style=\"text-align: right;\">\n",
       "      <th></th>\n",
       "      <th>Wikipedia_movie_ID</th>\n",
       "      <th>Freebase_movie_ID</th>\n",
       "      <th>Name</th>\n",
       "      <th>Release_date</th>\n",
       "      <th>Box_office_revenue</th>\n",
       "      <th>Runtime</th>\n",
       "      <th>Languages</th>\n",
       "      <th>Countries</th>\n",
       "      <th>Genres</th>\n",
       "      <th>Summary</th>\n",
       "    </tr>\n",
       "  </thead>\n",
       "  <tbody>\n",
       "    <tr>\n",
       "      <th>0</th>\n",
       "      <td>975900</td>\n",
       "      <td>/m/03vyhn</td>\n",
       "      <td>Ghosts of Mars</td>\n",
       "      <td>2001-08-24</td>\n",
       "      <td>14010832.0</td>\n",
       "      <td>98.0</td>\n",
       "      <td>English Language</td>\n",
       "      <td>United States of America</td>\n",
       "      <td>[Thriller, Science Fiction, Horror, Adventure,...</td>\n",
       "      <td>Set in the second half of the 22nd century, th...</td>\n",
       "    </tr>\n",
       "  </tbody>\n",
       "</table>\n",
       "</div>"
      ],
      "text/plain": [
       "   Wikipedia_movie_ID Freebase_movie_ID            Name Release_date  \\\n",
       "0              975900         /m/03vyhn  Ghosts of Mars   2001-08-24   \n",
       "\n",
       "   Box_office_revenue  Runtime         Languages                 Countries  \\\n",
       "0          14010832.0     98.0  English Language  United States of America   \n",
       "\n",
       "                                              Genres  \\\n",
       "0  [Thriller, Science Fiction, Horror, Adventure,...   \n",
       "\n",
       "                                             Summary  \n",
       "0  Set in the second half of the 22nd century, th...  "
      ]
     },
     "execution_count": 32,
     "metadata": {},
     "output_type": "execute_result"
    }
   ],
   "source": [
    "movies_plot = movies.merge(plot_summaries, on=\"Wikipedia_movie_ID\")\n",
    "movies_plot.head(1)"
   ]
  },
  {
   "cell_type": "code",
   "execution_count": 33,
   "id": "7d1bbacd-7654-47e7-8923-3d473850dcc1",
   "metadata": {},
   "outputs": [],
   "source": [
    "merge_characters_type = pd.merge(characters, character_types, on='Freebase_character_actor_map_ID', suffixes=('', '_y'))\n"
   ]
  },
  {
   "cell_type": "code",
   "execution_count": 34,
   "id": "2ba479cd-e94f-4db8-9a65-c8d818481e2d",
   "metadata": {},
   "outputs": [],
   "source": [
    "merge_characters_type.drop(['char','actor'],axis=1, inplace=True)\n"
   ]
  },
  {
   "cell_type": "code",
   "execution_count": 35,
   "id": "3ea85677-0ab8-474f-a4a0-848013074b7f",
   "metadata": {},
   "outputs": [
    {
     "data": {
      "text/html": [
       "<div>\n",
       "<style scoped>\n",
       "    .dataframe tbody tr th:only-of-type {\n",
       "        vertical-align: middle;\n",
       "    }\n",
       "\n",
       "    .dataframe tbody tr th {\n",
       "        vertical-align: top;\n",
       "    }\n",
       "\n",
       "    .dataframe thead th {\n",
       "        text-align: right;\n",
       "    }\n",
       "</style>\n",
       "<table border=\"1\" class=\"dataframe\">\n",
       "  <thead>\n",
       "    <tr style=\"text-align: right;\">\n",
       "      <th></th>\n",
       "      <th>Wikipedia_movie_ID</th>\n",
       "      <th>Freebase_movie_ID</th>\n",
       "      <th>Movie_release_date</th>\n",
       "      <th>Character_name</th>\n",
       "      <th>Actor_birth</th>\n",
       "      <th>Actor_Gender</th>\n",
       "      <th>Actor Height</th>\n",
       "      <th>Actor_Ethnicity</th>\n",
       "      <th>Actor_Name</th>\n",
       "      <th>Age_at_movie_release</th>\n",
       "      <th>Freebase_character_actor_map_ID</th>\n",
       "      <th>Freebase_character_ID</th>\n",
       "      <th>Freebase_actor_ID</th>\n",
       "      <th>Type</th>\n",
       "      <th>movie</th>\n",
       "      <th>Languages</th>\n",
       "      <th>Countries</th>\n",
       "      <th>Genres</th>\n",
       "      <th>Box_office_revenue</th>\n",
       "      <th>Runtime</th>\n",
       "    </tr>\n",
       "  </thead>\n",
       "  <tbody>\n",
       "    <tr>\n",
       "      <th>0</th>\n",
       "      <td>196176</td>\n",
       "      <td>/m/01bwgr</td>\n",
       "      <td>1971-11-03</td>\n",
       "      <td>David Sumner</td>\n",
       "      <td>1937-08-08</td>\n",
       "      <td>M</td>\n",
       "      <td>1.66</td>\n",
       "      <td>Jewish people</td>\n",
       "      <td>Dustin Hoffman</td>\n",
       "      <td>34.0</td>\n",
       "      <td>/m/0k3v65</td>\n",
       "      <td>/m/0ch916z</td>\n",
       "      <td>/m/0bl2g</td>\n",
       "      <td>tranquil_fury</td>\n",
       "      <td>Straw Dogs</td>\n",
       "      <td>English Language</td>\n",
       "      <td>United States of America\", \"/m/07ssc\": \"United...</td>\n",
       "      <td>[Thriller, Drama]</td>\n",
       "      <td>11148828.0</td>\n",
       "      <td>118.0</td>\n",
       "    </tr>\n",
       "  </tbody>\n",
       "</table>\n",
       "</div>"
      ],
      "text/plain": [
       "   Wikipedia_movie_ID Freebase_movie_ID Movie_release_date Character_name  \\\n",
       "0              196176         /m/01bwgr         1971-11-03   David Sumner   \n",
       "\n",
       "  Actor_birth Actor_Gender  Actor Height Actor_Ethnicity      Actor_Name  \\\n",
       "0  1937-08-08            M          1.66   Jewish people  Dustin Hoffman   \n",
       "\n",
       "   Age_at_movie_release Freebase_character_actor_map_ID Freebase_character_ID  \\\n",
       "0                  34.0                       /m/0k3v65            /m/0ch916z   \n",
       "\n",
       "  Freebase_actor_ID           Type       movie         Languages  \\\n",
       "0          /m/0bl2g  tranquil_fury  Straw Dogs  English Language   \n",
       "\n",
       "                                           Countries             Genres  \\\n",
       "0  United States of America\", \"/m/07ssc\": \"United...  [Thriller, Drama]   \n",
       "\n",
       "   Box_office_revenue  Runtime  \n",
       "0          11148828.0    118.0  "
      ]
     },
     "execution_count": 35,
     "metadata": {},
     "output_type": "execute_result"
    }
   ],
   "source": [
    "merge_characters_type = pd.merge(merge_characters_type, movies[['Wikipedia_movie_ID', 'Languages', 'Countries', 'Genres', 'Box_office_revenue', 'Runtime']], on='Wikipedia_movie_ID', suffixes=('', '_y'))\n",
    "merge_characters_type.head(1)"
   ]
  },
  {
   "cell_type": "markdown",
   "id": "abe22a7f-670d-4e05-acd1-804324de78d3",
   "metadata": {},
   "source": [
    "# **STEP 1: Dictionnary definitions**"
   ]
  },
  {
   "cell_type": "markdown",
   "id": "b59bc14a-e4bc-4230-900e-ef84d1b16a1d",
   "metadata": {},
   "source": [
    "Trick: could add spaces in front of words that are ambiguous. Example below with SS: a lot of words contain the sequence ss, but space+ss is rare. We could even consider space+ss++space, but this would exclude some occurances due to punctuation."
   ]
  },
  {
   "cell_type": "markdown",
   "id": "5c05ec33-9d0e-46f8-b302-7848a8c5812c",
   "metadata": {},
   "source": [
    "### Worl War 1"
   ]
  },
  {
   "cell_type": "code",
   "execution_count": 36,
   "id": "35ecfd49-5875-41b4-ae5e-5c75f187d24c",
   "metadata": {},
   "outputs": [],
   "source": [
    "WW1 =  ['WW1', 'World War 1', '1914', '1918', 'Allies', 'armistice', 'Central Powers', 'conscription', 'front line', 'Joffre', 'Kaiser', 'Marne',\n",
    "        'mustard gas', 'no man’s land', 'Pétain', 'u boats', 'Somme', 'Tommy', 'Treaty of Versailles', 'trench', 'Verdun', 'Western front', \n",
    "        'zeppelin', 'artillery', 'doughboy', 'duckboards', 'dreadnought', 'mobilize', 'Prussia', 'Schlieffen plan', 'Tsar', 'Archduke Ferdinand',\n",
    "        'Red Baron', 'big four', 'Christmas truce', 'Wilson', 'Lusitania', 'Battalion', 'triple entente', 'Great War', 'flamethrower', 'mills bomb',\n",
    "        'storm troop', 'ace', 'recco', 'tailspin', 'boche', 'wipers', 'kiwi', 'Sammy', 'Aussie', 'cootie', 'Flanders', 'mud', 'war effort', \n",
    "        'League of Nations']\n",
    "WW1 = [x.lower() for x in WW1]"
   ]
  },
  {
   "cell_type": "markdown",
   "id": "25f9f120-92a5-400e-bcd6-b8d9f59216ab",
   "metadata": {},
   "source": [
    "### World War 2"
   ]
  },
  {
   "cell_type": "code",
   "execution_count": 37,
   "id": "9489f511-02e8-4d62-88e7-8e6592ff787c",
   "metadata": {},
   "outputs": [],
   "source": [
    "WW2 =  ['Allies','Auschwitz','Bombardment', 'battleship', 'Bailey bridge', 'Blitzkrieg','Churchill','D-Day',' ss'\n",
    "        'Dunkirk', 'Doolittle', 'de Gaulle','English Channel', 'Eisenhower','Enigma','flying tigers', 'free french',\n",
    "        'nazi','helmet','Hiroshima','Invasion','Luftwaffe','Manhattan Project', 'Midway','Pearl harbor','Normandy', 'Nagasaki',\n",
    "        'Panzer','Roosevelt', 'Rangers','Resistance','Truman', 'Stalin', 'tank','Victory', 'V-1 rocket','doodlebugs',\n",
    "        'World War II','ww2','Hitler','air raid','shelter','siren','Battle of Britain','evacuee','evacuation','gas mask',\n",
    "        'spitfire', '1939', '1945']\n",
    "WW2 = [x.lower() for x in WW2]"
   ]
  },
  {
   "cell_type": "markdown",
   "id": "ef538fe2-b74e-4fc6-8473-bfae8da7ad50",
   "metadata": {},
   "source": [
    "### Space race"
   ]
  },
  {
   "cell_type": "code",
   "execution_count": 38,
   "id": "0c63dfb2-ac34-4704-9d63-cda86aa2313d",
   "metadata": {},
   "outputs": [],
   "source": [
    "Space = ['aeronautics','Alan Shepard','Apollo','Cape Canaveral','capitalism','Cold War','Communism','Gemini','heat shields', \n",
    "         'Houston','John Glenn','Laika','launch','Lunar Module','Mercury','Michael Collins','Mission Control','NASA','neil Armstrong',\n",
    "         'orbit','planet','rocket','satellite','Scott Carpenter','Sergei Korolev','solar system','space','space exploration','Space Race',\n",
    "         'Sputnik','superpowers','test pilot',' USA',' URSS','Yuri Gagarin']\n",
    "Space = [x.lower() for x in Space]"
   ]
  },
  {
   "cell_type": "markdown",
   "id": "2840d63f-640c-49b2-b5d4-59ffcad06a92",
   "metadata": {},
   "source": [
    "### Metric"
   ]
  },
  {
   "cell_type": "markdown",
   "id": "3f32eeda-c87f-462e-afed-2164098410ee",
   "metadata": {},
   "source": [
    "If we do number of words, it could depend too much on the length of the plot summary or the length and quality of the dictionnary. Thus, a min-max scaling or standardization could be usefull afterward in the feature space. "
   ]
  },
  {
   "cell_type": "markdown",
   "id": "fe05d67d-aef4-4dbc-aa01-446562e9ad86",
   "metadata": {},
   "source": [
    "## ?on pourrait définir un % du numbre de mot?"
   ]
  },
  {
   "cell_type": "markdown",
   "id": "c9e08179-f87b-47a4-9d09-1b1d5ecb50c5",
   "metadata": {},
   "source": [
    "# **STEP 2: Apply dictionnaries to plot summaries to create new features**"
   ]
  },
  {
   "cell_type": "markdown",
   "id": "722c4d16-f253-4a6e-afbd-4cad1e062f01",
   "metadata": {},
   "source": [
    "For consistency, we will apply a lower case every plot summary:"
   ]
  },
  {
   "cell_type": "code",
   "execution_count": 39,
   "id": "24ef2620-c889-4011-b28e-c850bbfdef19",
   "metadata": {},
   "outputs": [],
   "source": [
    "summaries = movies_plot.Summary.apply(lambda h: h.lower())"
   ]
  },
  {
   "cell_type": "markdown",
   "id": "007c1756-80b5-467c-aea9-90bbba331fb8",
   "metadata": {},
   "source": [
    "We can create a first feature containing the count of the number of times a word from a given dictionnary appears in a plot summary. This function creates a new column in the movies_plot DF."
   ]
  },
  {
   "cell_type": "code",
   "execution_count": 42,
   "id": "df4f0103-410d-437d-9e82-9245be25d8a8",
   "metadata": {},
   "outputs": [],
   "source": [
    "def count_dict(name, dictionnary):\n",
    "    movies_plot[name] = summaries.apply(lambda summary: np.sum([summary.count(word) for word in dictionnary]))\n",
    "                                          "
   ]
  },
  {
   "cell_type": "code",
   "execution_count": 45,
   "id": "f3c4bca3-afd6-47f0-8ac5-95ef9604f085",
   "metadata": {},
   "outputs": [],
   "source": [
    "count_dict('WW1', WW1)\n",
    "count_dict('WW2', WW2)\n",
    "count_dict('SpaceRace', Space)"
   ]
  },
  {
   "cell_type": "code",
   "execution_count": 43,
   "id": "c5fd16db-e9d5-4f1f-9b66-f74921033bc9",
   "metadata": {},
   "outputs": [
    {
     "data": {
      "text/plain": [
       "62"
      ]
     },
     "execution_count": 43,
     "metadata": {},
     "output_type": "execute_result"
    }
   ],
   "source": [
    "len(movies_plot[movies_plot.WW2 > 10])"
   ]
  },
  {
   "cell_type": "code",
   "execution_count": 49,
   "id": "ee73a7d7-fd48-4063-9e6e-889be28a42ec",
   "metadata": {},
   "outputs": [
    {
     "data": {
      "text/html": [
       "<div>\n",
       "<style scoped>\n",
       "    .dataframe tbody tr th:only-of-type {\n",
       "        vertical-align: middle;\n",
       "    }\n",
       "\n",
       "    .dataframe tbody tr th {\n",
       "        vertical-align: top;\n",
       "    }\n",
       "\n",
       "    .dataframe thead th {\n",
       "        text-align: right;\n",
       "    }\n",
       "</style>\n",
       "<table border=\"1\" class=\"dataframe\">\n",
       "  <thead>\n",
       "    <tr style=\"text-align: right;\">\n",
       "      <th></th>\n",
       "      <th>Wikipedia_movie_ID</th>\n",
       "      <th>Freebase_movie_ID</th>\n",
       "      <th>Name</th>\n",
       "      <th>Release_date</th>\n",
       "      <th>Box_office_revenue</th>\n",
       "      <th>Runtime</th>\n",
       "      <th>Languages</th>\n",
       "      <th>Countries</th>\n",
       "      <th>Genres</th>\n",
       "      <th>Summary</th>\n",
       "      <th>WW1</th>\n",
       "      <th>WW2</th>\n",
       "      <th>SpaceRace</th>\n",
       "    </tr>\n",
       "  </thead>\n",
       "  <tbody>\n",
       "    <tr>\n",
       "      <th>0</th>\n",
       "      <td>975900</td>\n",
       "      <td>/m/03vyhn</td>\n",
       "      <td>Ghosts of Mars</td>\n",
       "      <td>2001-08-24</td>\n",
       "      <td>14010832.0</td>\n",
       "      <td>98.0</td>\n",
       "      <td>English Language</td>\n",
       "      <td>United States of America</td>\n",
       "      <td>[Thriller, Science Fiction, Horror, Adventure,...</td>\n",
       "      <td>Set in the second half of the 22nd century, th...</td>\n",
       "      <td>1</td>\n",
       "      <td>0</td>\n",
       "      <td>1</td>\n",
       "    </tr>\n",
       "  </tbody>\n",
       "</table>\n",
       "</div>"
      ],
      "text/plain": [
       "   Wikipedia_movie_ID Freebase_movie_ID            Name Release_date  \\\n",
       "0              975900         /m/03vyhn  Ghosts of Mars   2001-08-24   \n",
       "\n",
       "   Box_office_revenue  Runtime         Languages                 Countries  \\\n",
       "0          14010832.0     98.0  English Language  United States of America   \n",
       "\n",
       "                                              Genres  \\\n",
       "0  [Thriller, Science Fiction, Horror, Adventure,...   \n",
       "\n",
       "                                             Summary  WW1  WW2  SpaceRace  \n",
       "0  Set in the second half of the 22nd century, th...    1    0          1  "
      ]
     },
     "execution_count": 49,
     "metadata": {},
     "output_type": "execute_result"
    }
   ],
   "source": [
    "movies_plot.head(1)"
   ]
  },
  {
   "cell_type": "markdown",
   "id": "a2237372-45a4-43ee-883f-40924fe00f84",
   "metadata": {},
   "source": [
    "# **STEP 2: Analysis**"
   ]
  },
  {
   "cell_type": "code",
   "execution_count": 50,
   "id": "e040c4a4-0226-4f38-a037-9a4bfe191016",
   "metadata": {},
   "outputs": [],
   "source": [
    "#temporary thresholds:\n",
    "ww1T = 5\n",
    "ww2T = 5\n",
    "SpaceT = 5"
   ]
  },
  {
   "cell_type": "markdown",
   "id": "364750b0-ac36-4e5d-a3aa-c0152b85f319",
   "metadata": {},
   "source": [
    "## w.r.t time"
   ]
  },
  {
   "cell_type": "code",
   "execution_count": 52,
   "id": "db549afa-5f1f-486a-8749-f78815e3f415",
   "metadata": {},
   "outputs": [],
   "source": [
    "def time_analysis(name,thr,freq = '5y'):\n",
    "    analysis = movies_plot[movies_plot[name] > thr].copy()\n",
    "    \n",
    "    analysis = analysis.groupby(pd.to_datetime(analysis['Release_date']).dt.to_period(freq = freq)).apply(lambda x:\n",
    "    #All kind of analysis:\n",
    "        pd.Series({\n",
    "            'number': x[name].count(),\n",
    "            'mean_revenue' : x['Box_office_revenue'].mean(),\n",
    "            'mean_runtime' : x['Runtime'].mean(),\n",
    "        })\n",
    "    )\n",
    "    return analysis\n",
    "\n",
    "#See how to plot better\n",
    "def plot_time_analysis(time_analysis,name):\n",
    "    time = time_analysis.index.to_timestamp()\n",
    "    for analysis in time_analysis.columns:\n",
    "        #plt.plot(time,reg.predict(x),'k-',label = f'{round(reg.coef_[0],4)} year + {round(reg.intercept_,2)}')\n",
    "        plt.plot(time,time_analysis[analysis],'.',label = analysis)\n",
    "        plt.legend()\n",
    "        plt.xlabel('time [year]')\n",
    "        plt.title(analysis+' for '+name)\n",
    "        plt.show()\n",
    "    "
   ]
  },
  {
   "cell_type": "markdown",
   "id": "0130ac9b-c308-47c7-843c-552e48c6c2a8",
   "metadata": {},
   "source": [
    "je sais pas si c'est plus parlant comme graph?"
   ]
  },
  {
   "cell_type": "code",
   "execution_count": 53,
   "id": "b26e6706-4b65-4c41-b86a-e2107e3ef23b",
   "metadata": {},
   "outputs": [
    {
     "data": {
      "image/png": "[encoded data removed]",
      "text/plain": [
       "<Figure size 432x288 with 1 Axes>"
      ]
     },
     "metadata": {
      "needs_background": "light"
     },
     "output_type": "display_data"
    },
    {
     "data": {
      "image/png": "[encoded data removed]",
      "text/plain": [
       "<Figure size 432x288 with 1 Axes>"
      ]
     },
     "metadata": {
      "needs_background": "light"
     },
     "output_type": "display_data"
    },
    {
     "data": {
      "image/png": "[encoded data removed]",
      "text/plain": [
       "<Figure size 432x288 with 1 Axes>"
      ]
     },
     "metadata": {
      "needs_background": "light"
     },
     "output_type": "display_data"
    }
   ],
   "source": [
    "WW2_analysis = time_analysis('WW2',ww2T)\n",
    "plot_time_analysis(WW2_analysis,'WW2')"
   ]
  },
  {
   "cell_type": "code",
   "execution_count": 60,
   "id": "71bd1bf6-d572-4baa-921f-aa3db63bc4d4",
   "metadata": {},
   "outputs": [
    {
     "name": "stdout",
     "output_type": "stream",
     "text": [
      "On average, the box office revenue is:  86553511.61296296 and the runtime is :  114.90231292517005\n"
     ]
    }
   ],
   "source": [
    "print('On average, the box office revenue is: ', WW2_analysis.mean_revenue.mean(), 'and the runtime is : ', WW2_analysis.mean_runtime.mean())"
   ]
  },
  {
   "cell_type": "code",
   "execution_count": 55,
   "id": "0dcc5180-1998-41a4-adee-0d50432d0817",
   "metadata": {},
   "outputs": [
    {
     "data": {
      "image/png": "[encoded data removed]",
      "text/plain": [
       "<Figure size 432x288 with 1 Axes>"
      ]
     },
     "metadata": {
      "needs_background": "light"
     },
     "output_type": "display_data"
    },
    {
     "data": {
      "image/png": "[encoded data removed]",
      "text/plain": [
       "<Figure size 432x288 with 1 Axes>"
      ]
     },
     "metadata": {
      "needs_background": "light"
     },
     "output_type": "display_data"
    },
    {
     "data": {
      "image/png": "[encoded data removed]",
      "text/plain": [
       "<Figure size 432x288 with 1 Axes>"
      ]
     },
     "metadata": {
      "needs_background": "light"
     },
     "output_type": "display_data"
    }
   ],
   "source": [
    "Space_analysis = time_analysis('SpaceRace',SpaceT)\n",
    "plot_time_analysis(Space_analysis,'SpaceRace')"
   ]
  },
  {
   "cell_type": "markdown",
   "id": "26e9f3d8-bbc3-41cd-98a2-5c9f350b9feb",
   "metadata": {},
   "source": [
    "### Observe distribution and Linear Regression"
   ]
  },
  {
   "cell_type": "code",
   "execution_count": 61,
   "id": "f242e28a-b55b-4bce-9a92-f74f67a52950",
   "metadata": {},
   "outputs": [],
   "source": [
    "def plot_distr(name,thr,xname,yname,glm=LinearRegression(),logy=False,axis=plt):\n",
    "    \"\"\"        \n",
    "    Parameters\n",
    "    ----------\n",
    "    name : name of the historical event\n",
    "    thr : threshold for accepting the movie as portraying the event\n",
    "    xname : name of the column we want on x axis\n",
    "    yname : name of the column we want on y axis\n",
    "    glm : glm method to use (https://scikit-learn.org/0.15/modules/linear_model.html)\n",
    "    logy : True if we want the y axis in log scale\n",
    "    axis : axis to plot on, default : plt for single figure\n",
    "        \n",
    "    Returns\n",
    "    -------\n",
    "    Plots the two features selcted relative to each other and their linear regression.\n",
    "    \"\"\"\n",
    "\n",
    "    time_dist = movies_plot[movies_plot[name] > thr]\n",
    "    if xname=='Release_date' or yname=='Release_date' :\n",
    "        pd.options.mode.chained_assignment = None  # default='warn' # get rid of warnings\n",
    "        time_dist['Release_date'] = pd.to_datetime(time_dist['Release_date']).dt.year\n",
    "        pd.options.mode.chained_assignment = 'warn'  # default='warn' # put warnings back\n",
    "    time_dist = time_dist.dropna()\n",
    "    Y = time_dist[yname]\n",
    "    if logy : \n",
    "        Y = Y.apply(lambda x : np.log(x))\n",
    "        yname = 'log '+ yname\n",
    "    X = np.array(time_dist[xname]).reshape(-1, 1)\n",
    "    \n",
    "    axis.plot(time_dist[xname],Y,'.',label = f'{name} movie')\n",
    "    \n",
    "    \n",
    "    reg = glm.fit(X,Y)\n",
    "    t = np.array(np.linspace(time_dist[xname].min(),time_dist[xname].max(),1000)).reshape(-1,1)\n",
    "    axis.plot(t,reg.predict(t),'-',label = str(glm))\n",
    "    \n",
    "    if axis == plt : #use Axes syntax\n",
    "        axis.legend()\n",
    "        axis.xlabel(xname)\n",
    "        axis.ylabel(yname)\n",
    "        axis.title(f'{yname} distribution for {name} event')\n",
    "    else : #use Axes.subplots syntax\n",
    "        axis.legend()\n",
    "        axis.set_xlabel(xname)\n",
    "        axis.set_ylabel(yname)\n",
    "        axis.set_title(f'{yname} distribution for {name} event')\n",
    "\n",
    "    return "
   ]
  },
  {
   "cell_type": "code",
   "execution_count": 57,
   "id": "200f813a",
   "metadata": {},
   "outputs": [
    {
     "data": {
      "image/png": "[encoded data removed]",
      "text/plain": [
       "<Figure size 432x288 with 1 Axes>"
      ]
     },
     "metadata": {
      "needs_background": "light"
     },
     "output_type": "display_data"
    }
   ],
   "source": [
    "plot_distr('WW2',ww2T,'Release_date','Box_office_revenue')"
   ]
  },
  {
   "cell_type": "code",
   "execution_count": 58,
   "id": "5cbdeefb",
   "metadata": {
    "scrolled": true
   },
   "outputs": [
    {
     "data": {
      "image/png": "[encoded data removed]",
      "text/plain": [
       "<Figure size 432x288 with 2 Axes>"
      ]
     },
     "metadata": {
      "needs_background": "light"
     },
     "output_type": "display_data"
    }
   ],
   "source": [
    "fig, ax = plt.subplots(2)\n",
    "plot_distr('WW2',ww2T,'Release_date','Box_office_revenue',axis=ax[0])\n",
    "plot_distr('WW2',ww2T,'Release_date','Box_office_revenue',logy=True,axis=ax[1])\n",
    "plt.tight_layout()\n",
    "plt.show()"
   ]
  },
  {
   "cell_type": "markdown",
   "id": "6ede03a2-fe02-4b5b-9cb6-9f4722a72dc4",
   "metadata": {
    "tags": []
   },
   "source": [
    "## Movie Genres analysis"
   ]
  },
  {
   "cell_type": "code",
   "execution_count": 62,
   "id": "391e5bf9-a7d5-403d-9230-862596b2059a",
   "metadata": {},
   "outputs": [
    {
     "data": {
      "text/html": [
       "<div>\n",
       "<style scoped>\n",
       "    .dataframe tbody tr th:only-of-type {\n",
       "        vertical-align: middle;\n",
       "    }\n",
       "\n",
       "    .dataframe tbody tr th {\n",
       "        vertical-align: top;\n",
       "    }\n",
       "\n",
       "    .dataframe thead th {\n",
       "        text-align: right;\n",
       "    }\n",
       "</style>\n",
       "<table border=\"1\" class=\"dataframe\">\n",
       "  <thead>\n",
       "    <tr style=\"text-align: right;\">\n",
       "      <th></th>\n",
       "      <th>Wikipedia_movie_ID</th>\n",
       "      <th>Freebase_movie_ID</th>\n",
       "      <th>Name</th>\n",
       "      <th>Release_date</th>\n",
       "      <th>Box_office_revenue</th>\n",
       "      <th>Runtime</th>\n",
       "      <th>Languages</th>\n",
       "      <th>Countries</th>\n",
       "      <th>Genres</th>\n",
       "      <th>Summary</th>\n",
       "      <th>WW1</th>\n",
       "      <th>WW2</th>\n",
       "      <th>SpaceRace</th>\n",
       "    </tr>\n",
       "  </thead>\n",
       "  <tbody>\n",
       "    <tr>\n",
       "      <th>0</th>\n",
       "      <td>975900</td>\n",
       "      <td>/m/03vyhn</td>\n",
       "      <td>Ghosts of Mars</td>\n",
       "      <td>2001-08-24</td>\n",
       "      <td>14010832.0</td>\n",
       "      <td>98.0</td>\n",
       "      <td>English Language</td>\n",
       "      <td>United States of America</td>\n",
       "      <td>thriller, science fiction, horror, adventure, ...</td>\n",
       "      <td>Set in the second half of the 22nd century, th...</td>\n",
       "      <td>1</td>\n",
       "      <td>0</td>\n",
       "      <td>1</td>\n",
       "    </tr>\n",
       "  </tbody>\n",
       "</table>\n",
       "</div>"
      ],
      "text/plain": [
       "   Wikipedia_movie_ID Freebase_movie_ID            Name Release_date  \\\n",
       "0              975900         /m/03vyhn  Ghosts of Mars   2001-08-24   \n",
       "\n",
       "   Box_office_revenue  Runtime         Languages                 Countries  \\\n",
       "0          14010832.0     98.0  English Language  United States of America   \n",
       "\n",
       "                                              Genres  \\\n",
       "0  thriller, science fiction, horror, adventure, ...   \n",
       "\n",
       "                                             Summary  WW1  WW2  SpaceRace  \n",
       "0  Set in the second half of the 22nd century, th...    1    0          1  "
      ]
     },
     "execution_count": 62,
     "metadata": {},
     "output_type": "execute_result"
    }
   ],
   "source": [
    "movies_plot['Genres'] = movies_plot['Genres'].apply(lambda x: ', '.join(map(str, x)))\n",
    "movies_plot.Genres = movies_plot.Genres.apply(lambda h: h.lower())\n",
    "movies_plot.head(1)"
   ]
  },
  {
   "cell_type": "code",
   "execution_count": 64,
   "id": "40e8faf7-7b4b-4d9e-aa6c-5210b3df3b45",
   "metadata": {},
   "outputs": [],
   "source": [
    "genre_list = []\n",
    "for genres in movies_plot['Genres']: # genres is a string of genres\n",
    "    for genre in genres.split(', '): # genre is a single genre\n",
    "        if genre not in genre_list:\n",
    "            genre_list.append(genre) # add genre to the list of genres"
   ]
  },
  {
   "cell_type": "code",
   "execution_count": 65,
   "id": "2c37415d-f383-4b7f-ba4d-db3fb6ff3629",
   "metadata": {},
   "outputs": [
    {
     "data": {
      "text/plain": [
       "364"
      ]
     },
     "execution_count": 65,
     "metadata": {},
     "output_type": "execute_result"
    }
   ],
   "source": [
    "len(genre_list)"
   ]
  },
  {
   "cell_type": "code",
   "execution_count": 66,
   "id": "b89e0966-3850-4edd-9266-ef44a8bcc21d",
   "metadata": {},
   "outputs": [
    {
     "data": {
      "text/plain": [
       "['thriller',\n",
       " 'science fiction',\n",
       " 'horror',\n",
       " 'adventure',\n",
       " 'supernatural',\n",
       " 'action',\n",
       " 'space western',\n",
       " 'erotic thriller',\n",
       " 'psychological thriller',\n",
       " 'drama',\n",
       " 'family film',\n",
       " 'fantasy',\n",
       " 'world cinema',\n",
       " 'romantic comedy',\n",
       " 'ensemble film',\n",
       " 'comedy-drama',\n",
       " 'comedy',\n",
       " 'romantic drama',\n",
       " 'romance film',\n",
       " 'costume drama',\n",
       " 'war film',\n",
       " 'epic',\n",
       " 'period piece',\n",
       " 'film adaptation',\n",
       " 'animation',\n",
       " 'short film',\n",
       " \"children's/family\",\n",
       " 'musical',\n",
       " \"children's fantasy\",\n",
       " '',\n",
       " 'indie',\n",
       " 'crime fiction',\n",
       " 'coming of age',\n",
       " 'bollywood',\n",
       " 'fan film',\n",
       " 'black comedy',\n",
       " 'action/adventure',\n",
       " 'cult',\n",
       " 'adventure comedy',\n",
       " 'slapstick',\n",
       " 'sports',\n",
       " 'family drama',\n",
       " 'biographical film',\n",
       " 'historical fiction',\n",
       " 'black-and-white',\n",
       " 'biopic [feature]',\n",
       " 'culture & society',\n",
       " 'biography',\n",
       " 'documentary',\n",
       " 'christmas movie',\n",
       " 'television movie',\n",
       " 'action comedy',\n",
       " 'blaxploitation',\n",
       " 'martial arts film',\n",
       " 'erotica',\n",
       " 'sci-fi horror',\n",
       " 'satire',\n",
       " 'western',\n",
       " 'softcore porn',\n",
       " 'sexploitation',\n",
       " 'mystery',\n",
       " 'crime thriller',\n",
       " 'action thrillers',\n",
       " 'suspense',\n",
       " 'musical drama',\n",
       " 'erotic drama',\n",
       " 'japanese movies',\n",
       " 'pornographic movie',\n",
       " 'comedy film',\n",
       " 'slasher',\n",
       " 'film noir',\n",
       " 'legal drama',\n",
       " 'courtroom drama',\n",
       " 'new hollywood',\n",
       " 'experimental film',\n",
       " 'surrealism',\n",
       " 'tragicomedy',\n",
       " 'avant-garde',\n",
       " 'crime comedy',\n",
       " 'gangster film',\n",
       " 'fantasy comedy',\n",
       " 'monster movie',\n",
       " 'natural horror films',\n",
       " 'b-movie',\n",
       " 'creature film',\n",
       " 'music',\n",
       " 'comedy of errors',\n",
       " 'melodrama',\n",
       " 'americana',\n",
       " 'detective fiction',\n",
       " 'detective',\n",
       " 'horror comedy',\n",
       " 'anime',\n",
       " 'childhood drama',\n",
       " 'docudrama',\n",
       " 'lgbt',\n",
       " 'teen',\n",
       " 'gothic film',\n",
       " 'disaster',\n",
       " 'domestic comedy',\n",
       " 'escape film',\n",
       " 'prison',\n",
       " 'superhero movie',\n",
       " 'filipino movies',\n",
       " 'filipino',\n",
       " 'spy',\n",
       " 'combat films',\n",
       " 'wuxia',\n",
       " 'fantasy adventure',\n",
       " 'chinese movies',\n",
       " 'parody',\n",
       " 'comedy horror',\n",
       " 'c-movie',\n",
       " 'dystopia',\n",
       " 'buddy film',\n",
       " 'tragedy',\n",
       " 'time travel',\n",
       " 'sword and sorcery',\n",
       " 'silent film',\n",
       " 'political cinema',\n",
       " 'political satire',\n",
       " 'gross-out film',\n",
       " 'gross out',\n",
       " 'historical drama',\n",
       " 'marriage drama',\n",
       " 'crime drama',\n",
       " 'historical epic',\n",
       " 'screwball comedy',\n",
       " 'zombie film',\n",
       " 'gay',\n",
       " 'gay interest',\n",
       " 'gay themed',\n",
       " 'history',\n",
       " 'political drama',\n",
       " 'art film',\n",
       " 'medical fiction',\n",
       " 'costume adventure',\n",
       " 'feminist film',\n",
       " 'educational',\n",
       " 'film à clef',\n",
       " 'costume horror',\n",
       " 'juvenile delinquency film',\n",
       " 'natural disaster',\n",
       " 'linguistics',\n",
       " 'language & literature',\n",
       " 'pre-code',\n",
       " 'comedy of manners',\n",
       " 'musical comedy',\n",
       " \"children's\",\n",
       " 'family-oriented adventure',\n",
       " 'remake',\n",
       " 'media satire',\n",
       " 'computer animation',\n",
       " 'spaghetti western',\n",
       " 'dogme 95',\n",
       " 'political thriller',\n",
       " 'hybrid western',\n",
       " 'stop motion',\n",
       " 'mockumentary',\n",
       " 'roadshow theatrical release',\n",
       " 'sex comedy',\n",
       " 'tollywood',\n",
       " 'women in prison films',\n",
       " 'holiday film',\n",
       " 'heavenly comedy',\n",
       " 'road movie',\n",
       " 'giallo',\n",
       " 'existentialism',\n",
       " 'social problem film',\n",
       " 'propaganda film',\n",
       " 'auto racing',\n",
       " 'slice of life story',\n",
       " 'kitchen sink realism',\n",
       " 'british new wave',\n",
       " 'heist',\n",
       " 'gulf war',\n",
       " 'archaeology',\n",
       " 'romantic fantasy',\n",
       " 'religious film',\n",
       " 'biker film',\n",
       " 'animal picture',\n",
       " 'absurdism',\n",
       " 'swashbuckler films',\n",
       " 'hagiography',\n",
       " 'dance',\n",
       " 'hardcore pornography',\n",
       " 'adult',\n",
       " 'animated musical',\n",
       " 'anti-war',\n",
       " 'anti-war film',\n",
       " 'cavalry film',\n",
       " 'space opera',\n",
       " 'czechoslovak new wave',\n",
       " 'malayalam cinema',\n",
       " 'doomsday film',\n",
       " 'animals',\n",
       " 'addiction drama',\n",
       " 'comedy western',\n",
       " 'chase movie',\n",
       " 'tokusatsu',\n",
       " 'pornography',\n",
       " 'gay pornography',\n",
       " 'superhero',\n",
       " 'christian film',\n",
       " 'apocalyptic and post-apocalyptic fiction',\n",
       " 'whodunit',\n",
       " 'future noir',\n",
       " 'airplanes and airports',\n",
       " 'social issues',\n",
       " 'law & crime',\n",
       " 'alien film',\n",
       " 'animated cartoon',\n",
       " 'revisionist western',\n",
       " 'jungle film',\n",
       " 'comedy thriller',\n",
       " 'tamil cinema',\n",
       " 'libraries and librarians',\n",
       " 'workplace comedy',\n",
       " 'caper story',\n",
       " 'demonic child',\n",
       " 'inspirational drama',\n",
       " 'glamorized spy film',\n",
       " 'interpersonal relationships',\n",
       " 'illnesses & disabilities',\n",
       " 'british empire film',\n",
       " 'monster',\n",
       " 'samurai cinema',\n",
       " 'sword and sorcery films',\n",
       " 'b-western',\n",
       " 'concert film',\n",
       " 'humour',\n",
       " 'haunted house film',\n",
       " 'roadshow/carny',\n",
       " 'exploitation',\n",
       " 'mumblecore',\n",
       " \"children's entertainment\",\n",
       " 'splatter film',\n",
       " 'epic western',\n",
       " 'star vehicle',\n",
       " 'sword and sandal',\n",
       " 'mythological fantasy',\n",
       " 'camp',\n",
       " 'hip hop movies',\n",
       " 'latino',\n",
       " 'sci-fi adventure',\n",
       " 'boxing',\n",
       " 'gender issues',\n",
       " 'revenge',\n",
       " 'foreign legion',\n",
       " 'historical documentaries',\n",
       " 'heaven-can-wait fantasies',\n",
       " 'stoner film',\n",
       " 'rockumentary',\n",
       " 'conspiracy fiction',\n",
       " 'fairy tale',\n",
       " 'sponsored film',\n",
       " 'crime',\n",
       " 'master criminal films',\n",
       " 'jukebox musical',\n",
       " 'stand-up comedy',\n",
       " 'indian western',\n",
       " 'mondo film',\n",
       " 'road-horror',\n",
       " 'werewolf fiction',\n",
       " 'neo-noir',\n",
       " 'private military company',\n",
       " 'backstage musical',\n",
       " 'movies about gladiators',\n",
       " 'horse racing',\n",
       " 'nuclear warfare',\n",
       " 'essay film',\n",
       " 'instrumental music',\n",
       " 'media studies',\n",
       " 'psycho-biddy',\n",
       " 'business',\n",
       " 'feature film',\n",
       " 'movie serial',\n",
       " 'outlaw biker film',\n",
       " 'prison escape',\n",
       " 'z movie',\n",
       " 'news',\n",
       " 'beach film',\n",
       " 'computers',\n",
       " 'live action',\n",
       " 'fictional film',\n",
       " 'education',\n",
       " 'period horror',\n",
       " 'comdedy',\n",
       " 'punk rock',\n",
       " 'science fiction western',\n",
       " 'bloopers & candid camera',\n",
       " 'graphic & applied arts',\n",
       " 'pinku eiga',\n",
       " 'psychological horror',\n",
       " 'albino bias',\n",
       " 'family & personal relationships',\n",
       " 'travel',\n",
       " 'steampunk',\n",
       " 'baseball',\n",
       " 'buddy cop',\n",
       " 'filmed play',\n",
       " 'plague',\n",
       " 'fantasy drama',\n",
       " 'sci-fi thriller',\n",
       " 'courtroom comedy',\n",
       " 'operetta',\n",
       " 'prison film',\n",
       " 'parkour in popular culture',\n",
       " 'extreme sports',\n",
       " 'early black cinema',\n",
       " 'cyberpunk',\n",
       " 'coming-of-age film',\n",
       " 'cold war',\n",
       " 'political documetary',\n",
       " 'inventions & innovations',\n",
       " 'bruceploitation',\n",
       " 'bengali cinema',\n",
       " \"children's issues\",\n",
       " 'ealing comedies',\n",
       " 'anthropology',\n",
       " 'silhouette animation',\n",
       " 'film & television history',\n",
       " 'film',\n",
       " 'female buddy film',\n",
       " 'race movie',\n",
       " 'breakdance',\n",
       " 'acid western',\n",
       " 'war effort',\n",
       " 'reboot',\n",
       " 'school story',\n",
       " 'nature',\n",
       " 'clay animation',\n",
       " 'health & fitness',\n",
       " 'environmental science',\n",
       " 'supermarionation',\n",
       " 'sci fi pictures original films',\n",
       " 'outlaw',\n",
       " 'kafkaesque',\n",
       " 'vampire movies',\n",
       " 'northern',\n",
       " 'archives and records',\n",
       " 'world history',\n",
       " 'goat gland',\n",
       " 'therimin music',\n",
       " 'beach party film',\n",
       " 'point of view shot',\n",
       " 'romantic thriller',\n",
       " 'patriotic film',\n",
       " 'film-opera',\n",
       " 'anthology',\n",
       " 'chick flick',\n",
       " 'ninja movie',\n",
       " 'alien invasion',\n",
       " 'singing cowboy',\n",
       " 'buddy picture',\n",
       " 'journalism',\n",
       " 'statutory rape',\n",
       " 'expressionism',\n",
       " 'finance & investing',\n",
       " 'new queer cinema',\n",
       " 'neorealism',\n",
       " 'the netherlands in world war ii',\n",
       " 'revisionist fairy tale',\n",
       " 'homoeroticism']"
      ]
     },
     "execution_count": 66,
     "metadata": {},
     "output_type": "execute_result"
    }
   ],
   "source": [
    "genre_list"
   ]
  },
  {
   "cell_type": "code",
   "execution_count": 67,
   "id": "4e8c0e0d-fab2-432c-bf37-48e5b78b8558",
   "metadata": {},
   "outputs": [],
   "source": [
    "movies_genres = ['Action', 'Adventure', 'Comedy', 'Fantasy', 'Historical', 'Horror', 'Satire', 'Science finction', 'Speculative',\n",
    "                 'Thriller', 'Western', 'Drama', 'Horror', 'Documentary', 'Musical', 'Romance','Mystery', 'War', 'Biography', 'History',\n",
    "                 'zombie film', 'Alien', 'Musical', 'anti-war', 'Black-and-white', 'Cold war', 'combat', 'Conspiration', 'crime', \n",
    "                'Documentary', 'Erotic', 'Gay', 'LGBT', 'Political', 'Romantic']\n",
    "movies_genres = [x.lower() for x in movies_genres]"
   ]
  },
  {
   "cell_type": "code",
   "execution_count": 68,
   "id": "8b91b44c-0096-4c91-a7ad-342b7acfb2dc",
   "metadata": {},
   "outputs": [],
   "source": [
    "for genre in movies_genres:\n",
    "    movies_plot[genre] = movies_plot['Genres'].apply(lambda x: int(x.count(genre)>=1)) "
   ]
  },
  {
   "cell_type": "code",
   "execution_count": 69,
   "id": "e4022efc-f36c-4b0e-8fc6-66ea0cc6e940",
   "metadata": {},
   "outputs": [],
   "source": [
    "dictionnary_genres = pd.DataFrame()"
   ]
  },
  {
   "cell_type": "code",
   "execution_count": 70,
   "id": "92f0eb72-11f5-4323-ac2c-46b76223993d",
   "metadata": {},
   "outputs": [
    {
     "data": {
      "text/html": [
       "<div>\n",
       "<style scoped>\n",
       "    .dataframe tbody tr th:only-of-type {\n",
       "        vertical-align: middle;\n",
       "    }\n",
       "\n",
       "    .dataframe tbody tr th {\n",
       "        vertical-align: top;\n",
       "    }\n",
       "\n",
       "    .dataframe thead th {\n",
       "        text-align: right;\n",
       "    }\n",
       "</style>\n",
       "<table border=\"1\" class=\"dataframe\">\n",
       "  <thead>\n",
       "    <tr style=\"text-align: right;\">\n",
       "      <th></th>\n",
       "      <th>WW1</th>\n",
       "      <th>WW2</th>\n",
       "      <th>SpaceRace</th>\n",
       "    </tr>\n",
       "  </thead>\n",
       "  <tbody>\n",
       "    <tr>\n",
       "      <th>action</th>\n",
       "      <td>292</td>\n",
       "      <td>75</td>\n",
       "      <td>135</td>\n",
       "    </tr>\n",
       "    <tr>\n",
       "      <th>adventure</th>\n",
       "      <td>321</td>\n",
       "      <td>64</td>\n",
       "      <td>176</td>\n",
       "    </tr>\n",
       "    <tr>\n",
       "      <th>comedy</th>\n",
       "      <td>326</td>\n",
       "      <td>36</td>\n",
       "      <td>74</td>\n",
       "    </tr>\n",
       "    <tr>\n",
       "      <th>fantasy</th>\n",
       "      <td>116</td>\n",
       "      <td>11</td>\n",
       "      <td>51</td>\n",
       "    </tr>\n",
       "    <tr>\n",
       "      <th>historical</th>\n",
       "      <td>14</td>\n",
       "      <td>8</td>\n",
       "      <td>1</td>\n",
       "    </tr>\n",
       "  </tbody>\n",
       "</table>\n",
       "</div>"
      ],
      "text/plain": [
       "            WW1  WW2  SpaceRace\n",
       "action      292   75        135\n",
       "adventure   321   64        176\n",
       "comedy      326   36         74\n",
       "fantasy     116   11         51\n",
       "historical   14    8          1"
      ]
     },
     "execution_count": 70,
     "metadata": {},
     "output_type": "execute_result"
    }
   ],
   "source": [
    "dictionnary_genres['WW1'] = movies_plot[movies_plot['WW1'] > ww1T][movies_genres].sum()\n",
    "dictionnary_genres['WW2'] = movies_plot[movies_plot['WW2'] > ww2T][movies_genres].sum()\n",
    "dictionnary_genres['SpaceRace'] = movies_plot[movies_plot['SpaceRace'] > SpaceT][movies_genres].sum()\n",
    "dictionnary_genres.head()"
   ]
  },
  {
   "cell_type": "code",
   "execution_count": 71,
   "id": "761f0262-41f1-4445-97ed-952892843fa7",
   "metadata": {},
   "outputs": [
    {
     "data": {
      "image/png": "[encoded data removed]",
      "text/plain": [
       "<Figure size 720x720 with 2 Axes>"
      ]
     },
     "metadata": {
      "needs_background": "light"
     },
     "output_type": "display_data"
    }
   ],
   "source": [
    "plt.figure(figsize=(10,10))\n",
    "heat_map = sns.heatmap( dictionnary_genres, linewidth = 1 , annot = True)\n",
    "plt.title( \"HeatMap between Genre and historical event\" )\n",
    "plt.show()"
   ]
  },
  {
   "cell_type": "code",
   "execution_count": 75,
   "id": "f3a03b6b-f23a-45a0-a2f5-4a301ea8050e",
   "metadata": {},
   "outputs": [],
   "source": [
    "erotique_analysis=time_analysis('erotic', 0, freq='2y')\n",
    "gay_analysis=time_analysis('gay', 0, freq='2y')\n",
    "lgbt_analysis=time_analysis('lgbt', 0, freq='2y')\n",
    "WW1_analysis=time_analysis('WW1', 0, freq='2y')"
   ]
  },
  {
   "cell_type": "code",
   "execution_count": 76,
   "id": "14d629b2-9ec3-4a61-a7bb-6b016d26e264",
   "metadata": {},
   "outputs": [
    {
     "data": {
      "text/plain": [
       "<AxesSubplot:>"
      ]
     },
     "execution_count": 76,
     "metadata": {},
     "output_type": "execute_result"
    },
    {
     "data": {
      "image/png": "[encoded data removed]",
      "text/plain": [
       "<Figure size 432x288 with 2 Axes>"
      ]
     },
     "metadata": {
      "needs_background": "light"
     },
     "output_type": "display_data"
    }
   ],
   "source": [
    "WW1_analysis.number.plot(grid=True, label=\"number of film WW1\", legend=True)\n",
    "WW2_analysis.number.plot(secondary_y=True, label=\"number of film WW2\", legend=True)"
   ]
  },
  {
   "cell_type": "code",
   "execution_count": 77,
   "id": "71072007-93ba-4f99-90b0-3c06804c1dd3",
   "metadata": {},
   "outputs": [
    {
     "data": {
      "text/plain": [
       "<AxesSubplot:xlabel='Release_date'>"
      ]
     },
     "execution_count": 77,
     "metadata": {},
     "output_type": "execute_result"
    },
    {
     "data": {
      "image/png": "[encoded data removed]",
      "text/plain": [
       "<Figure size 432x288 with 1 Axes>"
      ]
     },
     "metadata": {
      "needs_background": "light"
     },
     "output_type": "display_data"
    }
   ],
   "source": [
    "erotique_analysis.number.plot(grid=True, label=\"number of film erotique\", legend=True)\n",
    "WW2_analysis.number.plot(label=\"number of film WW2\", legend=True)"
   ]
  },
  {
   "cell_type": "code",
   "execution_count": 78,
   "id": "55702629-cec6-48f2-9ecd-279961df7b98",
   "metadata": {},
   "outputs": [
    {
     "data": {
      "text/plain": [
       "<AxesSubplot:xlabel='Release_date'>"
      ]
     },
     "execution_count": 78,
     "metadata": {},
     "output_type": "execute_result"
    },
    {
     "data": {
      "image/png": "[encoded data removed]",
      "text/plain": [
       "<Figure size 432x288 with 1 Axes>"
      ]
     },
     "metadata": {
      "needs_background": "light"
     },
     "output_type": "display_data"
    }
   ],
   "source": [
    "gay_analysis.number.plot(label=\"number of film gay\", legend=True)\n",
    "lgbt_analysis.number.plot(label=\"number of film lgbt\", legend=True)"
   ]
  },
  {
   "cell_type": "markdown",
   "id": "8bec2ff4-e79e-4c6c-9e26-85c568367d56",
   "metadata": {},
   "source": [
    "## PCA "
   ]
  },
  {
   "cell_type": "markdown",
   "id": "9f606658-a719-43a0-912d-9baa139d0817",
   "metadata": {},
   "source": [
    "Let's define the features we will use in the PCA and that we will normalize. We could define more features by introducing character information i.e. gender ratio, age, height etc.. just need computation and fusion of DF."
   ]
  },
  {
   "cell_type": "markdown",
   "id": "1ee09023-4e59-4835-980f-ffe6f51b752c",
   "metadata": {},
   "source": [
    "-> start simple with 4 variables: box office, and the 3 events we have already"
   ]
  },
  {
   "cell_type": "code",
   "execution_count": 80,
   "id": "b4b75026-45f1-4eee-924f-9bac628722ac",
   "metadata": {},
   "outputs": [
    {
     "name": "stdout",
     "output_type": "stream",
     "text": [
      "[ 2.66910083e-17 -5.66598596e-17 -3.27784312e-17  1.31113725e-17] [1. 1. 1. 1.]\n"
     ]
    }
   ],
   "source": [
    "features = ['Box_office_revenue','WW1','WW2','SpaceRace']\n",
    "PCAfeature = movies_plot[features].dropna()\n",
    "PCAfeature= preprocessing.StandardScaler().fit(PCAfeature).transform(PCAfeature)\n",
    "print(np.mean(PCAfeature,axis = 0),np.std(PCAfeature,axis = 0))"
   ]
  },
  {
   "cell_type": "code",
   "execution_count": 81,
   "id": "b7a2304b-21b4-4f07-9a4c-5dd001c10f0b",
   "metadata": {},
   "outputs": [
    {
     "name": "stderr",
     "output_type": "stream",
     "text": [
      "No artists with labels found to put in legend.  Note that artists whose label start with an underscore are ignored when legend() is called with no argument.\n"
     ]
    },
    {
     "data": {
      "text/plain": [
       "<matplotlib.legend.Legend at 0x7ffdc3e4a910>"
      ]
     },
     "execution_count": 81,
     "metadata": {},
     "output_type": "execute_result"
    },
    {
     "data": {
      "image/png": "[encoded data removed]",
      "text/plain": [
       "<Figure size 432x288 with 1 Axes>"
      ]
     },
     "metadata": {
      "needs_background": "light"
     },
     "output_type": "display_data"
    }
   ],
   "source": [
    "pca = PCA(2)  \n",
    "projected = pca.fit_transform(PCAfeature)\n",
    "\n",
    "\n",
    "ax = plt.gca()\n",
    "arrowprops = dict(arrowstyle='-',linewidth=2,shrinkA=0,shrinkB=0)\n",
    "\n",
    "for i,f in enumerate(features):\n",
    "    ax.annotate(f,[0,0],10*pca.components_[:,i],arrowprops= arrowprops)\n",
    "    \n",
    "plt.plot(projected[:, 0], projected[:, 1],'r.')\n",
    "plt.xlabel('PC1')\n",
    "plt.ylabel('PC2')\n",
    "plt.legend()"
   ]
  },
  {
   "cell_type": "markdown",
   "id": "bf3e6b79-cdab-4337-a7f5-fbec2f9069fc",
   "metadata": {},
   "source": [
    "## Kmean analysis"
   ]
  },
  {
   "cell_type": "markdown",
   "id": "462647a7-877a-4c15-b7f8-0d867312c605",
   "metadata": {},
   "source": [
    "The same question is asked here, which features should we choose... For now, we will choose the same ones as in the PCA section."
   ]
  },
  {
   "cell_type": "code",
   "execution_count": 84,
   "id": "3fc0f5cf-87cf-4176-9b14-3bd8741231c9",
   "metadata": {},
   "outputs": [
    {
     "data": {
      "text/plain": [
       "array([1, 1, 1, ..., 1, 1, 1], dtype=int32)"
      ]
     },
     "execution_count": 84,
     "metadata": {},
     "output_type": "execute_result"
    }
   ],
   "source": [
    "features = ['Box_office_revenue','WW1','WW2','SpaceRace']\n",
    "PCAfeature = movies_plot[features].dropna()\n",
    "PCAfeature= preprocessing.StandardScaler().fit(PCAfeature).transform(PCAfeature) #\n",
    "kmeans = KMeans(n_clusters=4, random_state=1).fit(PCAfeature)\n",
    "kmeans.labels_"
   ]
  },
  {
   "cell_type": "markdown",
   "id": "8fa19741-aedb-4ba2-8f32-fb4c371b9311",
   "metadata": {},
   "source": [
    "We will plot the Kmean onto the 2 first PC"
   ]
  },
  {
   "cell_type": "code",
   "execution_count": 85,
   "id": "6e42f48f-bc4f-4388-85f9-74670e19cde4",
   "metadata": {},
   "outputs": [
    {
     "name": "stderr",
     "output_type": "stream",
     "text": [
      "No artists with labels found to put in legend.  Note that artists whose label start with an underscore are ignored when legend() is called with no argument.\n"
     ]
    },
    {
     "data": {
      "text/plain": [
       "<matplotlib.legend.Legend at 0x7ffda14378e0>"
      ]
     },
     "execution_count": 85,
     "metadata": {},
     "output_type": "execute_result"
    },
    {
     "data": {
      "image/png": "[encoded data removed]",
      "text/plain": [
       "<Figure size 432x288 with 1 Axes>"
      ]
     },
     "metadata": {
      "needs_background": "light"
     },
     "output_type": "display_data"
    }
   ],
   "source": [
    "ax = plt.gca()\n",
    "arrowprops = dict(arrowstyle='-',linewidth=2,shrinkA=0,shrinkB=0)\n",
    "\n",
    "for i,f in enumerate(features):\n",
    "    ax.annotate(f,[0,0],10*pca.components_[:,i],arrowprops= arrowprops)\n",
    "    \n",
    "plt.scatter(projected[:, 0], projected[:, 1],c = kmeans.labels_)\n",
    "plt.xlabel('PC1')\n",
    "plt.ylabel('PC2')\n",
    "plt.legend()"
   ]
  },
  {
   "cell_type": "markdown",
   "id": "188f5129-fdad-47af-926f-259aa0cb0627",
   "metadata": {},
   "source": [
    "# Some vizualisation (Nono's excellent code)"
   ]
  },
  {
   "cell_type": "code",
   "execution_count": 86,
   "id": "68bf16ea-60c6-4f0f-b95a-90eb00ced9ca",
   "metadata": {},
   "outputs": [
    {
     "data": {
      "image/png": "[encoded data removed]",
      "text/plain": [
       "<Figure size 1440x720 with 1 Axes>"
      ]
     },
     "metadata": {
      "needs_background": "light"
     },
     "output_type": "display_data"
    }
   ],
   "source": [
    "#number of movies in which a particular character type is present.\n",
    "values = []\n",
    "counts = []\n",
    "for v,c in merge_characters_type.groupby(by='Type') :\n",
    "    values += [v]\n",
    "    counts += [len(c)]\n",
    "plt.figure(figsize=(20,10))\n",
    "plt.vlines(values, 0, counts, color='C2', lw=4)\n",
    "plt.ylim(0,max(counts))\n",
    "plt.xticks(rotation='vertical')\n",
    "plt.show()"
   ]
  },
  {
   "cell_type": "code",
   "execution_count": 87,
   "id": "084084a0-c49a-41d0-82fd-2edfa6577ebc",
   "metadata": {},
   "outputs": [
    {
     "data": {
      "image/png": "[encoded data removed]",
      "text/plain": [
       "<Figure size 1440x720 with 1 Axes>"
      ]
     },
     "metadata": {
      "needs_background": "light"
     },
     "output_type": "display_data"
    }
   ],
   "source": [
    "#mean box office revenue of movies in which a particular character type is present.\n",
    "values = []\n",
    "counts = []\n",
    "for v,c in merge_characters_type.groupby(by='Type') :\n",
    "    values += [v]\n",
    "    counts += [c.Box_office_revenue.mean()]\n",
    "plt.figure(figsize=(20,10))\n",
    "plt.vlines(values, 0, counts, color='C1', lw=4)\n",
    "plt.ylim(0,max(counts))\n",
    "plt.xticks(rotation='vertical')\n",
    "plt.show()"
   ]
  },
  {
   "cell_type": "code",
   "execution_count": 88,
   "id": "16916501-8e38-4ef5-baa4-d45fada2aa77",
   "metadata": {},
   "outputs": [
    {
     "data": {
      "text/plain": [
       "crazy_jealous_guy              25\n",
       "corrupt_corporate_executive    23\n",
       "byronic_hero                   17\n",
       "psycho_for_hire                16\n",
       "father_to_his_men              15\n",
       "                               ..\n",
       "pupil_turned_to_evil            2\n",
       "the_editor                      2\n",
       "junkie_prophet                  2\n",
       "child_prodigy                   2\n",
       "classy_cat_burglar              1\n",
       "Name: Type, Length: 72, dtype: int64"
      ]
     },
     "execution_count": 88,
     "metadata": {},
     "output_type": "execute_result"
    }
   ],
   "source": [
    "merge_characters_type.Type.value_counts()"
   ]
  },
  {
   "cell_type": "markdown",
   "id": "aabf4af1-d377-43f5-a733-4aefd55fa117",
   "metadata": {},
   "source": [
    "look for the crazy jalouse guy"
   ]
  },
  {
   "cell_type": "code",
   "execution_count": 98,
   "id": "5377a480-cdb5-44ba-b908-b8788c8b7d32",
   "metadata": {},
   "outputs": [
    {
     "data": {
      "text/html": [
       "<div>\n",
       "<style scoped>\n",
       "    .dataframe tbody tr th:only-of-type {\n",
       "        vertical-align: middle;\n",
       "    }\n",
       "\n",
       "    .dataframe tbody tr th {\n",
       "        vertical-align: top;\n",
       "    }\n",
       "\n",
       "    .dataframe thead th {\n",
       "        text-align: right;\n",
       "    }\n",
       "</style>\n",
       "<table border=\"1\" class=\"dataframe\">\n",
       "  <thead>\n",
       "    <tr style=\"text-align: right;\">\n",
       "      <th></th>\n",
       "      <th>Wikipedia_movie_ID</th>\n",
       "      <th>Freebase_movie_ID</th>\n",
       "      <th>Movie_release_date</th>\n",
       "      <th>Character_name</th>\n",
       "      <th>Actor_birth</th>\n",
       "      <th>Actor_Gender</th>\n",
       "      <th>Actor Height</th>\n",
       "      <th>Actor_Ethnicity</th>\n",
       "      <th>Actor_Name</th>\n",
       "      <th>Age_at_movie_release</th>\n",
       "      <th>Freebase_character_actor_map_ID</th>\n",
       "      <th>Freebase_character_ID</th>\n",
       "      <th>Freebase_actor_ID</th>\n",
       "      <th>Type</th>\n",
       "      <th>movie</th>\n",
       "      <th>Languages</th>\n",
       "      <th>Countries</th>\n",
       "      <th>Genres</th>\n",
       "      <th>Box_office_revenue</th>\n",
       "      <th>Runtime</th>\n",
       "    </tr>\n",
       "  </thead>\n",
       "  <tbody>\n",
       "    <tr>\n",
       "      <th>7</th>\n",
       "      <td>142457</td>\n",
       "      <td>/m/011yqc</td>\n",
       "      <td>1997-05-14</td>\n",
       "      <td>Bud White</td>\n",
       "      <td>1964-04-07</td>\n",
       "      <td>M</td>\n",
       "      <td>1.80</td>\n",
       "      <td>Māori</td>\n",
       "      <td>Russell Crowe</td>\n",
       "      <td>33.0</td>\n",
       "      <td>/m/0j_n0t</td>\n",
       "      <td>/m/02h75l1</td>\n",
       "      <td>/m/06dv3</td>\n",
       "      <td>crazy_jealous_guy</td>\n",
       "      <td>L.A. Confidential</td>\n",
       "      <td>English Language</td>\n",
       "      <td>United States of America</td>\n",
       "      <td>[Thriller, Mystery, Crime Fiction, Drama]</td>\n",
       "      <td>126216940.0</td>\n",
       "      <td>136.0</td>\n",
       "    </tr>\n",
       "    <tr>\n",
       "      <th>20</th>\n",
       "      <td>1094719</td>\n",
       "      <td>/m/045j3w</td>\n",
       "      <td>2004-10-22</td>\n",
       "      <td>Takeo</td>\n",
       "      <td>1960-04-02</td>\n",
       "      <td>M</td>\n",
       "      <td>NaN</td>\n",
       "      <td>NaN</td>\n",
       "      <td>Takashi Matsuyama</td>\n",
       "      <td>44.0</td>\n",
       "      <td>/m/0hgc9dq</td>\n",
       "      <td>/m/0hgc9dt</td>\n",
       "      <td>/m/0drj3_</td>\n",
       "      <td>crazy_jealous_guy</td>\n",
       "      <td>The Grudge</td>\n",
       "      <td>Japanese Language\", \"/m/02h40lc\": \"English Lan...</td>\n",
       "      <td>United States of America\", \"/m/03_3d\": \"Japan</td>\n",
       "      <td>[Thriller, Horror, Supernatural, Mystery, Haun...</td>\n",
       "      <td>187281115.0</td>\n",
       "      <td>97.0</td>\n",
       "    </tr>\n",
       "    <tr>\n",
       "      <th>40</th>\n",
       "      <td>301314</td>\n",
       "      <td>/m/01rxyb</td>\n",
       "      <td>2003-10-10</td>\n",
       "      <td>Bill</td>\n",
       "      <td>1936-12-08</td>\n",
       "      <td>M</td>\n",
       "      <td>1.85</td>\n",
       "      <td>Scottish American</td>\n",
       "      <td>David Carradine</td>\n",
       "      <td>66.0</td>\n",
       "      <td>/m/0j_fvv</td>\n",
       "      <td>/m/03py3d</td>\n",
       "      <td>/m/02p5hf</td>\n",
       "      <td>crazy_jealous_guy</td>\n",
       "      <td>Kill Bill Volume 1</td>\n",
       "      <td>French Language\", \"/m/03_9r\": \"Japanese Langua...</td>\n",
       "      <td>United States of America</td>\n",
       "      <td>[Thriller, Spaghetti Western, Action/Adventure...</td>\n",
       "      <td>180949045.0</td>\n",
       "      <td>112.0</td>\n",
       "    </tr>\n",
       "  </tbody>\n",
       "</table>\n",
       "</div>"
      ],
      "text/plain": [
       "    Wikipedia_movie_ID Freebase_movie_ID Movie_release_date Character_name  \\\n",
       "7               142457         /m/011yqc         1997-05-14      Bud White   \n",
       "20             1094719         /m/045j3w         2004-10-22          Takeo   \n",
       "40              301314         /m/01rxyb         2003-10-10           Bill   \n",
       "\n",
       "   Actor_birth Actor_Gender  Actor Height    Actor_Ethnicity  \\\n",
       "7   1964-04-07            M          1.80              Māori   \n",
       "20  1960-04-02            M           NaN                NaN   \n",
       "40  1936-12-08            M          1.85  Scottish American   \n",
       "\n",
       "           Actor_Name  Age_at_movie_release Freebase_character_actor_map_ID  \\\n",
       "7       Russell Crowe                  33.0                       /m/0j_n0t   \n",
       "20  Takashi Matsuyama                  44.0                      /m/0hgc9dq   \n",
       "40    David Carradine                  66.0                       /m/0j_fvv   \n",
       "\n",
       "   Freebase_character_ID Freebase_actor_ID               Type  \\\n",
       "7             /m/02h75l1          /m/06dv3  crazy_jealous_guy   \n",
       "20            /m/0hgc9dt         /m/0drj3_  crazy_jealous_guy   \n",
       "40             /m/03py3d         /m/02p5hf  crazy_jealous_guy   \n",
       "\n",
       "                 movie                                          Languages  \\\n",
       "7    L.A. Confidential                                   English Language   \n",
       "20          The Grudge  Japanese Language\", \"/m/02h40lc\": \"English Lan...   \n",
       "40  Kill Bill Volume 1  French Language\", \"/m/03_9r\": \"Japanese Langua...   \n",
       "\n",
       "                                        Countries  \\\n",
       "7                        United States of America   \n",
       "20  United States of America\", \"/m/03_3d\": \"Japan   \n",
       "40                       United States of America   \n",
       "\n",
       "                                               Genres  Box_office_revenue  \\\n",
       "7           [Thriller, Mystery, Crime Fiction, Drama]         126216940.0   \n",
       "20  [Thriller, Horror, Supernatural, Mystery, Haun...         187281115.0   \n",
       "40  [Thriller, Spaghetti Western, Action/Adventure...         180949045.0   \n",
       "\n",
       "    Runtime  \n",
       "7     136.0  \n",
       "20     97.0  \n",
       "40    112.0  "
      ]
     },
     "execution_count": 98,
     "metadata": {},
     "output_type": "execute_result"
    }
   ],
   "source": [
    "Crazy_jalous_guy = merge_characters_type.loc[merge_characters_type['Type'].isin(['crazy_jealous_guy'])]\n",
    "Crazy_jalous_guy.head(3)"
   ]
  },
  {
   "cell_type": "code",
   "execution_count": 99,
   "id": "2d02cdd3-0d7a-4b7b-af10-861feb3d619d",
   "metadata": {},
   "outputs": [],
   "source": [
    "b = Crazy_jalous_guy.groupby((pd.to_datetime(Crazy_jalous_guy['Movie_release_date']).dt.to_period(freq='10Y'))).apply(lambda x: pd.Series({\n",
    "    'mean_height': x['Actor Height'].mean(),\n",
    "    'mean_age' : x['Age_at_movie_release'].mean(),\n",
    "    'mean_revenue' : x['Box_office_revenue'].mean(),\n",
    "    'mean_runtime' : x['Runtime'].mean(),\n",
    "    'number': x.Type.value_counts(), #verify that the number is not zero for a time period \n",
    "}))"
   ]
  },
  {
   "cell_type": "code",
   "execution_count": 100,
   "id": "e1cb008e",
   "metadata": {
    "scrolled": true
   },
   "outputs": [
    {
     "data": {
      "text/html": [
       "<div>\n",
       "<style scoped>\n",
       "    .dataframe tbody tr th:only-of-type {\n",
       "        vertical-align: middle;\n",
       "    }\n",
       "\n",
       "    .dataframe tbody tr th {\n",
       "        vertical-align: top;\n",
       "    }\n",
       "\n",
       "    .dataframe thead th {\n",
       "        text-align: right;\n",
       "    }\n",
       "</style>\n",
       "<table border=\"1\" class=\"dataframe\">\n",
       "  <thead>\n",
       "    <tr style=\"text-align: right;\">\n",
       "      <th></th>\n",
       "      <th>mean_height</th>\n",
       "      <th>mean_age</th>\n",
       "      <th>mean_revenue</th>\n",
       "      <th>mean_runtime</th>\n",
       "      <th>number</th>\n",
       "    </tr>\n",
       "    <tr>\n",
       "      <th>Movie_release_date</th>\n",
       "      <th></th>\n",
       "      <th></th>\n",
       "      <th></th>\n",
       "      <th></th>\n",
       "      <th></th>\n",
       "    </tr>\n",
       "  </thead>\n",
       "  <tbody>\n",
       "    <tr>\n",
       "      <th>1939</th>\n",
       "      <td>1.78</td>\n",
       "      <td>31.0</td>\n",
       "      <td>624643.0</td>\n",
       "      <td>104.0</td>\n",
       "      <td>crazy_jealous_guy    1\n",
       "Name: Type, dtype: int64</td>\n",
       "    </tr>\n",
       "  </tbody>\n",
       "</table>\n",
       "</div>"
      ],
      "text/plain": [
       "                    mean_height  mean_age  mean_revenue  mean_runtime  \\\n",
       "Movie_release_date                                                      \n",
       "1939                       1.78      31.0      624643.0         104.0   \n",
       "\n",
       "                                                             number  \n",
       "Movie_release_date                                                   \n",
       "1939                crazy_jealous_guy    1\n",
       "Name: Type, dtype: int64  "
      ]
     },
     "execution_count": 100,
     "metadata": {},
     "output_type": "execute_result"
    }
   ],
   "source": [
    "b.head(1)"
   ]
  },
  {
   "cell_type": "code",
   "execution_count": 101,
   "id": "472153f6-0424-4a96-86d9-08840610e6b4",
   "metadata": {},
   "outputs": [
    {
     "data": {
      "text/plain": [
       "<AxesSubplot:>"
      ]
     },
     "execution_count": 101,
     "metadata": {},
     "output_type": "execute_result"
    },
    {
     "data": {
      "image/png": "[encoded data removed]",
      "text/plain": [
       "<Figure size 432x288 with 2 Axes>"
      ]
     },
     "metadata": {
      "needs_background": "light"
     },
     "output_type": "display_data"
    }
   ],
   "source": [
    "#plot mean age and mean height of crazy jealous guy depending on the movie release date\n",
    "b.mean_age.plot(grid=True, label=\"mean_age\", legend=True)\n",
    "b.mean_height.plot(secondary_y=True, label=\"mean_height\", legend=True)"
   ]
  },
  {
   "cell_type": "code",
   "execution_count": 102,
   "id": "d673532a-c559-45e7-ad04-8b2ae413c243",
   "metadata": {},
   "outputs": [
    {
     "data": {
      "text/plain": [
       "<AxesSubplot:>"
      ]
     },
     "execution_count": 102,
     "metadata": {},
     "output_type": "execute_result"
    },
    {
     "data": {
      "image/png": "[encoded data removed]",
      "text/plain": [
       "<Figure size 432x288 with 2 Axes>"
      ]
     },
     "metadata": {
      "needs_background": "light"
     },
     "output_type": "display_data"
    }
   ],
   "source": [
    "#plot mean revenue and mean runtime of movies with a crazy jealous guy depending on the movie release date\n",
    "b.mean_revenue.plot(grid=True, label=\"mean_revenue\", legend=True)\n",
    "b.mean_runtime.plot(secondary_y=True, label=\"mean_runtime\", legend=True)"
   ]
  },
  {
   "cell_type": "code",
   "execution_count": 104,
   "id": "431474af-ffff-4c0f-a032-ef2b890f6603",
   "metadata": {},
   "outputs": [
    {
     "data": {
      "text/plain": [
       "Italian Americans         4\n",
       "Scottish American         2\n",
       "English people            2\n",
       "Māori                     1\n",
       "Scotch-Irish Americans    1\n",
       "German Americans          1\n",
       "Kiwi                      1\n",
       "Swedish Americans         1\n",
       "Jewish people             1\n",
       "Irish people              1\n",
       "Danish Americans          1\n",
       "British people            1\n",
       "Name: Actor_Ethnicity, dtype: int64"
      ]
     },
     "execution_count": 104,
     "metadata": {},
     "output_type": "execute_result"
    }
   ],
   "source": [
    "Crazy_jalous_guy.Actor_Ethnicity.value_counts() # mostly american"
   ]
  },
  {
   "cell_type": "code",
   "execution_count": 105,
   "id": "8261db7c-0250-4b81-80a5-9bf37359a302",
   "metadata": {},
   "outputs": [
    {
     "data": {
      "text/plain": [
       "True"
      ]
     },
     "execution_count": 105,
     "metadata": {},
     "output_type": "execute_result"
    }
   ],
   "source": [
    "Crazy_jalous_guy.movie.is_unique"
   ]
  },
  {
   "cell_type": "code",
   "execution_count": 107,
   "id": "f44a38b4-21a0-4c1c-a58d-c0e83e317b62",
   "metadata": {},
   "outputs": [
    {
     "ename": "ValueError",
     "evalue": "Pandas data cast to numpy dtype of object. Check input data with np.asarray(data).",
     "output_type": "error",
     "traceback": [
      "\u001b[0;31m---------------------------------------------------------------------------\u001b[0m",
      "\u001b[0;31mValueError\u001b[0m                                Traceback (most recent call last)",
      "Input \u001b[0;32mIn [107]\u001b[0m, in \u001b[0;36m<cell line: 1>\u001b[0;34m()\u001b[0m\n\u001b[0;32m----> 1\u001b[0m \u001b[43msns\u001b[49m\u001b[38;5;241;43m.\u001b[39;49m\u001b[43mregplot\u001b[49m\u001b[43m(\u001b[49m\u001b[43mx\u001b[49m\u001b[38;5;241;43m=\u001b[39;49m\u001b[38;5;124;43m'\u001b[39;49m\u001b[38;5;124;43mAge_at_movie_release\u001b[39;49m\u001b[38;5;124;43m'\u001b[39;49m\u001b[43m,\u001b[49m\u001b[43m \u001b[49m\u001b[43my\u001b[49m\u001b[38;5;241;43m=\u001b[39;49m\u001b[38;5;124;43m'\u001b[39;49m\u001b[38;5;124;43mActor_Gender\u001b[39;49m\u001b[38;5;124;43m'\u001b[39;49m\u001b[43m,\u001b[49m\u001b[43m \u001b[49m\u001b[43mdata\u001b[49m\u001b[38;5;241;43m=\u001b[39;49m\u001b[43mCrazy_jalous_guy\u001b[49m\u001b[43m,\u001b[49m\u001b[43m \u001b[49m\u001b[43mlogistic\u001b[49m\u001b[38;5;241;43m=\u001b[39;49m\u001b[38;5;28;43;01mTrue\u001b[39;49;00m\u001b[43m,\u001b[49m\u001b[43m \u001b[49m\u001b[43mci\u001b[49m\u001b[38;5;241;43m=\u001b[39;49m\u001b[38;5;28;43;01mNone\u001b[39;49;00m\u001b[43m)\u001b[49m\n",
      "File \u001b[0;32m~/opt/anaconda3/lib/python3.9/site-packages/seaborn/_decorators.py:46\u001b[0m, in \u001b[0;36m_deprecate_positional_args.<locals>.inner_f\u001b[0;34m(*args, **kwargs)\u001b[0m\n\u001b[1;32m     36\u001b[0m     warnings\u001b[38;5;241m.\u001b[39mwarn(\n\u001b[1;32m     37\u001b[0m         \u001b[38;5;124m\"\u001b[39m\u001b[38;5;124mPass the following variable\u001b[39m\u001b[38;5;132;01m{}\u001b[39;00m\u001b[38;5;124m as \u001b[39m\u001b[38;5;132;01m{}\u001b[39;00m\u001b[38;5;124mkeyword arg\u001b[39m\u001b[38;5;132;01m{}\u001b[39;00m\u001b[38;5;124m: \u001b[39m\u001b[38;5;132;01m{}\u001b[39;00m\u001b[38;5;124m. \u001b[39m\u001b[38;5;124m\"\u001b[39m\n\u001b[1;32m     38\u001b[0m         \u001b[38;5;124m\"\u001b[39m\u001b[38;5;124mFrom version 0.12, the only valid positional argument \u001b[39m\u001b[38;5;124m\"\u001b[39m\n\u001b[0;32m   (...)\u001b[0m\n\u001b[1;32m     43\u001b[0m         \u001b[38;5;167;01mFutureWarning\u001b[39;00m\n\u001b[1;32m     44\u001b[0m     )\n\u001b[1;32m     45\u001b[0m kwargs\u001b[38;5;241m.\u001b[39mupdate({k: arg \u001b[38;5;28;01mfor\u001b[39;00m k, arg \u001b[38;5;129;01min\u001b[39;00m \u001b[38;5;28mzip\u001b[39m(sig\u001b[38;5;241m.\u001b[39mparameters, args)})\n\u001b[0;32m---> 46\u001b[0m \u001b[38;5;28;01mreturn\u001b[39;00m \u001b[43mf\u001b[49m\u001b[43m(\u001b[49m\u001b[38;5;241;43m*\u001b[39;49m\u001b[38;5;241;43m*\u001b[39;49m\u001b[43mkwargs\u001b[49m\u001b[43m)\u001b[49m\n",
      "File \u001b[0;32m~/opt/anaconda3/lib/python3.9/site-packages/seaborn/regression.py:863\u001b[0m, in \u001b[0;36mregplot\u001b[0;34m(x, y, data, x_estimator, x_bins, x_ci, scatter, fit_reg, ci, n_boot, units, seed, order, logistic, lowess, robust, logx, x_partial, y_partial, truncate, dropna, x_jitter, y_jitter, label, color, marker, scatter_kws, line_kws, ax)\u001b[0m\n\u001b[1;32m    861\u001b[0m scatter_kws[\u001b[38;5;124m\"\u001b[39m\u001b[38;5;124mmarker\u001b[39m\u001b[38;5;124m\"\u001b[39m] \u001b[38;5;241m=\u001b[39m marker\n\u001b[1;32m    862\u001b[0m line_kws \u001b[38;5;241m=\u001b[39m {} \u001b[38;5;28;01mif\u001b[39;00m line_kws \u001b[38;5;129;01mis\u001b[39;00m \u001b[38;5;28;01mNone\u001b[39;00m \u001b[38;5;28;01melse\u001b[39;00m copy\u001b[38;5;241m.\u001b[39mcopy(line_kws)\n\u001b[0;32m--> 863\u001b[0m \u001b[43mplotter\u001b[49m\u001b[38;5;241;43m.\u001b[39;49m\u001b[43mplot\u001b[49m\u001b[43m(\u001b[49m\u001b[43max\u001b[49m\u001b[43m,\u001b[49m\u001b[43m \u001b[49m\u001b[43mscatter_kws\u001b[49m\u001b[43m,\u001b[49m\u001b[43m \u001b[49m\u001b[43mline_kws\u001b[49m\u001b[43m)\u001b[49m\n\u001b[1;32m    864\u001b[0m \u001b[38;5;28;01mreturn\u001b[39;00m ax\n",
      "File \u001b[0;32m~/opt/anaconda3/lib/python3.9/site-packages/seaborn/regression.py:370\u001b[0m, in \u001b[0;36m_RegressionPlotter.plot\u001b[0;34m(self, ax, scatter_kws, line_kws)\u001b[0m\n\u001b[1;32m    367\u001b[0m     \u001b[38;5;28mself\u001b[39m\u001b[38;5;241m.\u001b[39mscatterplot(ax, scatter_kws)\n\u001b[1;32m    369\u001b[0m \u001b[38;5;28;01mif\u001b[39;00m \u001b[38;5;28mself\u001b[39m\u001b[38;5;241m.\u001b[39mfit_reg:\n\u001b[0;32m--> 370\u001b[0m     \u001b[38;5;28;43mself\u001b[39;49m\u001b[38;5;241;43m.\u001b[39;49m\u001b[43mlineplot\u001b[49m\u001b[43m(\u001b[49m\u001b[43max\u001b[49m\u001b[43m,\u001b[49m\u001b[43m \u001b[49m\u001b[43mline_kws\u001b[49m\u001b[43m)\u001b[49m\n\u001b[1;32m    372\u001b[0m \u001b[38;5;66;03m# Label the axes\u001b[39;00m\n\u001b[1;32m    373\u001b[0m \u001b[38;5;28;01mif\u001b[39;00m \u001b[38;5;28mhasattr\u001b[39m(\u001b[38;5;28mself\u001b[39m\u001b[38;5;241m.\u001b[39mx, \u001b[38;5;124m\"\u001b[39m\u001b[38;5;124mname\u001b[39m\u001b[38;5;124m\"\u001b[39m):\n",
      "File \u001b[0;32m~/opt/anaconda3/lib/python3.9/site-packages/seaborn/regression.py:413\u001b[0m, in \u001b[0;36m_RegressionPlotter.lineplot\u001b[0;34m(self, ax, kws)\u001b[0m\n\u001b[1;32m    411\u001b[0m \u001b[38;5;124;03m\"\"\"Draw the model.\"\"\"\u001b[39;00m\n\u001b[1;32m    412\u001b[0m \u001b[38;5;66;03m# Fit the regression model\u001b[39;00m\n\u001b[0;32m--> 413\u001b[0m grid, yhat, err_bands \u001b[38;5;241m=\u001b[39m \u001b[38;5;28;43mself\u001b[39;49m\u001b[38;5;241;43m.\u001b[39;49m\u001b[43mfit_regression\u001b[49m\u001b[43m(\u001b[49m\u001b[43max\u001b[49m\u001b[43m)\u001b[49m\n\u001b[1;32m    414\u001b[0m edges \u001b[38;5;241m=\u001b[39m grid[\u001b[38;5;241m0\u001b[39m], grid[\u001b[38;5;241m-\u001b[39m\u001b[38;5;241m1\u001b[39m]\n\u001b[1;32m    416\u001b[0m \u001b[38;5;66;03m# Get set default aesthetics\u001b[39;00m\n",
      "File \u001b[0;32m~/opt/anaconda3/lib/python3.9/site-packages/seaborn/regression.py:210\u001b[0m, in \u001b[0;36m_RegressionPlotter.fit_regression\u001b[0;34m(self, ax, x_range, grid)\u001b[0m\n\u001b[1;32m    208\u001b[0m     \u001b[38;5;28;01mfrom\u001b[39;00m \u001b[38;5;21;01mstatsmodels\u001b[39;00m\u001b[38;5;21;01m.\u001b[39;00m\u001b[38;5;21;01mgenmod\u001b[39;00m\u001b[38;5;21;01m.\u001b[39;00m\u001b[38;5;21;01mgeneralized_linear_model\u001b[39;00m \u001b[38;5;28;01mimport\u001b[39;00m GLM\n\u001b[1;32m    209\u001b[0m     \u001b[38;5;28;01mfrom\u001b[39;00m \u001b[38;5;21;01mstatsmodels\u001b[39;00m\u001b[38;5;21;01m.\u001b[39;00m\u001b[38;5;21;01mgenmod\u001b[39;00m\u001b[38;5;21;01m.\u001b[39;00m\u001b[38;5;21;01mfamilies\u001b[39;00m \u001b[38;5;28;01mimport\u001b[39;00m Binomial\n\u001b[0;32m--> 210\u001b[0m     yhat, yhat_boots \u001b[38;5;241m=\u001b[39m \u001b[38;5;28;43mself\u001b[39;49m\u001b[38;5;241;43m.\u001b[39;49m\u001b[43mfit_statsmodels\u001b[49m\u001b[43m(\u001b[49m\u001b[43mgrid\u001b[49m\u001b[43m,\u001b[49m\u001b[43m \u001b[49m\u001b[43mGLM\u001b[49m\u001b[43m,\u001b[49m\n\u001b[1;32m    211\u001b[0m \u001b[43m                                            \u001b[49m\u001b[43mfamily\u001b[49m\u001b[38;5;241;43m=\u001b[39;49m\u001b[43mBinomial\u001b[49m\u001b[43m(\u001b[49m\u001b[43m)\u001b[49m\u001b[43m)\u001b[49m\n\u001b[1;32m    212\u001b[0m \u001b[38;5;28;01melif\u001b[39;00m \u001b[38;5;28mself\u001b[39m\u001b[38;5;241m.\u001b[39mlowess:\n\u001b[1;32m    213\u001b[0m     ci \u001b[38;5;241m=\u001b[39m \u001b[38;5;28;01mNone\u001b[39;00m\n",
      "File \u001b[0;32m~/opt/anaconda3/lib/python3.9/site-packages/seaborn/regression.py:281\u001b[0m, in \u001b[0;36m_RegressionPlotter.fit_statsmodels\u001b[0;34m(self, grid, model, **kwargs)\u001b[0m\n\u001b[1;32m    278\u001b[0m         yhat\u001b[38;5;241m.\u001b[39mfill(np\u001b[38;5;241m.\u001b[39mnan)\n\u001b[1;32m    279\u001b[0m     \u001b[38;5;28;01mreturn\u001b[39;00m yhat\n\u001b[0;32m--> 281\u001b[0m yhat \u001b[38;5;241m=\u001b[39m \u001b[43mreg_func\u001b[49m\u001b[43m(\u001b[49m\u001b[43mX\u001b[49m\u001b[43m,\u001b[49m\u001b[43m \u001b[49m\u001b[43my\u001b[49m\u001b[43m)\u001b[49m\n\u001b[1;32m    282\u001b[0m \u001b[38;5;28;01mif\u001b[39;00m \u001b[38;5;28mself\u001b[39m\u001b[38;5;241m.\u001b[39mci \u001b[38;5;129;01mis\u001b[39;00m \u001b[38;5;28;01mNone\u001b[39;00m:\n\u001b[1;32m    283\u001b[0m     \u001b[38;5;28;01mreturn\u001b[39;00m yhat, \u001b[38;5;28;01mNone\u001b[39;00m\n",
      "File \u001b[0;32m~/opt/anaconda3/lib/python3.9/site-packages/seaborn/regression.py:275\u001b[0m, in \u001b[0;36m_RegressionPlotter.fit_statsmodels.<locals>.reg_func\u001b[0;34m(_x, _y)\u001b[0m\n\u001b[1;32m    273\u001b[0m \u001b[38;5;28;01mdef\u001b[39;00m \u001b[38;5;21mreg_func\u001b[39m(_x, _y):\n\u001b[1;32m    274\u001b[0m     \u001b[38;5;28;01mtry\u001b[39;00m:\n\u001b[0;32m--> 275\u001b[0m         yhat \u001b[38;5;241m=\u001b[39m \u001b[43mmodel\u001b[49m\u001b[43m(\u001b[49m\u001b[43m_y\u001b[49m\u001b[43m,\u001b[49m\u001b[43m \u001b[49m\u001b[43m_x\u001b[49m\u001b[43m,\u001b[49m\u001b[43m \u001b[49m\u001b[38;5;241;43m*\u001b[39;49m\u001b[38;5;241;43m*\u001b[39;49m\u001b[43mkwargs\u001b[49m\u001b[43m)\u001b[49m\u001b[38;5;241m.\u001b[39mfit()\u001b[38;5;241m.\u001b[39mpredict(grid)\n\u001b[1;32m    276\u001b[0m     \u001b[38;5;28;01mexcept\u001b[39;00m glm\u001b[38;5;241m.\u001b[39mPerfectSeparationError:\n\u001b[1;32m    277\u001b[0m         yhat \u001b[38;5;241m=\u001b[39m np\u001b[38;5;241m.\u001b[39mempty(\u001b[38;5;28mlen\u001b[39m(grid))\n",
      "File \u001b[0;32m~/opt/anaconda3/lib/python3.9/site-packages/statsmodels/genmod/generalized_linear_model.py:316\u001b[0m, in \u001b[0;36mGLM.__init__\u001b[0;34m(self, endog, exog, family, offset, exposure, freq_weights, var_weights, missing, **kwargs)\u001b[0m\n\u001b[1;32m    313\u001b[0m \u001b[38;5;28mself\u001b[39m\u001b[38;5;241m.\u001b[39mfreq_weights \u001b[38;5;241m=\u001b[39m freq_weights\n\u001b[1;32m    314\u001b[0m \u001b[38;5;28mself\u001b[39m\u001b[38;5;241m.\u001b[39mvar_weights \u001b[38;5;241m=\u001b[39m var_weights\n\u001b[0;32m--> 316\u001b[0m \u001b[38;5;28;43msuper\u001b[39;49m\u001b[43m(\u001b[49m\u001b[43mGLM\u001b[49m\u001b[43m,\u001b[49m\u001b[43m \u001b[49m\u001b[38;5;28;43mself\u001b[39;49m\u001b[43m)\u001b[49m\u001b[38;5;241;43m.\u001b[39;49m\u001b[38;5;21;43m__init__\u001b[39;49m\u001b[43m(\u001b[49m\u001b[43mendog\u001b[49m\u001b[43m,\u001b[49m\u001b[43m \u001b[49m\u001b[43mexog\u001b[49m\u001b[43m,\u001b[49m\u001b[43m \u001b[49m\u001b[43mmissing\u001b[49m\u001b[38;5;241;43m=\u001b[39;49m\u001b[43mmissing\u001b[49m\u001b[43m,\u001b[49m\n\u001b[1;32m    317\u001b[0m \u001b[43m                          \u001b[49m\u001b[43moffset\u001b[49m\u001b[38;5;241;43m=\u001b[39;49m\u001b[43moffset\u001b[49m\u001b[43m,\u001b[49m\u001b[43m \u001b[49m\u001b[43mexposure\u001b[49m\u001b[38;5;241;43m=\u001b[39;49m\u001b[43mexposure\u001b[49m\u001b[43m,\u001b[49m\n\u001b[1;32m    318\u001b[0m \u001b[43m                          \u001b[49m\u001b[43mfreq_weights\u001b[49m\u001b[38;5;241;43m=\u001b[39;49m\u001b[43mfreq_weights\u001b[49m\u001b[43m,\u001b[49m\n\u001b[1;32m    319\u001b[0m \u001b[43m                          \u001b[49m\u001b[43mvar_weights\u001b[49m\u001b[38;5;241;43m=\u001b[39;49m\u001b[43mvar_weights\u001b[49m\u001b[43m,\u001b[49m\u001b[43m \u001b[49m\u001b[38;5;241;43m*\u001b[39;49m\u001b[38;5;241;43m*\u001b[39;49m\u001b[43mkwargs\u001b[49m\u001b[43m)\u001b[49m\n\u001b[1;32m    320\u001b[0m \u001b[38;5;28mself\u001b[39m\u001b[38;5;241m.\u001b[39m_check_inputs(family, \u001b[38;5;28mself\u001b[39m\u001b[38;5;241m.\u001b[39moffset, \u001b[38;5;28mself\u001b[39m\u001b[38;5;241m.\u001b[39mexposure, \u001b[38;5;28mself\u001b[39m\u001b[38;5;241m.\u001b[39mendog,\n\u001b[1;32m    321\u001b[0m                    \u001b[38;5;28mself\u001b[39m\u001b[38;5;241m.\u001b[39mfreq_weights, \u001b[38;5;28mself\u001b[39m\u001b[38;5;241m.\u001b[39mvar_weights)\n\u001b[1;32m    322\u001b[0m \u001b[38;5;28;01mif\u001b[39;00m offset \u001b[38;5;129;01mis\u001b[39;00m \u001b[38;5;28;01mNone\u001b[39;00m:\n",
      "File \u001b[0;32m~/opt/anaconda3/lib/python3.9/site-packages/statsmodels/base/model.py:267\u001b[0m, in \u001b[0;36mLikelihoodModel.__init__\u001b[0;34m(self, endog, exog, **kwargs)\u001b[0m\n\u001b[1;32m    266\u001b[0m \u001b[38;5;28;01mdef\u001b[39;00m \u001b[38;5;21m__init__\u001b[39m(\u001b[38;5;28mself\u001b[39m, endog, exog\u001b[38;5;241m=\u001b[39m\u001b[38;5;28;01mNone\u001b[39;00m, \u001b[38;5;241m*\u001b[39m\u001b[38;5;241m*\u001b[39mkwargs):\n\u001b[0;32m--> 267\u001b[0m     \u001b[38;5;28;43msuper\u001b[39;49m\u001b[43m(\u001b[49m\u001b[43m)\u001b[49m\u001b[38;5;241;43m.\u001b[39;49m\u001b[38;5;21;43m__init__\u001b[39;49m\u001b[43m(\u001b[49m\u001b[43mendog\u001b[49m\u001b[43m,\u001b[49m\u001b[43m \u001b[49m\u001b[43mexog\u001b[49m\u001b[43m,\u001b[49m\u001b[43m \u001b[49m\u001b[38;5;241;43m*\u001b[39;49m\u001b[38;5;241;43m*\u001b[39;49m\u001b[43mkwargs\u001b[49m\u001b[43m)\u001b[49m\n\u001b[1;32m    268\u001b[0m     \u001b[38;5;28mself\u001b[39m\u001b[38;5;241m.\u001b[39minitialize()\n",
      "File \u001b[0;32m~/opt/anaconda3/lib/python3.9/site-packages/statsmodels/base/model.py:92\u001b[0m, in \u001b[0;36mModel.__init__\u001b[0;34m(self, endog, exog, **kwargs)\u001b[0m\n\u001b[1;32m     90\u001b[0m missing \u001b[38;5;241m=\u001b[39m kwargs\u001b[38;5;241m.\u001b[39mpop(\u001b[38;5;124m'\u001b[39m\u001b[38;5;124mmissing\u001b[39m\u001b[38;5;124m'\u001b[39m, \u001b[38;5;124m'\u001b[39m\u001b[38;5;124mnone\u001b[39m\u001b[38;5;124m'\u001b[39m)\n\u001b[1;32m     91\u001b[0m hasconst \u001b[38;5;241m=\u001b[39m kwargs\u001b[38;5;241m.\u001b[39mpop(\u001b[38;5;124m'\u001b[39m\u001b[38;5;124mhasconst\u001b[39m\u001b[38;5;124m'\u001b[39m, \u001b[38;5;28;01mNone\u001b[39;00m)\n\u001b[0;32m---> 92\u001b[0m \u001b[38;5;28mself\u001b[39m\u001b[38;5;241m.\u001b[39mdata \u001b[38;5;241m=\u001b[39m \u001b[38;5;28;43mself\u001b[39;49m\u001b[38;5;241;43m.\u001b[39;49m\u001b[43m_handle_data\u001b[49m\u001b[43m(\u001b[49m\u001b[43mendog\u001b[49m\u001b[43m,\u001b[49m\u001b[43m \u001b[49m\u001b[43mexog\u001b[49m\u001b[43m,\u001b[49m\u001b[43m \u001b[49m\u001b[43mmissing\u001b[49m\u001b[43m,\u001b[49m\u001b[43m \u001b[49m\u001b[43mhasconst\u001b[49m\u001b[43m,\u001b[49m\n\u001b[1;32m     93\u001b[0m \u001b[43m                              \u001b[49m\u001b[38;5;241;43m*\u001b[39;49m\u001b[38;5;241;43m*\u001b[39;49m\u001b[43mkwargs\u001b[49m\u001b[43m)\u001b[49m\n\u001b[1;32m     94\u001b[0m \u001b[38;5;28mself\u001b[39m\u001b[38;5;241m.\u001b[39mk_constant \u001b[38;5;241m=\u001b[39m \u001b[38;5;28mself\u001b[39m\u001b[38;5;241m.\u001b[39mdata\u001b[38;5;241m.\u001b[39mk_constant\n\u001b[1;32m     95\u001b[0m \u001b[38;5;28mself\u001b[39m\u001b[38;5;241m.\u001b[39mexog \u001b[38;5;241m=\u001b[39m \u001b[38;5;28mself\u001b[39m\u001b[38;5;241m.\u001b[39mdata\u001b[38;5;241m.\u001b[39mexog\n",
      "File \u001b[0;32m~/opt/anaconda3/lib/python3.9/site-packages/statsmodels/base/model.py:132\u001b[0m, in \u001b[0;36mModel._handle_data\u001b[0;34m(self, endog, exog, missing, hasconst, **kwargs)\u001b[0m\n\u001b[1;32m    131\u001b[0m \u001b[38;5;28;01mdef\u001b[39;00m \u001b[38;5;21m_handle_data\u001b[39m(\u001b[38;5;28mself\u001b[39m, endog, exog, missing, hasconst, \u001b[38;5;241m*\u001b[39m\u001b[38;5;241m*\u001b[39mkwargs):\n\u001b[0;32m--> 132\u001b[0m     data \u001b[38;5;241m=\u001b[39m \u001b[43mhandle_data\u001b[49m\u001b[43m(\u001b[49m\u001b[43mendog\u001b[49m\u001b[43m,\u001b[49m\u001b[43m \u001b[49m\u001b[43mexog\u001b[49m\u001b[43m,\u001b[49m\u001b[43m \u001b[49m\u001b[43mmissing\u001b[49m\u001b[43m,\u001b[49m\u001b[43m \u001b[49m\u001b[43mhasconst\u001b[49m\u001b[43m,\u001b[49m\u001b[43m \u001b[49m\u001b[38;5;241;43m*\u001b[39;49m\u001b[38;5;241;43m*\u001b[39;49m\u001b[43mkwargs\u001b[49m\u001b[43m)\u001b[49m\n\u001b[1;32m    133\u001b[0m     \u001b[38;5;66;03m# kwargs arrays could have changed, easier to just attach here\u001b[39;00m\n\u001b[1;32m    134\u001b[0m     \u001b[38;5;28;01mfor\u001b[39;00m key \u001b[38;5;129;01min\u001b[39;00m kwargs:\n",
      "File \u001b[0;32m~/opt/anaconda3/lib/python3.9/site-packages/statsmodels/base/data.py:673\u001b[0m, in \u001b[0;36mhandle_data\u001b[0;34m(endog, exog, missing, hasconst, **kwargs)\u001b[0m\n\u001b[1;32m    670\u001b[0m     exog \u001b[38;5;241m=\u001b[39m np\u001b[38;5;241m.\u001b[39masarray(exog)\n\u001b[1;32m    672\u001b[0m klass \u001b[38;5;241m=\u001b[39m handle_data_class_factory(endog, exog)\n\u001b[0;32m--> 673\u001b[0m \u001b[38;5;28;01mreturn\u001b[39;00m \u001b[43mklass\u001b[49m\u001b[43m(\u001b[49m\u001b[43mendog\u001b[49m\u001b[43m,\u001b[49m\u001b[43m \u001b[49m\u001b[43mexog\u001b[49m\u001b[38;5;241;43m=\u001b[39;49m\u001b[43mexog\u001b[49m\u001b[43m,\u001b[49m\u001b[43m \u001b[49m\u001b[43mmissing\u001b[49m\u001b[38;5;241;43m=\u001b[39;49m\u001b[43mmissing\u001b[49m\u001b[43m,\u001b[49m\u001b[43m \u001b[49m\u001b[43mhasconst\u001b[49m\u001b[38;5;241;43m=\u001b[39;49m\u001b[43mhasconst\u001b[49m\u001b[43m,\u001b[49m\n\u001b[1;32m    674\u001b[0m \u001b[43m             \u001b[49m\u001b[38;5;241;43m*\u001b[39;49m\u001b[38;5;241;43m*\u001b[39;49m\u001b[43mkwargs\u001b[49m\u001b[43m)\u001b[49m\n",
      "File \u001b[0;32m~/opt/anaconda3/lib/python3.9/site-packages/statsmodels/base/data.py:82\u001b[0m, in \u001b[0;36mModelData.__init__\u001b[0;34m(self, endog, exog, missing, hasconst, **kwargs)\u001b[0m\n\u001b[1;32m     80\u001b[0m     \u001b[38;5;28mself\u001b[39m\u001b[38;5;241m.\u001b[39morig_endog \u001b[38;5;241m=\u001b[39m endog\n\u001b[1;32m     81\u001b[0m     \u001b[38;5;28mself\u001b[39m\u001b[38;5;241m.\u001b[39morig_exog \u001b[38;5;241m=\u001b[39m exog\n\u001b[0;32m---> 82\u001b[0m     \u001b[38;5;28mself\u001b[39m\u001b[38;5;241m.\u001b[39mendog, \u001b[38;5;28mself\u001b[39m\u001b[38;5;241m.\u001b[39mexog \u001b[38;5;241m=\u001b[39m \u001b[38;5;28;43mself\u001b[39;49m\u001b[38;5;241;43m.\u001b[39;49m\u001b[43m_convert_endog_exog\u001b[49m\u001b[43m(\u001b[49m\u001b[43mendog\u001b[49m\u001b[43m,\u001b[49m\u001b[43m \u001b[49m\u001b[43mexog\u001b[49m\u001b[43m)\u001b[49m\n\u001b[1;32m     84\u001b[0m \u001b[38;5;28mself\u001b[39m\u001b[38;5;241m.\u001b[39mconst_idx \u001b[38;5;241m=\u001b[39m \u001b[38;5;28;01mNone\u001b[39;00m\n\u001b[1;32m     85\u001b[0m \u001b[38;5;28mself\u001b[39m\u001b[38;5;241m.\u001b[39mk_constant \u001b[38;5;241m=\u001b[39m \u001b[38;5;241m0\u001b[39m\n",
      "File \u001b[0;32m~/opt/anaconda3/lib/python3.9/site-packages/statsmodels/base/data.py:507\u001b[0m, in \u001b[0;36mPandasData._convert_endog_exog\u001b[0;34m(self, endog, exog)\u001b[0m\n\u001b[1;32m    505\u001b[0m exog \u001b[38;5;241m=\u001b[39m exog \u001b[38;5;28;01mif\u001b[39;00m exog \u001b[38;5;129;01mis\u001b[39;00m \u001b[38;5;28;01mNone\u001b[39;00m \u001b[38;5;28;01melse\u001b[39;00m np\u001b[38;5;241m.\u001b[39masarray(exog)\n\u001b[1;32m    506\u001b[0m \u001b[38;5;28;01mif\u001b[39;00m endog\u001b[38;5;241m.\u001b[39mdtype \u001b[38;5;241m==\u001b[39m \u001b[38;5;28mobject\u001b[39m \u001b[38;5;129;01mor\u001b[39;00m exog \u001b[38;5;129;01mis\u001b[39;00m \u001b[38;5;129;01mnot\u001b[39;00m \u001b[38;5;28;01mNone\u001b[39;00m \u001b[38;5;129;01mand\u001b[39;00m exog\u001b[38;5;241m.\u001b[39mdtype \u001b[38;5;241m==\u001b[39m \u001b[38;5;28mobject\u001b[39m:\n\u001b[0;32m--> 507\u001b[0m     \u001b[38;5;28;01mraise\u001b[39;00m \u001b[38;5;167;01mValueError\u001b[39;00m(\u001b[38;5;124m\"\u001b[39m\u001b[38;5;124mPandas data cast to numpy dtype of object. \u001b[39m\u001b[38;5;124m\"\u001b[39m\n\u001b[1;32m    508\u001b[0m                      \u001b[38;5;124m\"\u001b[39m\u001b[38;5;124mCheck input data with np.asarray(data).\u001b[39m\u001b[38;5;124m\"\u001b[39m)\n\u001b[1;32m    509\u001b[0m \u001b[38;5;28;01mreturn\u001b[39;00m \u001b[38;5;28msuper\u001b[39m(PandasData, \u001b[38;5;28mself\u001b[39m)\u001b[38;5;241m.\u001b[39m_convert_endog_exog(endog, exog)\n",
      "\u001b[0;31mValueError\u001b[0m: Pandas data cast to numpy dtype of object. Check input data with np.asarray(data)."
     ]
    },
    {
     "data": {
      "image/png": "[encoded data removed]",
      "text/plain": [
       "<Figure size 432x288 with 1 Axes>"
      ]
     },
     "metadata": {
      "needs_background": "light"
     },
     "output_type": "display_data"
    }
   ],
   "source": [
    "sns.regplot(x='Age_at_movie_release', y='Actor_Gender', data=Crazy_jalous_guy, logistic=True, ci=None)"
   ]
  },
  {
   "cell_type": "code",
   "execution_count": null,
   "id": "28b1c7a0-2bcb-4e44-80bc-10e00b7586de",
   "metadata": {},
   "outputs": [],
   "source": []
  }
 ],
 "metadata": {
  "kernelspec": {
   "display_name": "Python 3 (ipykernel)",
   "language": "python",
   "name": "python3"
  },
  "language_info": {
   "codemirror_mode": {
    "name": "ipython",
    "version": 3
   },
   "file_extension": ".py",
   "mimetype": "text/x-python",
   "name": "python",
   "nbconvert_exporter": "python",
   "pygments_lexer": "ipython3",
   "version": "3.9.12"
  }
 },
 "nbformat": 4,
 "nbformat_minor": 5
}
